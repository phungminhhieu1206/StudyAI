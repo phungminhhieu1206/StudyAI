{
 "cells": [
  {
   "cell_type": "markdown",
   "id": "5a1979ac",
   "metadata": {},
   "source": [
    "## Introduction"
   ]
  },
  {
   "cell_type": "code",
   "execution_count": 1,
   "id": "1ecb3a2d",
   "metadata": {},
   "outputs": [
    {
     "name": "stdout",
     "output_type": "stream",
     "text": [
      "hello world\n"
     ]
    }
   ],
   "source": [
    "print(\"hello world\")"
   ]
  },
  {
   "cell_type": "markdown",
   "id": "77b612dd",
   "metadata": {},
   "source": [
    "## Python input"
   ]
  },
  {
   "cell_type": "code",
   "execution_count": 83,
   "id": "d774fca2",
   "metadata": {},
   "outputs": [
    {
     "name": "stdout",
     "output_type": "stream",
     "text": [
      "Enter username:Phùng Minh Hiếu\n",
      "Username is: Phùng Minh Hiếu\n"
     ]
    }
   ],
   "source": [
    "username = input(\"Enter username:\")\n",
    "print(\"Username is: \" + username)"
   ]
  },
  {
   "cell_type": "code",
   "execution_count": 87,
   "id": "78d72624",
   "metadata": {},
   "outputs": [
    {
     "name": "stdout",
     "output_type": "stream",
     "text": [
      "Enter new integer: 12\n",
      "Number: 12\n"
     ]
    }
   ],
   "source": [
    "# Lưu ý là tất cả những gì nhập vào sẽ convert dạng string\n",
    "number = int(input(\"Enter new integer: \"))\n",
    "print(\"Number: {}\".format(number))\n",
    "\n",
    "\n",
    "# Không ép về int sẽ báo lỗi !!"
   ]
  },
  {
   "cell_type": "markdown",
   "id": "4123677c",
   "metadata": {},
   "source": [
    "## Python format"
   ]
  },
  {
   "cell_type": "code",
   "execution_count": 88,
   "id": "10813beb",
   "metadata": {},
   "outputs": [
    {
     "name": "stdout",
     "output_type": "stream",
     "text": [
      "I want 3 pieces of item number 567 for 49.00 dollars.\n"
     ]
    }
   ],
   "source": [
    "quantity = 3\n",
    "itemno = 567\n",
    "price = 49\n",
    "myorder = \"I want {} pieces of item number {} for {:.2f} dollars.\"\n",
    "print(myorder.format(quantity, itemno, price))"
   ]
  },
  {
   "cell_type": "code",
   "execution_count": 89,
   "id": "f5631e22",
   "metadata": {},
   "outputs": [
    {
     "name": "stdout",
     "output_type": "stream",
     "text": [
      "I want 3 pieces of item number 567 for 49.00 dollars.\n"
     ]
    }
   ],
   "source": [
    "# Đúng chỉ mục truyền vào !\n",
    "quantity = 3\n",
    "itemno = 567\n",
    "price = 49\n",
    "myorder = \"I want {1} pieces of item number {0} for {2:.2f} dollars.\"\n",
    "print(myorder.format(itemno, quantity, price))"
   ]
  },
  {
   "cell_type": "code",
   "execution_count": 90,
   "id": "3aa84205",
   "metadata": {},
   "outputs": [
    {
     "name": "stdout",
     "output_type": "stream",
     "text": [
      "I have a Ford, it is a Mustang.\n"
     ]
    }
   ],
   "source": [
    "# Format dạng key=value\n",
    "myorder = \"I have a {carname}, it is a {model}.\"\n",
    "print(myorder.format(carname = \"Ford\", model = \"Mustang\"))"
   ]
  },
  {
   "cell_type": "markdown",
   "id": "b79829ee",
   "metadata": {},
   "source": [
    "## Variable"
   ]
  },
  {
   "cell_type": "code",
   "execution_count": 80,
   "id": "944a32cf",
   "metadata": {},
   "outputs": [
    {
     "name": "stdout",
     "output_type": "stream",
     "text": [
      "<class 'str'>\n",
      "3.12\n"
     ]
    }
   ],
   "source": [
    "# Casting\n",
    "x = str(3)\n",
    "y = int(\"12\")\n",
    "z = float(\"3.120\")\n",
    "print(type(x))\n",
    "print(z)"
   ]
  },
  {
   "cell_type": "code",
   "execution_count": 81,
   "id": "5b2dfabf",
   "metadata": {},
   "outputs": [
    {
     "name": "stdout",
     "output_type": "stream",
     "text": [
      "Orange Banana 3.0\n"
     ]
    }
   ],
   "source": [
    "x, y, z = \"Orange\", \"Banana\", float(3)\n",
    "print(x, y, z)"
   ]
  },
  {
   "cell_type": "code",
   "execution_count": 82,
   "id": "275d888a",
   "metadata": {},
   "outputs": [
    {
     "name": "stdout",
     "output_type": "stream",
     "text": [
      "Orange Orange Orange\n"
     ]
    }
   ],
   "source": [
    "x = y = z = \"Orange\"\n",
    "print(x + \" \" + y + \" \" + z)"
   ]
  },
  {
   "cell_type": "markdown",
   "id": "fe1b15dd",
   "metadata": {},
   "source": [
    "## Number"
   ]
  },
  {
   "cell_type": "code",
   "execution_count": 125,
   "id": "107b281d",
   "metadata": {},
   "outputs": [
    {
     "name": "stdout",
     "output_type": "stream",
     "text": [
      "<class 'int'>\n",
      "<class 'float'>\n",
      "<class 'complex'>\n",
      "35000.0\n",
      "True\n"
     ]
    }
   ],
   "source": [
    "x = 1 # int\n",
    "y = 35e3 # float\n",
    "z = 3 - 1j # complex\n",
    "print(type(x))\n",
    "print(type(y))\n",
    "print(type(z))\n",
    "print(y)\n",
    "\n",
    "# Checking number\n",
    "x = 200\n",
    "print(isinstance(x, int))"
   ]
  },
  {
   "cell_type": "code",
   "execution_count": 100,
   "id": "8ea2e6ab",
   "metadata": {},
   "outputs": [
    {
     "name": "stdout",
     "output_type": "stream",
     "text": [
      "1\n",
      "0.7485825311462375\n"
     ]
    }
   ],
   "source": [
    "import random\n",
    "print(random.randrange(1, 10)) # random 1 số trong khoảng [1, 10)\n",
    "print(random.random()) # random 1 số trong khoảng (0, 1)"
   ]
  },
  {
   "cell_type": "markdown",
   "id": "5375d196",
   "metadata": {},
   "source": [
    "## Strings"
   ]
  },
  {
   "cell_type": "code",
   "execution_count": 103,
   "id": "ceb50fa9",
   "metadata": {},
   "outputs": [
    {
     "name": "stdout",
     "output_type": "stream",
     "text": [
      "b\n",
      "a\n",
      "n\n",
      "a\n",
      "n\n",
      "a\n"
     ]
    }
   ],
   "source": [
    "for x in \"banana\":\n",
    "    print(x)"
   ]
  },
  {
   "cell_type": "code",
   "execution_count": 124,
   "id": "ac8f846f",
   "metadata": {},
   "outputs": [
    {
     "name": "stdout",
     "output_type": "stream",
     "text": [
      "13\n",
      "We are the so-called \"Vikings\" from the north.\n"
     ]
    }
   ],
   "source": [
    "# Lấy độ dài chuỗi\n",
    "a = \"Hello world !\"\n",
    "print(len(a))\n",
    "\n",
    "# Escape Character\n",
    "txt = \"We are the so-called \\\"Vikings\\\" from the north.\"\n",
    "print(txt)"
   ]
  },
  {
   "cell_type": "code",
   "execution_count": 110,
   "id": "62b14798",
   "metadata": {},
   "outputs": [
    {
     "name": "stdout",
     "output_type": "stream",
     "text": [
      "Yes, 'free' is present.\n",
      "Yes, 'expensive' is NOT present.\n"
     ]
    }
   ],
   "source": [
    "# Checking item of string\n",
    "txt = \"The best things in life are free!\"\n",
    "if \"free\" in txt:\n",
    "    print(\"Yes, 'free' is present.\")\n",
    "if \"expensive\" not in txt:\n",
    "    print(\"Yes, 'expensive' is NOT present.\")"
   ]
  },
  {
   "cell_type": "code",
   "execution_count": 113,
   "id": "0367144d",
   "metadata": {},
   "outputs": [
    {
     "name": "stdout",
     "output_type": "stream",
     "text": [
      "llo\n",
      "Hello\n",
      "llo, World!\n"
     ]
    }
   ],
   "source": [
    "# Slicing Strings (Cắt chuỗi)\n",
    "b = \"Hello, World!\"\n",
    "print(b[2:5]) # cắt từ index = 2 đến index = (5-1)\n",
    "print(b[:5]) # cắt từ đầu đến index = (5-1)\n",
    "print(b[2:]) # cắt từ index = 2 đến cuối chuỗi"
   ]
  },
  {
   "cell_type": "code",
   "execution_count": 119,
   "id": "894ac80e",
   "metadata": {},
   "outputs": [
    {
     "name": "stdout",
     "output_type": "stream",
     "text": [
      "   HELLO, WORLD!  \n",
      "   hello, world!  \n",
      "Hello, World!\n",
      "   Hello, World!  \n",
      "['   Hello', ' World!  ']\n",
      "Hello\n",
      "World!\n"
     ]
    }
   ],
   "source": [
    "# Modify string (Chỉnh sửa chuỗi)\n",
    "a = \"   Hello, World!  \"\n",
    "print(a.upper())\n",
    "print(a.lower())\n",
    "print(a.strip()) # Bỏ các space hai đầu\n",
    "print(a.replace(\"K\", \"J\")) # Tìm kiếm và thay thế, ko tìm thấy thì giữ nguyên chuỗi cũ.\n",
    "print(a.split(\",\")) # Tách từ trong chuỗi thành mảng từ, chỉ định ký tự tách từ\n",
    "for x in a.split(\",\"): # tách\n",
    "    print(x.strip()) # bỏ space hai đầu"
   ]
  },
  {
   "cell_type": "code",
   "execution_count": 121,
   "id": "1a9abda5",
   "metadata": {},
   "outputs": [
    {
     "name": "stdout",
     "output_type": "stream",
     "text": [
      "Hello World\n"
     ]
    }
   ],
   "source": [
    "# Concatenation String (Nối chuỗi)\n",
    "a = \"Hello\"\n",
    "b = \"World\"\n",
    "c = a + \" \" + b\n",
    "print(c)"
   ]
  },
  {
   "cell_type": "code",
   "execution_count": 123,
   "id": "b20b5bea",
   "metadata": {},
   "outputs": [
    {
     "name": "stdout",
     "output_type": "stream",
     "text": [
      "I want 3 pieces of item 567 for 49.95 dollars.\n"
     ]
    }
   ],
   "source": [
    "# String Format\n",
    "quantity = 3\n",
    "itemno = 567\n",
    "price = 49.95\n",
    "print(\"I want {} pieces of item {} for {} dollars.\".format(quantity, itemno, price))"
   ]
  },
  {
   "cell_type": "markdown",
   "id": "0a547cf2",
   "metadata": {},
   "source": [
    "## Python Lists"
   ]
  },
  {
   "cell_type": "code",
   "execution_count": 131,
   "id": "f7879a59",
   "metadata": {},
   "outputs": [
    {
     "name": "stdout",
     "output_type": "stream",
     "text": [
      "['apple', 'banana', 'cherry']\n",
      "<class 'list'>\n",
      "3\n"
     ]
    }
   ],
   "source": [
    "# Ngoặc vuông\n",
    "thislist = [\"apple\", \"banana\", \"cherry\"]\n",
    "print(thislist)\n",
    "print(type(thislist))\n",
    "\n",
    "# Số phần tử của danh sách\n",
    "print(len(thislist))\n",
    "\n",
    "# Có thể có kiểu nguyên thủy đa dạng trong 1 danh sách\n",
    "list1 = [\"abc\", 34, True, 40, \"male\"]"
   ]
  },
  {
   "cell_type": "markdown",
   "id": "08d6a706",
   "metadata": {},
   "source": [
    "### 1. List Basic\n",
    "* Truy cập\n",
    "* Thêm/Sửa/Xóa nội dung list"
   ]
  },
  {
   "cell_type": "code",
   "execution_count": 140,
   "id": "2e3c6d8e",
   "metadata": {},
   "outputs": [
    {
     "name": "stdout",
     "output_type": "stream",
     "text": [
      "Dãy ban đầu: ['apple', 'banana', 'cherry', 'orange', 'kiwi', 'melon', 'mango']\n",
      "Phần tử từ 2 đến 4: ['cherry', 'orange', 'kiwi']\n",
      "['apple', 'banana', 'cherry', 'orange', 'kiwi']\n",
      "['cherry', 'orange', 'kiwi', 'melon', 'mango']\n"
     ]
    }
   ],
   "source": [
    "# Truy cập phần tử\n",
    "thislist = list((\"apple\", \"banana\", \"cherry\", \"orange\", \"kiwi\", \"melon\", \"mango\"))\n",
    "print(\"Dãy ban đầu: {}\".format(thislist))\n",
    "print(\"Phần tử từ 2 đến 4: {}\".format(thislist[2:5])) # lấy phần tử index=2 dến index=(5-1)\n",
    "print(thislist[:5]) # lấy từ đầu đến index=(5-1)\n",
    "print(thislist[2:]) # lấy từ index=2 đến cuối"
   ]
  },
  {
   "cell_type": "code",
   "execution_count": 143,
   "id": "9ed73a93",
   "metadata": {},
   "outputs": [
    {
     "name": "stdout",
     "output_type": "stream",
     "text": [
      "['apple', 'blackcurrant', 'watermelon', 'watermelon', 'grape', 'watermelon', 'orange', 'kiwi', 'melon', 'mango']\n",
      "['apple', 'blackcurrant', 'watermelon', 'grape', 'watermelon', 'watermelon', 'grape', 'watermelon', 'orange', 'kiwi', 'melon', 'mango']\n",
      "['apple', 'watermelon', 'grape', 'watermelon', 'watermelon', 'grape', 'watermelon', 'orange', 'kiwi', 'melon', 'mango']\n",
      "['start', 'apple', 'watermelon', 'grape', 'watermelon', 'watermelon', 'grape', 'watermelon', 'orange', 'kiwi', 'melon', 'mango']\n"
     ]
    }
   ],
   "source": [
    "# Change list items (Thay đổi một bộ phận trong list)\n",
    "thislist[1:3] = [\"blackcurrant\", \"watermelon\"] # từ index=1 đến index=(3-1)\n",
    "print(thislist)\n",
    "\n",
    "# Nếu số lượng thay thế > số lượng phần tử trỏ => chèn liên tiếp\n",
    "thislist[1:2] = [\"blackcurrant\", \"watermelon\", \"grape\"] # thay thế phần tử có index=1\n",
    "print(thislist)\n",
    "\n",
    "# Ngược lại số lượng thay thế < số lượng phần tử chọn => cắt bớt rồi chèn\n",
    "thislist[1:3] = [\"watermelon\"] # thay thế 2 phần tử bằng 1 phần tử\n",
    "print(thislist)\n",
    "\n",
    "# Hoặc chọn chỗ muốn chèn\n",
    "thislist.insert(0, \"start\") # chèn thêm \"start\" vào đầu (index=0)\n",
    "print(thislist)\n"
   ]
  },
  {
   "cell_type": "code",
   "execution_count": 146,
   "id": "349a5145",
   "metadata": {},
   "outputs": [
    {
     "name": "stdout",
     "output_type": "stream",
     "text": [
      "['apple', 'banana', 'cherry']\n",
      "['apple', 'banana', 'cherry', 'orange']\n",
      "['apple', 'banana', 'cherry', 'orange', 'mango', 'pineapple', 'papaya']\n"
     ]
    }
   ],
   "source": [
    "# Thêm 1 mục vào cuối danh sách\n",
    "thislist = [\"apple\", \"banana\", \"cherry\"]\n",
    "print(thislist)\n",
    "thislist.append(\"orange\")\n",
    "print(thislist)\n",
    "\n",
    "# Nối 1 list vào sau 1 list\n",
    "tropical = [\"mango\", \"pineapple\", \"papaya\"]\n",
    "thislist.extend(tropical)\n",
    "print(thislist)"
   ]
  },
  {
   "cell_type": "code",
   "execution_count": 159,
   "id": "fe32d7ba",
   "metadata": {
    "scrolled": true
   },
   "outputs": [
    {
     "name": "stdout",
     "output_type": "stream",
     "text": [
      "['apple', 'cherry']\n",
      "['apple', 'cherry']\n",
      "['apple', 'banana']\n",
      "[]\n"
     ]
    },
    {
     "ename": "NameError",
     "evalue": "name 'thislist' is not defined",
     "output_type": "error",
     "traceback": [
      "\u001b[1;31m---------------------------------------------------------------------------\u001b[0m",
      "\u001b[1;31mNameError\u001b[0m                                 Traceback (most recent call last)",
      "\u001b[1;32m<ipython-input-159-09e02c8d9ec1>\u001b[0m in \u001b[0;36m<module>\u001b[1;34m\u001b[0m\n\u001b[0;32m     23\u001b[0m \u001b[1;31m# Xóa danh sách hoàn toàn (mất khai báo ds)\u001b[0m\u001b[1;33m\u001b[0m\u001b[1;33m\u001b[0m\u001b[1;33m\u001b[0m\u001b[0m\n\u001b[0;32m     24\u001b[0m \u001b[1;32mdel\u001b[0m \u001b[0mthislist\u001b[0m\u001b[1;33m\u001b[0m\u001b[1;33m\u001b[0m\u001b[0m\n\u001b[1;32m---> 25\u001b[1;33m \u001b[0mprint\u001b[0m\u001b[1;33m(\u001b[0m\u001b[0mthislist\u001b[0m\u001b[1;33m)\u001b[0m \u001b[1;31m# lỗi chưa khai báo thislist\u001b[0m\u001b[1;33m\u001b[0m\u001b[1;33m\u001b[0m\u001b[0m\n\u001b[0m",
      "\u001b[1;31mNameError\u001b[0m: name 'thislist' is not defined"
     ]
    }
   ],
   "source": [
    "# Xóa theo nội dung\n",
    "thislist = [\"apple\", \"banana\", \"cherry\"]\n",
    "thislist.remove(\"banana\")\n",
    "print(thislist)\n",
    "\n",
    "# Hoặc xóa theo index\n",
    "thislist = [\"apple\", \"banana\", \"cherry\"]\n",
    "thislist.pop(1)\n",
    "# hoặc dùng: \n",
    "# del thislist[1]\n",
    "print(thislist)\n",
    "\n",
    "# Xóa phần tử cuối\n",
    "thislist = [\"apple\", \"banana\", \"cherry\"]\n",
    "thislist.pop() # không ghi rõ index, default index = -1\n",
    "print(thislist)\n",
    "\n",
    "# Xóa toàn bộ nội dung, danh sách vẫn còn\n",
    "thislist = [\"apple\", \"banana\", \"cherry\"]\n",
    "thislist.clear()\n",
    "print(thislist)\n",
    "\n",
    "# Xóa danh sách hoàn toàn (mất khai báo ds)\n",
    "del thislist\n",
    "print(thislist) # lỗi chưa khai báo thislist"
   ]
  },
  {
   "cell_type": "markdown",
   "id": "0ec58f62",
   "metadata": {},
   "source": [
    "### 2. Loop Lists"
   ]
  },
  {
   "cell_type": "code",
   "execution_count": 158,
   "id": "d1844e81",
   "metadata": {},
   "outputs": [
    {
     "name": "stdout",
     "output_type": "stream",
     "text": [
      "apple\n",
      "banana\n",
      "cherry\n"
     ]
    }
   ],
   "source": [
    "# Loop Lists\n",
    "thislist = [\"apple\", \"banana\", \"cherry\"]\n",
    "for x in thislist:\n",
    "    print(x)"
   ]
  },
  {
   "cell_type": "code",
   "execution_count": 163,
   "id": "b3d26529",
   "metadata": {},
   "outputs": [
    {
     "name": "stdout",
     "output_type": "stream",
     "text": [
      "apple\n",
      "banana\n",
      "cherry\n"
     ]
    }
   ],
   "source": [
    "# Loop index\n",
    "thislist = [\"apple\", \"banana\", \"cherry\"]\n",
    "for x in range(len(thislist)):\n",
    "    print(thislist[x])"
   ]
  },
  {
   "cell_type": "code",
   "execution_count": 164,
   "id": "d8507d48",
   "metadata": {},
   "outputs": [
    {
     "name": "stdout",
     "output_type": "stream",
     "text": [
      "apple\n",
      "banana\n",
      "cherry\n"
     ]
    }
   ],
   "source": [
    "# Hoặc dùng while\n",
    "i = 0\n",
    "while i < len(thislist):\n",
    "    print(thislist[i])\n",
    "    i += 1"
   ]
  },
  {
   "cell_type": "markdown",
   "id": "5489c63b",
   "metadata": {},
   "source": [
    "### 3. Sort list"
   ]
  },
  {
   "cell_type": "code",
   "execution_count": 165,
   "id": "e91a1018",
   "metadata": {},
   "outputs": [
    {
     "name": "stdout",
     "output_type": "stream",
     "text": [
      "['banana', 'kiwi', 'mango', 'orange', 'pineapple']\n"
     ]
    }
   ],
   "source": [
    "thislist = [\"orange\", \"mango\", \"kiwi\", \"pineapple\", \"banana\"]\n",
    "thislist.sort()\n",
    "print(thislist)"
   ]
  },
  {
   "cell_type": "code",
   "execution_count": 166,
   "id": "e0fcd9d9",
   "metadata": {},
   "outputs": [
    {
     "name": "stdout",
     "output_type": "stream",
     "text": [
      "[23, 50, 65, 82, 100]\n"
     ]
    }
   ],
   "source": [
    "# Sắp xếp không giảm\n",
    "thislist = [100, 50, 65, 82, 23]\n",
    "thislist.sort()\n",
    "print(thislist)"
   ]
  },
  {
   "cell_type": "code",
   "execution_count": 167,
   "id": "a8c5acd8",
   "metadata": {},
   "outputs": [
    {
     "name": "stdout",
     "output_type": "stream",
     "text": [
      "[100, 82, 65, 50, 23]\n"
     ]
    }
   ],
   "source": [
    "# Sắp xếp không tăng\n",
    "thislist = [100, 50, 65, 82, 23]\n",
    "thislist.sort(reverse = True)\n",
    "print(thislist)"
   ]
  },
  {
   "cell_type": "code",
   "execution_count": 168,
   "id": "6ddb2298",
   "metadata": {},
   "outputs": [
    {
     "name": "stdout",
     "output_type": "stream",
     "text": [
      "[50, 65, 23, 82, 100]\n"
     ]
    }
   ],
   "source": [
    "# Sắp xếp có điều kiện, kèm hàm\n",
    "def check_sort(n):\n",
    "    return abs(n - 50)\n",
    "\n",
    "thislist = [100, 50, 65, 82, 23]\n",
    "thislist.sort(key = check_sort)\n",
    "print(thislist)"
   ]
  },
  {
   "cell_type": "code",
   "execution_count": 169,
   "id": "83f08d3a",
   "metadata": {},
   "outputs": [
    {
     "name": "stdout",
     "output_type": "stream",
     "text": [
      "['banana', 'cherry', 'Kiwi', 'Orange']\n"
     ]
    }
   ],
   "source": [
    "# Sắp xếp có phân biệt chữ hoa chữ thường đôi khi cho kqua không như mong muốn\n",
    "# Cải thiện như sau, ép kiểu phần tử về chữ thường trước rồi sắp xếp\n",
    "\n",
    "thislist = [\"banana\", \"Orange\", \"Kiwi\", \"cherry\"]\n",
    "thislist.sort(key = str.lower)\n",
    "print(thislist)"
   ]
  },
  {
   "cell_type": "code",
   "execution_count": 170,
   "id": "cf7efe7c",
   "metadata": {},
   "outputs": [
    {
     "name": "stdout",
     "output_type": "stream",
     "text": [
      "['cherry', 'Kiwi', 'Orange', 'banana']\n"
     ]
    }
   ],
   "source": [
    "# Đảo ngược thứ tự ban đầu của list\n",
    "thislist = [\"banana\", \"Orange\", \"Kiwi\", \"cherry\"]\n",
    "thislist.reverse()\n",
    "print(thislist)"
   ]
  },
  {
   "cell_type": "markdown",
   "id": "3c898362",
   "metadata": {},
   "source": [
    "### 4. List copy()"
   ]
  },
  {
   "cell_type": "code",
   "execution_count": 174,
   "id": "2d4706f0",
   "metadata": {},
   "outputs": [
    {
     "name": "stdout",
     "output_type": "stream",
     "text": [
      "['apple', 'banana', 'cherry']\n"
     ]
    }
   ],
   "source": [
    "# Cách 1: Sử dụng phương thức .copy()\n",
    "thislist = [\"apple\", \"banana\", \"cherry\"]\n",
    "mylist = thislist.copy()\n",
    "del thislist\n",
    "print(mylist)"
   ]
  },
  {
   "cell_type": "code",
   "execution_count": 173,
   "id": "08a3a839",
   "metadata": {},
   "outputs": [
    {
     "name": "stdout",
     "output_type": "stream",
     "text": [
      "['apple', 'banana', 'cherry']\n"
     ]
    }
   ],
   "source": [
    "# Hoặc tạo 1 bản sao bằng hàm list() có sẵn\n",
    "thislist = [\"apple\", \"banana\", \"cherry\"]\n",
    "mylist = list(thislist)\n",
    "del thislist\n",
    "print(mylist)"
   ]
  },
  {
   "cell_type": "code",
   "execution_count": 176,
   "id": "745d7dee",
   "metadata": {},
   "outputs": [
    {
     "name": "stdout",
     "output_type": "stream",
     "text": [
      "[]\n"
     ]
    }
   ],
   "source": [
    "# Gán tên sẽ cho cùng tham chiếu\n",
    "thislist = [\"apple\", \"banana\", \"cherry\"]\n",
    "mylist = thislist # tham chiếu cùng chỗ\n",
    "thislist.clear() # xóa nội dung\n",
    "print(mylist)"
   ]
  },
  {
   "cell_type": "markdown",
   "id": "1f9c58bd",
   "metadata": {},
   "source": [
    "### 5. Tổng hợp List Methods"
   ]
  },
  {
   "cell_type": "code",
   "execution_count": null,
   "id": "f0abe4fd",
   "metadata": {},
   "outputs": [],
   "source": [
    "# .append(value) : Thêm phần tử vào cuối list\n",
    "# .clear(): Xóa nội dung list\n",
    "# .copy(): Trả về một bản copy của list\n",
    "# .count(value): Trả về số lượng phần tử có giá trị value trong list\n",
    "# .extend(list_back): Nối list_back vào sau list gọi extend()\n",
    "# .insert(index, value): Chèn value vào vị trí index của list, các phần tử khác tự động lùi sau\n",
    "# .pop(): Xóa phần tử cuối cùng của list\n",
    "# .remove(value): Xóa phần tử đầu tiên tìm thấy có giá trị value trong list \n",
    "# .reverse(): đảo ngược list\n",
    "# .sort(): Sắp xếp không giảm\n",
    "# .sort(reverse = True): Sắp xếp không tăng\n",
    "# .sort(key = name_func): Sắp xếp với điều kiện định nghĩa trong hàm name_func()"
   ]
  },
  {
   "cell_type": "markdown",
   "id": "7dcad055",
   "metadata": {},
   "source": [
    "## Python Tuples"
   ]
  },
  {
   "cell_type": "code",
   "execution_count": null,
   "id": "65fbca11",
   "metadata": {},
   "outputs": [],
   "source": [
    "# Tuple là bộ được sắp xếp theo thứ tự ban đầu định nghĩa, cho phép trùng lặp value\n",
    "# KHÔNG THỂ THAY ĐỔI\n",
    "# KHÔNG (thêm, sửa, xóa, sắp xếp)"
   ]
  },
  {
   "cell_type": "markdown",
   "id": "7d2a0e2e",
   "metadata": {},
   "source": [
    "### 1. Tuple Basic"
   ]
  },
  {
   "cell_type": "code",
   "execution_count": 182,
   "id": "ec863acb",
   "metadata": {},
   "outputs": [
    {
     "name": "stdout",
     "output_type": "stream",
     "text": [
      "('apple', 'banana', 'cherry')\n",
      "('apple', 'banana', 'cherry')\n"
     ]
    }
   ],
   "source": [
    "# Ngoặc tròn ()\n",
    "mytuple = (\"apple\", \"banana\", \"cherry\")\n",
    "print(mytuple)\n",
    "\n",
    "# Hoặc tạo theo hàm tuple()\n",
    "thistuple = tuple((\"apple\", \"banana\", \"cherry\"))\n",
    "print(thistuple)"
   ]
  },
  {
   "cell_type": "code",
   "execution_count": 180,
   "id": "dc8fdc77",
   "metadata": {},
   "outputs": [
    {
     "name": "stdout",
     "output_type": "stream",
     "text": [
      "5\n"
     ]
    }
   ],
   "source": [
    "# Số lượng phần tử (chiều dài tuple)\n",
    "thistuple = (\"apple\", \"banana\", \"cherry\", \"apple\", \"cherry\")\n",
    "print(len(thistuple))"
   ]
  },
  {
   "cell_type": "code",
   "execution_count": 181,
   "id": "575cf24b",
   "metadata": {},
   "outputs": [
    {
     "name": "stdout",
     "output_type": "stream",
     "text": [
      "('abc', 34, True, 40, 'male')\n"
     ]
    }
   ],
   "source": [
    "# Hỗn hợp các kiểu dữ liệu\n",
    "tuple1 = (\"abc\", 34, True, 40, \"male\")\n",
    "print(tuple1)"
   ]
  },
  {
   "cell_type": "code",
   "execution_count": 187,
   "id": "928a034c",
   "metadata": {},
   "outputs": [
    {
     "name": "stdout",
     "output_type": "stream",
     "text": [
      "mango\n",
      "('cherry', 'orange', 'kiwi')\n",
      "('apple', 'banana', 'cherry', 'orange')\n"
     ]
    }
   ],
   "source": [
    "# Truy cập các phần tử\n",
    "thistuple = (\"apple\", \"banana\", \"cherry\", \"orange\", \"kiwi\", \"melon\", \"mango\")\n",
    "print(thistuple[-1]) # phần tử cuối\n",
    "print(thistuple[2:5]) # lấy ra từ index=2 đến index=4\n",
    "print(thistuple[2:]) # lấy ra từ index=2 đến cuối\n",
    "print(thistuple[:4]) # lấy ra từ phần tử đầu đến index=3"
   ]
  },
  {
   "cell_type": "markdown",
   "id": "bc951666",
   "metadata": {},
   "source": [
    "### 2. Không thể thêm/sửa/xóa phần tử của 1 tuple.\n",
    "* Ép kiểu về list để thực hiện thao tác\n",
    "* Ép ngược lại từ list về tuple"
   ]
  },
  {
   "cell_type": "markdown",
   "id": "7d7c9550",
   "metadata": {},
   "source": [
    "### 3. Tuple Loop"
   ]
  },
  {
   "cell_type": "code",
   "execution_count": 188,
   "id": "bfa4a6e4",
   "metadata": {},
   "outputs": [
    {
     "name": "stdout",
     "output_type": "stream",
     "text": [
      "apple\n",
      "banana\n",
      "cherry\n"
     ]
    }
   ],
   "source": [
    "# Lặp theo phần tử\n",
    "thistuple = (\"apple\", \"banana\", \"cherry\")\n",
    "for x in thistuple:\n",
    "    print(x)"
   ]
  },
  {
   "cell_type": "code",
   "execution_count": 189,
   "id": "dd357edb",
   "metadata": {},
   "outputs": [
    {
     "name": "stdout",
     "output_type": "stream",
     "text": [
      "apple\n",
      "banana\n",
      "cherry\n"
     ]
    }
   ],
   "source": [
    "# Lặp theo index\n",
    "thistuple = (\"apple\", \"banana\", \"cherry\")\n",
    "for i in range(len(thistuple)):\n",
    "    print(thistuple[i])"
   ]
  },
  {
   "cell_type": "code",
   "execution_count": 190,
   "id": "453b2ed5",
   "metadata": {},
   "outputs": [
    {
     "name": "stdout",
     "output_type": "stream",
     "text": [
      "apple\n",
      "banana\n",
      "cherry\n"
     ]
    }
   ],
   "source": [
    "# Lặp kiểu while theo index\n",
    "thistuple = (\"apple\", \"banana\", \"cherry\")\n",
    "i = 0\n",
    "while i < len(thistuple):\n",
    "    print(thistuple[i])\n",
    "    i = i + 1"
   ]
  },
  {
   "cell_type": "markdown",
   "id": "68cab34d",
   "metadata": {},
   "source": [
    "### 4. Tìm vị trí 1 phần tử trong tuple (nếu có)"
   ]
  },
  {
   "cell_type": "code",
   "execution_count": 193,
   "id": "cec79e24",
   "metadata": {
    "scrolled": true
   },
   "outputs": [
    {
     "name": "stdout",
     "output_type": "stream",
     "text": [
      "3\n"
     ]
    }
   ],
   "source": [
    "thistuple = (1, 3, 7, 8, 7, 5, 4, 6, 8, 5)\n",
    "x = thistuple.index(8)\n",
    "print(x)\n",
    "\n",
    "# Nếu tìm thấy trả về index đầu tiên tìm thấy\n",
    "# Nếu không tìm thấy => Báo Lỗi !!!"
   ]
  },
  {
   "cell_type": "markdown",
   "id": "95b3b0d1",
   "metadata": {},
   "source": [
    "### 5. Đếm số lượng phần tử x trong tuple, giống list"
   ]
  },
  {
   "cell_type": "code",
   "execution_count": 195,
   "id": "708c9b46",
   "metadata": {
    "scrolled": true
   },
   "outputs": [
    {
     "name": "stdout",
     "output_type": "stream",
     "text": [
      "Số lượng phần tử 5 trong tuple là: 2\n"
     ]
    }
   ],
   "source": [
    "thistuple = (1, 3, 7, 8, 7, 5, 4, 6, 8, 5)\n",
    "x = thistuple.count(5)\n",
    "print(\"Số lượng phần tử 5 trong tuple là: {}\".format(x))"
   ]
  },
  {
   "cell_type": "markdown",
   "id": "87330cc3",
   "metadata": {},
   "source": [
    "## Python Sets\n",
    "* KHÔNG THỂ THAY ĐỔI, NHƯNG CÓ THỂ THÊM VÀO.\n",
    "* KHÔNG CÓ THỨ TỰ: KHÔNG THAM CHIẾU CHỈ MỤC [INDEX]\n",
    "* KHÔNG CHO PHÉP GIÁ TRỊ TRÙNG LẶP"
   ]
  },
  {
   "cell_type": "code",
   "execution_count": 196,
   "id": "bf1da777",
   "metadata": {},
   "outputs": [
    {
     "name": "stdout",
     "output_type": "stream",
     "text": [
      "{'apple', 'cherry', 'banana'}\n"
     ]
    }
   ],
   "source": [
    "this_set= {\"apple\", \"banana\", \"cherry\"}\n",
    "print(this_set)"
   ]
  },
  {
   "cell_type": "code",
   "execution_count": 197,
   "id": "40075990",
   "metadata": {},
   "outputs": [
    {
     "name": "stdout",
     "output_type": "stream",
     "text": [
      "apple\n",
      "cherry\n",
      "banana\n"
     ]
    }
   ],
   "source": [
    "# Truy cập các phần tử của tập hơp\n",
    "thisset = {\"apple\", \"banana\", \"cherry\"}\n",
    "\n",
    "for x in thisset:\n",
    "    print(x)"
   ]
  },
  {
   "cell_type": "code",
   "execution_count": 198,
   "id": "f02b28e0",
   "metadata": {},
   "outputs": [
    {
     "name": "stdout",
     "output_type": "stream",
     "text": [
      "True\n"
     ]
    }
   ],
   "source": [
    "# Kiểm tra phần tử x có thuộc tập hợp hay không ?\n",
    "thisset = {\"apple\", \"banana\", \"cherry\"}\n",
    "print(\"banana\" in thisset)"
   ]
  },
  {
   "cell_type": "markdown",
   "id": "606c7fc3",
   "metadata": {},
   "source": [
    "### 1. Thêm một mục vào tập hơp"
   ]
  },
  {
   "cell_type": "code",
   "execution_count": 199,
   "id": "670d4a57",
   "metadata": {},
   "outputs": [
    {
     "name": "stdout",
     "output_type": "stream",
     "text": [
      "{'apple', 'cherry', 'orange', 'banana'}\n"
     ]
    }
   ],
   "source": [
    "# Thêm 1 phần tử x vào tập hợp hiện tại -> .add(value)\n",
    "thisset = {\"apple\", \"banana\", \"cherry\"}\n",
    "thisset.add(\"orange\")\n",
    "print(thisset)"
   ]
  },
  {
   "cell_type": "code",
   "execution_count": 201,
   "id": "f3594058",
   "metadata": {},
   "outputs": [
    {
     "name": "stdout",
     "output_type": "stream",
     "text": [
      "{'apple', 'pineapple', 'papaya', 'cherry', 'mango', 'banana'}\n"
     ]
    }
   ],
   "source": [
    "# Thêm tập hợp khác vào tập hiện tại (Phép hợp) -> .update(set_other)\n",
    "thisset = {\"apple\", \"banana\", \"cherry\"}\n",
    "tropical = {\"pineapple\", \"mango\", \"papaya\", \"apple\"}\n",
    "thisset.update(tropical)\n",
    "print(thisset)"
   ]
  },
  {
   "cell_type": "code",
   "execution_count": 204,
   "id": "8128f9bf",
   "metadata": {},
   "outputs": [
    {
     "name": "stdout",
     "output_type": "stream",
     "text": [
      "{'apple', 'papaya', 'mango', 'banana', 'hello', 'pineapple', 'cherry'}\n"
     ]
    }
   ],
   "source": [
    "# Update có thể nhận đầu vào là 1 list hoặc tuple\n",
    "thisset = {\"apple\", \"banana\", \"cherry\"}\n",
    "list1 = [\"pineapple\", \"mango\", \"papaya\", \"apple\"]\n",
    "tuple1 = (\"hello\", \"apple\")\n",
    "thisset.update(list1)\n",
    "thisset.update(tuple1)\n",
    "print(thisset)"
   ]
  },
  {
   "cell_type": "markdown",
   "id": "64d88d82",
   "metadata": {},
   "source": [
    "### 2. Loại bỏ khỏi tập hợp"
   ]
  },
  {
   "cell_type": "code",
   "execution_count": 210,
   "id": "b72af804",
   "metadata": {},
   "outputs": [
    {
     "ename": "KeyError",
     "evalue": "'hello'",
     "output_type": "error",
     "traceback": [
      "\u001b[1;31m---------------------------------------------------------------------------\u001b[0m",
      "\u001b[1;31mKeyError\u001b[0m                                  Traceback (most recent call last)",
      "\u001b[1;32m<ipython-input-210-6b085bc2212b>\u001b[0m in \u001b[0;36m<module>\u001b[1;34m\u001b[0m\n\u001b[0;32m      3\u001b[0m \u001b[0mthisset\u001b[0m \u001b[1;33m=\u001b[0m \u001b[1;33m{\u001b[0m\u001b[1;34m\"apple\"\u001b[0m\u001b[1;33m,\u001b[0m \u001b[1;34m\"banana\"\u001b[0m\u001b[1;33m,\u001b[0m \u001b[1;34m\"cherry\"\u001b[0m\u001b[1;33m}\u001b[0m\u001b[1;33m\u001b[0m\u001b[1;33m\u001b[0m\u001b[0m\n\u001b[0;32m      4\u001b[0m \u001b[0mthisset\u001b[0m\u001b[1;33m.\u001b[0m\u001b[0mremove\u001b[0m\u001b[1;33m(\u001b[0m\u001b[1;34m\"apple\"\u001b[0m\u001b[1;33m)\u001b[0m\u001b[1;33m\u001b[0m\u001b[1;33m\u001b[0m\u001b[0m\n\u001b[1;32m----> 5\u001b[1;33m \u001b[0mthisset\u001b[0m\u001b[1;33m.\u001b[0m\u001b[0mremove\u001b[0m\u001b[1;33m(\u001b[0m\u001b[1;34m\"hello\"\u001b[0m\u001b[1;33m)\u001b[0m\u001b[1;33m\u001b[0m\u001b[1;33m\u001b[0m\u001b[0m\n\u001b[0m\u001b[0;32m      6\u001b[0m \u001b[0mprint\u001b[0m\u001b[1;33m(\u001b[0m\u001b[0mthisset\u001b[0m\u001b[1;33m)\u001b[0m\u001b[1;33m\u001b[0m\u001b[1;33m\u001b[0m\u001b[0m\n",
      "\u001b[1;31mKeyError\u001b[0m: 'hello'"
     ]
    }
   ],
   "source": [
    "# Loại bỏ 1 phần tử -> .remove(value). Phát sinh lỗi nếu ko có !!!\n",
    "\n",
    "thisset = {\"apple\", \"banana\", \"cherry\"}\n",
    "thisset.remove(\"apple\")\n",
    "thisset.remove(\"hello\")\n",
    "print(thisset)"
   ]
  },
  {
   "cell_type": "code",
   "execution_count": 209,
   "id": "4fc1065c",
   "metadata": {},
   "outputs": [
    {
     "name": "stdout",
     "output_type": "stream",
     "text": [
      "{'cherry', 'banana'}\n"
     ]
    }
   ],
   "source": [
    "# Loại bỏ 1 phần tử -> discard(value). Không phát sinh lỗi nếu ko có !!!\n",
    "thisset = {\"apple\", \"banana\", \"cherry\"}\n",
    "thisset.discard(\"hello\")\n",
    "thisset.discard(\"apple\")\n",
    "print(thisset)"
   ]
  },
  {
   "cell_type": "code",
   "execution_count": 1,
   "id": "9275178d",
   "metadata": {},
   "outputs": [
    {
     "name": "stdout",
     "output_type": "stream",
     "text": [
      "set()\n"
     ]
    }
   ],
   "source": [
    "# Xóa toàn bộ -> .clear()\n",
    "thisset = {\"apple\", \"banana\", \"cherry\"}\n",
    "thisset.clear()\n",
    "print(thisset)"
   ]
  },
  {
   "cell_type": "code",
   "execution_count": 4,
   "id": "d759a6e6",
   "metadata": {},
   "outputs": [
    {
     "name": "stdout",
     "output_type": "stream",
     "text": [
      "{'cherry', 'banana', 'apple'}\n"
     ]
    }
   ],
   "source": [
    "# Xóa tham chiếu -> del set_name\n",
    "thisset = {\"apple\", \"banana\", \"cherry\"}\n",
    "myset = thisset\n",
    "del thisset # Xóa tham chiếu tại đây\n",
    "print(myset)"
   ]
  },
  {
   "cell_type": "markdown",
   "id": "a94e348b",
   "metadata": {},
   "source": [
    "### 3. Duyệt sets (Loop sets)"
   ]
  },
  {
   "cell_type": "code",
   "execution_count": 5,
   "id": "d557db32",
   "metadata": {},
   "outputs": [
    {
     "name": "stdout",
     "output_type": "stream",
     "text": [
      "cherry\n",
      "banana\n",
      "apple\n"
     ]
    }
   ],
   "source": [
    "thisset = {\"apple\", \"banana\", \"cherry\"}\n",
    "for x in thisset:\n",
    "    print(x)"
   ]
  },
  {
   "cell_type": "markdown",
   "id": "3444bedc",
   "metadata": {},
   "source": [
    "### 4. Hợp của hai tập hợp (.union)"
   ]
  },
  {
   "cell_type": "code",
   "execution_count": 6,
   "id": "caa29b29",
   "metadata": {},
   "outputs": [
    {
     "name": "stdout",
     "output_type": "stream",
     "text": [
      "{1, 2, 'a', 3, 'b', 'c'}\n"
     ]
    }
   ],
   "source": [
    "# Hợp 2 tập hợp bằng union() -> trả về hợp của hai tập hợp\n",
    "set1 = {\"a\", \"b\" , \"c\"}\n",
    "set2 = {1, 2, 3}\n",
    "set3 = set1.union(set2)\n",
    "print(set3)"
   ]
  },
  {
   "cell_type": "code",
   "execution_count": 7,
   "id": "4e762bcf",
   "metadata": {},
   "outputs": [
    {
     "name": "stdout",
     "output_type": "stream",
     "text": [
      "{1, 2, 'a', 3, 'b', 'c'}\n"
     ]
    }
   ],
   "source": [
    "# Nối tập 2 vào tập 1 -> .update()\n",
    "set1 = {\"a\", \"b\" , \"c\"}\n",
    "set2 = {1, 2, 3}\n",
    "\n",
    "set1.update(set2)\n",
    "print(set1)"
   ]
  },
  {
   "cell_type": "markdown",
   "id": "5717a85b",
   "metadata": {},
   "source": [
    "## Python Dictionaries\n",
    "* Lưu trữ kiểu: <key:value>\n",
    "* Là một tập hợp có thứ tự, có thể thay đổi, không cho phép trùng lặp key"
   ]
  },
  {
   "cell_type": "code",
   "execution_count": 8,
   "id": "3b25290f",
   "metadata": {},
   "outputs": [
    {
     "name": "stdout",
     "output_type": "stream",
     "text": [
      "{'brand': 'Ford', 'model': 'Mustang', 'year': 1964}\n"
     ]
    }
   ],
   "source": [
    "thisdict = {\n",
    "  \"brand\": \"Ford\",\n",
    "  \"model\": \"Mustang\",\n",
    "  \"year\": 1964\n",
    "}\n",
    "print(thisdict)"
   ]
  },
  {
   "cell_type": "code",
   "execution_count": 11,
   "id": "4b8db1fb",
   "metadata": {},
   "outputs": [
    {
     "name": "stdout",
     "output_type": "stream",
     "text": [
      "Ford\n",
      "Mustang\n"
     ]
    }
   ],
   "source": [
    "# Truy cập theo key\n",
    "print(thisdict[\"brand\"])\n",
    "\n",
    "# hoặc:\n",
    "print(thisdict.get(\"model\"))"
   ]
  },
  {
   "cell_type": "code",
   "execution_count": 10,
   "id": "398e6df1",
   "metadata": {},
   "outputs": [
    {
     "name": "stdout",
     "output_type": "stream",
     "text": [
      "3\n"
     ]
    }
   ],
   "source": [
    "# Độ dài từ điển\n",
    "print(len(thisdict))"
   ]
  },
  {
   "cell_type": "code",
   "execution_count": 16,
   "id": "df6cf145",
   "metadata": {},
   "outputs": [
    {
     "name": "stdout",
     "output_type": "stream",
     "text": [
      "dict_keys(['brand', 'model', 'year'])\n",
      "dict_values(['Ford', 'Mustang', 1964])\n"
     ]
    }
   ],
   "source": [
    "# Trả về tất cả key và value trong từ điển\n",
    "print(thisdict.keys())\n",
    "print(thisdict.values())"
   ]
  },
  {
   "cell_type": "markdown",
   "id": "ff496082",
   "metadata": {},
   "source": [
    "#### => Tìm hiểu thêm sau"
   ]
  },
  {
   "cell_type": "markdown",
   "id": "bca9813b",
   "metadata": {},
   "source": [
    "## If..elif..else"
   ]
  },
  {
   "cell_type": "code",
   "execution_count": 18,
   "id": "7004a9f7",
   "metadata": {},
   "outputs": [
    {
     "name": "stdout",
     "output_type": "stream",
     "text": [
      "a is greater than b\n"
     ]
    }
   ],
   "source": [
    "a = 200\n",
    "b = 33\n",
    "if b > a:\n",
    "    print(\"b is greater than a\")\n",
    "elif a == b:\n",
    "    print(\"a and b are equal\")\n",
    "else:\n",
    "    print(\"a is greater than b\")"
   ]
  },
  {
   "cell_type": "code",
   "execution_count": 21,
   "id": "01bbb0f4",
   "metadata": {},
   "outputs": [
    {
     "name": "stdout",
     "output_type": "stream",
     "text": [
      "Both conditions are True\n"
     ]
    }
   ],
   "source": [
    "# Sử dụng: and, or, not\n",
    "a = 200\n",
    "b = 33\n",
    "c = 500\n",
    "if a > b and not(a > c):\n",
    "    print(\"Both conditions are True\")"
   ]
  },
  {
   "cell_type": "code",
   "execution_count": 23,
   "id": "e96cafea",
   "metadata": {},
   "outputs": [],
   "source": [
    "# Câu lệnh trong khối if không được để trống. Nếu ko có nội dung, làm như sau:\n",
    "a = 33\n",
    "b = 200\n",
    "\n",
    "if b > a:\n",
    "    pass # bỏ qua\n",
    "\n",
    "# Không thì sẽ báo lỗi !!!"
   ]
  },
  {
   "cell_type": "markdown",
   "id": "ebc3a153",
   "metadata": {},
   "source": [
    "## Python Loops\n",
    "* while loop\n",
    "* for loop"
   ]
  },
  {
   "cell_type": "markdown",
   "id": "93e7e7d3",
   "metadata": {},
   "source": [
    "### 1. While loops"
   ]
  },
  {
   "cell_type": "code",
   "execution_count": 25,
   "id": "4a945f45",
   "metadata": {},
   "outputs": [
    {
     "name": "stdout",
     "output_type": "stream",
     "text": [
      "1\n",
      "2\n",
      "3\n"
     ]
    }
   ],
   "source": [
    "# while loop with break (ngắt)\n",
    "i = 1\n",
    "while i < 6:\n",
    "    print(i)\n",
    "    if (i==3):\n",
    "        break\n",
    "    i += 1"
   ]
  },
  {
   "cell_type": "code",
   "execution_count": 26,
   "id": "3ecac954",
   "metadata": {},
   "outputs": [
    {
     "name": "stdout",
     "output_type": "stream",
     "text": [
      "1\n",
      "2\n",
      "4\n",
      "5\n",
      "6\n"
     ]
    }
   ],
   "source": [
    "# while loop with continue (bỏ qua x để tiếp tục)\n",
    "i = 0\n",
    "while i < 6:\n",
    "    i += 1\n",
    "    if i == 3:\n",
    "        continue\n",
    "    print(i)"
   ]
  },
  {
   "cell_type": "code",
   "execution_count": 27,
   "id": "7b1b1d9f",
   "metadata": {},
   "outputs": [
    {
     "name": "stdout",
     "output_type": "stream",
     "text": [
      "1\n",
      "2\n",
      "3\n",
      "4\n",
      "5\n",
      "i is no longer less than 6\n"
     ]
    }
   ],
   "source": [
    "# while with else: khi thoát while\n",
    "i = 1\n",
    "while i < 6:\n",
    "    print(i)\n",
    "    i += 1\n",
    "else:\n",
    "    print(\"i is no longer less than 6\")"
   ]
  },
  {
   "cell_type": "markdown",
   "id": "30fd6402",
   "metadata": {},
   "source": [
    "### 2. For loops"
   ]
  },
  {
   "cell_type": "markdown",
   "id": "3c2622ae",
   "metadata": {},
   "source": [
    "#### 2.1. Thường dùng: Lặp qua 1 chuỗi/list/tuple/set/dictionary"
   ]
  },
  {
   "cell_type": "code",
   "execution_count": 31,
   "id": "b31fa35e",
   "metadata": {},
   "outputs": [
    {
     "name": "stdout",
     "output_type": "stream",
     "text": [
      "apple\n",
      "banana\n"
     ]
    }
   ],
   "source": [
    "# In đến từ đầu list đến phần tử \"banana\"\n",
    "fruits = [\"apple\", \"banana\", \"cherry\"]\n",
    "for x in fruits:\n",
    "    print(x)\n",
    "    if x == \"banana\":\n",
    "        break # thoát for gần nhất"
   ]
  },
  {
   "cell_type": "code",
   "execution_count": 30,
   "id": "135f828f",
   "metadata": {},
   "outputs": [
    {
     "name": "stdout",
     "output_type": "stream",
     "text": [
      "apple\n"
     ]
    }
   ],
   "source": [
    "# In đến từ đầu list đến TRƯỚC phần tử \"banana\"\n",
    "fruits = [\"apple\", \"banana\", \"cherry\"]\n",
    "for x in fruits:\n",
    "    if x == \"banana\":\n",
    "        break\n",
    "    print(x)"
   ]
  },
  {
   "cell_type": "markdown",
   "id": "72cb3684",
   "metadata": {},
   "source": [
    "#### 2.2. Những cách lặp for thông thường"
   ]
  },
  {
   "cell_type": "code",
   "execution_count": 43,
   "id": "5c84a8a1",
   "metadata": {},
   "outputs": [
    {
     "name": "stdout",
     "output_type": "stream",
     "text": [
      "[0, 1, 2, 3, 4, 5]\n"
     ]
    }
   ],
   "source": [
    "# 0 <= x < 5, bước nhảy 1 đơn vị\n",
    "list1 = []\n",
    "for x in range(6):\n",
    "    list1.append(x)\n",
    "print(list1)"
   ]
  },
  {
   "cell_type": "code",
   "execution_count": 44,
   "id": "8aecd3e9",
   "metadata": {},
   "outputs": [
    {
     "name": "stdout",
     "output_type": "stream",
     "text": [
      "[2, 3, 4, 5]\n"
     ]
    }
   ],
   "source": [
    "# 2 <= x < 6, bước nhảy 1 đơn vị\n",
    "list1 = []\n",
    "for x in range(2,6): # mặc định bước nhảy là 1\n",
    "    list1.append(x)\n",
    "print(list1)"
   ]
  },
  {
   "cell_type": "code",
   "execution_count": 42,
   "id": "c8184d5a",
   "metadata": {},
   "outputs": [
    {
     "name": "stdout",
     "output_type": "stream",
     "text": [
      "[2, 4, 6, 8, 10, 12, 14, 16, 18, 20, 22, 24, 26, 28]\n"
     ]
    }
   ],
   "source": [
    "# 2 <= x < 30, bước nhảy 2 đơn vị\n",
    "list1 = []\n",
    "for x in range(2, 30, 2):\n",
    "    list1.append(x)\n",
    "print(list1)"
   ]
  },
  {
   "cell_type": "markdown",
   "id": "404f2f3a",
   "metadata": {},
   "source": [
    "#### 2.3. Dùng else trong vòng lặp for"
   ]
  },
  {
   "cell_type": "code",
   "execution_count": 46,
   "id": "d4592fea",
   "metadata": {},
   "outputs": [
    {
     "name": "stdout",
     "output_type": "stream",
     "text": [
      "[0, 1, 2, 3, 4, 5]\n"
     ]
    }
   ],
   "source": [
    "# Dùng else sau vòng lặp !!\n",
    "thislist = list()\n",
    "for x in range(6):\n",
    "    thislist.append(x)\n",
    "else: # lặp xong thực hiện lệnh else\n",
    "    print(thislist)"
   ]
  },
  {
   "cell_type": "code",
   "execution_count": 66,
   "id": "9ff99c6e",
   "metadata": {},
   "outputs": [
    {
     "name": "stdout",
     "output_type": "stream",
     "text": [
      "0\n",
      "1\n",
      "2\n"
     ]
    }
   ],
   "source": [
    "# else sẽ ko được thực hiện nếu bị ngắt bởi lệnh break trong vòng lặp !!\n",
    "for x in range(6):\n",
    "    if x == 3: break\n",
    "    print(x)\n",
    "else:\n",
    "    print(\"Finally finished!\")"
   ]
  },
  {
   "cell_type": "markdown",
   "id": "2928f4ea",
   "metadata": {},
   "source": [
    "## Python function"
   ]
  },
  {
   "cell_type": "code",
   "execution_count": 53,
   "id": "3888073a",
   "metadata": {},
   "outputs": [
    {
     "name": "stdout",
     "output_type": "stream",
     "text": [
      "Chào bạn, mình là: Hiếu, 21 tuổi.\n",
      "Chào bạn, mình là: Hiếu, 21 tuổi.\n"
     ]
    }
   ],
   "source": [
    "def my_function(name, age):\n",
    "    print(\"Chào bạn, mình là: {}, {} tuổi.\".format(name, age))\n",
    "    print(\"Chào bạn, mình là: \" + name + \", \" + str(age) + \" tuổi.\")\n",
    "my_function(\"Hiếu\", 21)"
   ]
  },
  {
   "cell_type": "markdown",
   "id": "a81bc402",
   "metadata": {},
   "source": [
    "### 1. Không biết bao nhiêu đối số truyền vào ?"
   ]
  },
  {
   "cell_type": "code",
   "execution_count": 65,
   "id": "4a9c4713",
   "metadata": {},
   "outputs": [
    {
     "name": "stdout",
     "output_type": "stream",
     "text": [
      "The youngest child is Linus\n"
     ]
    }
   ],
   "source": [
    "# Khai báo kiểu: (*args)\n",
    "# Đối số truyền vào sẽ cho dưới dạng tuple\n",
    "def my_function(*kids):\n",
    "    print(\"The youngest child is \" + kids[2])\n",
    "\n",
    "my_function(\"Emil\", \"Tobias\", \"Linus\")"
   ]
  },
  {
   "cell_type": "code",
   "execution_count": 64,
   "id": "b185a2c2",
   "metadata": {},
   "outputs": [
    {
     "name": "stdout",
     "output_type": "stream",
     "text": [
      "His last name is Refsnes\n"
     ]
    }
   ],
   "source": [
    "# Khai báo kiểu: (**args)\n",
    "# Đối số truyền vào sẽ cho dưới dạng dictionary\n",
    "def my_function(**kid):\n",
    "    print(\"His last name is \" + kid[\"lname\"])\n",
    "\n",
    "my_function(fname = \"Tobias\", lname = \"Refsnes\")"
   ]
  },
  {
   "cell_type": "markdown",
   "id": "24643ce9",
   "metadata": {},
   "source": [
    "### 2. Tham số mặc định, thứ tự tham số"
   ]
  },
  {
   "cell_type": "code",
   "execution_count": 62,
   "id": "c77f11a7",
   "metadata": {},
   "outputs": [
    {
     "name": "stdout",
     "output_type": "stream",
     "text": [
      "I am from India\n",
      "I am from Norway\n",
      "I am from Brazil\n"
     ]
    }
   ],
   "source": [
    "# Đối số có giá trị mặc định\n",
    "def my_function(country = \"Norway\"):\n",
    "    print(\"I am from \" + country)\n",
    "\n",
    "my_function(\"India\")\n",
    "my_function()\n",
    "my_function(\"Brazil\")"
   ]
  },
  {
   "cell_type": "code",
   "execution_count": 63,
   "id": "c172696a",
   "metadata": {},
   "outputs": [
    {
     "name": "stdout",
     "output_type": "stream",
     "text": [
      "The youngest child is Linus\n"
     ]
    }
   ],
   "source": [
    "# Thứ tự các đối số không quan trọng khi được gọi chi tiết dạng (key = value)\n",
    "def my_function(child3, child2, child1):\n",
    "    print(\"The youngest child is \" + child3)\n",
    "\n",
    "my_function(child1 = \"Emil\", child2 = \"Tobias\", child3 = \"Linus\")"
   ]
  },
  {
   "cell_type": "markdown",
   "id": "8c8d3027",
   "metadata": {},
   "source": [
    "### 3. Đối số dạng list/tuple/set/dictionary"
   ]
  },
  {
   "cell_type": "code",
   "execution_count": 67,
   "id": "42981586",
   "metadata": {},
   "outputs": [
    {
     "name": "stdout",
     "output_type": "stream",
     "text": [
      "apple\n",
      "banana\n",
      "cherry\n"
     ]
    }
   ],
   "source": [
    "# Đi vào hàm thì fruits vẫn là một list\n",
    "def my_function(food):\n",
    "    for x in food:\n",
    "        print(x)\n",
    "\n",
    "fruits = [\"apple\", \"banana\", \"cherry\"]\n",
    "\n",
    "my_function(fruits)"
   ]
  },
  {
   "cell_type": "code",
   "execution_count": 68,
   "id": "6b0fe34d",
   "metadata": {},
   "outputs": [],
   "source": [
    "# Đưa pass vào để tránh lỗi nếu function không có nội dung !!!\n",
    "def myfunction():\n",
    "    pass"
   ]
  },
  {
   "cell_type": "markdown",
   "id": "83eb3702",
   "metadata": {},
   "source": [
    "## Python lambda\n",
    "* Hàm ẩn danh nhỏ\n",
    "* Nhận bất kỳ số lượng đối số nào, nhưng chỉ có thể có một biểu thức"
   ]
  },
  {
   "cell_type": "code",
   "execution_count": 69,
   "id": "21809a12",
   "metadata": {},
   "outputs": [
    {
     "name": "stdout",
     "output_type": "stream",
     "text": [
      "15\n"
     ]
    }
   ],
   "source": [
    "x = lambda a : a + 10 # đối số a, trả về a+10\n",
    "print(x(5))"
   ]
  },
  {
   "cell_type": "code",
   "execution_count": 72,
   "id": "29b0f4b7",
   "metadata": {},
   "outputs": [
    {
     "name": "stdout",
     "output_type": "stream",
     "text": [
      "30\n",
      "13\n"
     ]
    }
   ],
   "source": [
    "x = lambda a, b : a * b # trả về tích 2 đối số\n",
    "print(x(5, 6))\n",
    "\n",
    "x = lambda a, b, c : a + b + c\n",
    "print(x(5, 6, 2))"
   ]
  },
  {
   "cell_type": "markdown",
   "id": "bd770366",
   "metadata": {},
   "source": [
    "### 1. Ý nghĩa của hàm lambda\n",
    "* Khi sử dụng chúng như một hàm ẩn danh bên trong một hàm khác\n",
    "* Một hàm tổng, chứa hàm lambda, nhiều hàm các kế thừa từ đó."
   ]
  },
  {
   "cell_type": "code",
   "execution_count": 75,
   "id": "749be300",
   "metadata": {},
   "outputs": [
    {
     "name": "stdout",
     "output_type": "stream",
     "text": [
      "22\n",
      "33\n"
     ]
    }
   ],
   "source": [
    "# Ví dụ như dưới đây:\n",
    "def myfunc(n):\n",
    "    return lambda a : a * n\n",
    "\n",
    "mydoubler = myfunc(2)\n",
    "mytripler = myfunc(3)\n",
    "\n",
    "print(mydoubler(11))\n",
    "print(mytripler(11))"
   ]
  },
  {
   "cell_type": "markdown",
   "id": "d9a3b72e",
   "metadata": {},
   "source": [
    "## Python Classes and Objects"
   ]
  },
  {
   "cell_type": "code",
   "execution_count": 76,
   "id": "289e5dcf",
   "metadata": {},
   "outputs": [
    {
     "name": "stdout",
     "output_type": "stream",
     "text": [
      "5\n"
     ]
    }
   ],
   "source": [
    "class MyClass:\n",
    "    x = 5\n",
    "    \n",
    "p1 = MyClass()\n",
    "print(p1.x)"
   ]
  },
  {
   "cell_type": "markdown",
   "id": "9e699e79",
   "metadata": {},
   "source": [
    "#### => Tìm hiểu sau"
   ]
  },
  {
   "cell_type": "code",
   "execution_count": null,
   "id": "2b715e48",
   "metadata": {},
   "outputs": [],
   "source": []
  },
  {
   "cell_type": "markdown",
   "id": "38de4c88",
   "metadata": {},
   "source": [
    "## Python Datetime"
   ]
  },
  {
   "cell_type": "code",
   "execution_count": 78,
   "id": "0e365fe0",
   "metadata": {},
   "outputs": [
    {
     "name": "stdout",
     "output_type": "stream",
     "text": [
      "2021-06-15 17:09:21.677537\n"
     ]
    }
   ],
   "source": [
    "import datetime\n",
    "\n",
    "x = datetime.datetime.now()\n",
    "print(x)"
   ]
  },
  {
   "cell_type": "code",
   "execution_count": 79,
   "id": "8b85c9c2",
   "metadata": {},
   "outputs": [
    {
     "name": "stdout",
     "output_type": "stream",
     "text": [
      "2021\n",
      "Tuesday\n"
     ]
    }
   ],
   "source": [
    "import datetime\n",
    "\n",
    "x = datetime.datetime.now()\n",
    "\n",
    "print(x.year)\n",
    "print(x.strftime(\"%A\"))"
   ]
  },
  {
   "cell_type": "code",
   "execution_count": null,
   "id": "9a691330",
   "metadata": {},
   "outputs": [],
   "source": []
  },
  {
   "cell_type": "code",
   "execution_count": null,
   "id": "fe9a5ac2",
   "metadata": {},
   "outputs": [],
   "source": []
  },
  {
   "cell_type": "code",
   "execution_count": null,
   "id": "8928182c",
   "metadata": {},
   "outputs": [],
   "source": []
  },
  {
   "cell_type": "code",
   "execution_count": null,
   "id": "593dca73",
   "metadata": {},
   "outputs": [],
   "source": []
  },
  {
   "cell_type": "code",
   "execution_count": null,
   "id": "cffbd183",
   "metadata": {},
   "outputs": [],
   "source": []
  },
  {
   "cell_type": "code",
   "execution_count": null,
   "id": "65e3f43a",
   "metadata": {},
   "outputs": [],
   "source": []
  },
  {
   "cell_type": "code",
   "execution_count": null,
   "id": "b8d19fb4",
   "metadata": {},
   "outputs": [],
   "source": []
  },
  {
   "cell_type": "code",
   "execution_count": null,
   "id": "8ef3d34c",
   "metadata": {},
   "outputs": [],
   "source": []
  },
  {
   "cell_type": "code",
   "execution_count": null,
   "id": "6954c47c",
   "metadata": {},
   "outputs": [],
   "source": []
  },
  {
   "cell_type": "code",
   "execution_count": null,
   "id": "8871d2ff",
   "metadata": {},
   "outputs": [],
   "source": []
  },
  {
   "cell_type": "code",
   "execution_count": null,
   "id": "31516bd7",
   "metadata": {},
   "outputs": [],
   "source": []
  },
  {
   "cell_type": "code",
   "execution_count": null,
   "id": "d3a08fe7",
   "metadata": {},
   "outputs": [],
   "source": []
  },
  {
   "cell_type": "code",
   "execution_count": null,
   "id": "26a8776e",
   "metadata": {},
   "outputs": [],
   "source": []
  },
  {
   "cell_type": "code",
   "execution_count": null,
   "id": "9f67f694",
   "metadata": {},
   "outputs": [],
   "source": []
  }
 ],
 "metadata": {
  "kernelspec": {
   "display_name": "Python 3",
   "language": "python",
   "name": "python3"
  },
  "language_info": {
   "codemirror_mode": {
    "name": "ipython",
    "version": 3
   },
   "file_extension": ".py",
   "mimetype": "text/x-python",
   "name": "python",
   "nbconvert_exporter": "python",
   "pygments_lexer": "ipython3",
   "version": "3.8.8"
  }
 },
 "nbformat": 4,
 "nbformat_minor": 5
}
