{
  "nbformat": 4,
  "nbformat_minor": 0,
  "metadata": {
    "colab": {
      "name": "Task 3 CIFAR10-NeuralNetwork.ipynb",
      "provenance": [],
      "collapsed_sections": []
    },
    "kernelspec": {
      "name": "python3",
      "display_name": "Python 3"
    },
    "accelerator": "GPU"
  },
  "cells": [
    {
      "cell_type": "code",
      "metadata": {
        "id": "4znYCEYXrWGb"
      },
      "source": [
        "import keras\n",
        "from keras.datasets import cifar10\n",
        "from keras.models import Sequential\n",
        "from keras.layers import Dense, Dropout, Flatten\n",
        "from keras.optimizers import SGD\n",
        "from keras import backend as K\n",
        "import matplotlib.pyplot as plt\n",
        "import tensorflow as tf"
      ],
      "execution_count": null,
      "outputs": []
    },
    {
      "cell_type": "code",
      "metadata": {
        "id": "JAF1srq8rcvd"
      },
      "source": [
        "batch_size = 128\n",
        "num_classes = 10\n",
        "epochs = 16"
      ],
      "execution_count": null,
      "outputs": []
    },
    {
      "cell_type": "code",
      "metadata": {
        "id": "0D1dhEPIri86"
      },
      "source": [
        "# input image dimensions\n",
        "img_rows, img_cols, color_channels = 32, 32, 3\n",
        "\n",
        "# the data, split between train and test sets\n",
        "(x_train, y_train), (x_test, y_test) = cifar10.load_data()"
      ],
      "execution_count": null,
      "outputs": []
    },
    {
      "cell_type": "code",
      "metadata": {
        "id": "IK9C1bS5fDs5",
        "colab": {
          "base_uri": "https://localhost:8080/"
        },
        "outputId": "bd5da764-e08d-4054-b3fb-98067a529f7a"
      },
      "source": [
        "x_train[0].shape, y_test[0]"
      ],
      "execution_count": null,
      "outputs": [
        {
          "output_type": "execute_result",
          "data": {
            "text/plain": [
              "((32, 32, 3), array([3], dtype=uint8))"
            ]
          },
          "metadata": {
            "tags": []
          },
          "execution_count": 41
        }
      ]
    },
    {
      "cell_type": "code",
      "metadata": {
        "id": "DC-Xty5qrlDq",
        "colab": {
          "base_uri": "https://localhost:8080/"
        },
        "outputId": "94fe287e-9a06-4859-b359-d1ce3a9efab5"
      },
      "source": [
        "x_train = x_train.reshape(-1, 3072) # N\n",
        "x_test = x_test.reshape(-1, 3072)\n",
        "x_train = x_train.astype('float32')\n",
        "x_test = x_test.astype('float32')\n",
        "# normalize (0-1)\n",
        "x_train /= 255\n",
        "x_test /= 255\n",
        "print(x_train.shape[0], 'train samples')\n",
        "print(x_test.shape[0], 'test samples')"
      ],
      "execution_count": null,
      "outputs": [
        {
          "output_type": "stream",
          "text": [
            "50000 train samples\n",
            "10000 test samples\n"
          ],
          "name": "stdout"
        }
      ]
    },
    {
      "cell_type": "code",
      "metadata": {
        "id": "LZsi4rUCrnJC",
        "colab": {
          "base_uri": "https://localhost:8080/"
        },
        "outputId": "dd5ae545-5174-42c4-bc21-895065eaa033"
      },
      "source": [
        "# convert class vectors to binary class matrices\n",
        "print(y_train[0])\n",
        "y_train = tf.keras.utils.to_categorical(y_train, num_classes)\n",
        "y_test = tf.keras.utils.to_categorical(y_test, num_classes)\n",
        "print(y_train[0])"
      ],
      "execution_count": null,
      "outputs": [
        {
          "output_type": "stream",
          "text": [
            "[6]\n",
            "[0. 0. 0. 0. 0. 0. 1. 0. 0. 0.]\n"
          ],
          "name": "stdout"
        }
      ]
    },
    {
      "cell_type": "markdown",
      "metadata": {
        "id": "logOoToE5xja"
      },
      "source": [
        "### ANN\n",
        "First, let's try an ANN"
      ]
    },
    {
      "cell_type": "code",
      "metadata": {
        "colab": {
          "base_uri": "https://localhost:8080/"
        },
        "id": "BmIpnjne5v7s",
        "outputId": "9ffab51c-f9c3-4d58-8af8-a5225e0407a6"
      },
      "source": [
        "ANN = Sequential()\n",
        "ANN.add(Dense(5000, activation='relu', input_shape=(3072,)))\n",
        "ANN.add(Dense(1000, activation='relu'))\n",
        "ANN.add(Dense(200, activation='relu'))\n",
        "ANN.add(Dense(50, activation='relu'))\n",
        "ANN.add(Dense(num_classes, activation='softmax'))\n",
        "ANN.summary()"
      ],
      "execution_count": null,
      "outputs": [
        {
          "output_type": "stream",
          "text": [
            "Model: \"sequential_11\"\n",
            "_________________________________________________________________\n",
            "Layer (type)                 Output Shape              Param #   \n",
            "=================================================================\n",
            "dense_50 (Dense)             (None, 5000)              15365000  \n",
            "_________________________________________________________________\n",
            "dense_51 (Dense)             (None, 1000)              5001000   \n",
            "_________________________________________________________________\n",
            "dense_52 (Dense)             (None, 200)               200200    \n",
            "_________________________________________________________________\n",
            "dense_53 (Dense)             (None, 50)                10050     \n",
            "_________________________________________________________________\n",
            "dense_54 (Dense)             (None, 10)                510       \n",
            "=================================================================\n",
            "Total params: 20,576,760\n",
            "Trainable params: 20,576,760\n",
            "Non-trainable params: 0\n",
            "_________________________________________________________________\n"
          ],
          "name": "stdout"
        }
      ]
    },
    {
      "cell_type": "code",
      "metadata": {
        "id": "FCPnKW6AsOAJ"
      },
      "source": [
        "opt = keras.optimizers.Adam(learning_rate=0.0015) \n",
        "ANN.compile(loss='categorical_crossentropy',\n",
        "              optimizer=opt,\n",
        "              metrics=['accuracy'])"
      ],
      "execution_count": null,
      "outputs": []
    },
    {
      "cell_type": "code",
      "metadata": {
        "id": "2PR5ZGvasaiB",
        "colab": {
          "base_uri": "https://localhost:8080/"
        },
        "outputId": "e50a97f6-0a1f-429a-faac-56c3a5a529c1"
      },
      "source": [
        "History = ANN.fit(x_train, y_train,\n",
        "          batch_size=20,\n",
        "          epochs=epochs,\n",
        "          verbose=1,\n",
        "          validation_data=(x_test, y_test))"
      ],
      "execution_count": null,
      "outputs": [
        {
          "output_type": "stream",
          "text": [
            "Epoch 1/16\n",
            "2500/2500 [==============================] - 16s 6ms/step - loss: 2.3395 - accuracy: 0.2467 - val_loss: 1.8066 - val_accuracy: 0.3358\n",
            "Epoch 2/16\n",
            "2500/2500 [==============================] - 16s 6ms/step - loss: 1.7551 - accuracy: 0.3660 - val_loss: 1.6683 - val_accuracy: 0.3904\n",
            "Epoch 3/16\n",
            "2500/2500 [==============================] - 15s 6ms/step - loss: 1.6729 - accuracy: 0.3948 - val_loss: 1.6144 - val_accuracy: 0.4281\n",
            "Epoch 4/16\n",
            "2500/2500 [==============================] - 16s 6ms/step - loss: 1.6210 - accuracy: 0.4176 - val_loss: 1.5916 - val_accuracy: 0.4339\n",
            "Epoch 5/16\n",
            "2500/2500 [==============================] - 15s 6ms/step - loss: 1.5791 - accuracy: 0.4333 - val_loss: 1.5584 - val_accuracy: 0.4366\n",
            "Epoch 6/16\n",
            "2500/2500 [==============================] - 16s 6ms/step - loss: 1.5492 - accuracy: 0.4446 - val_loss: 1.5641 - val_accuracy: 0.4485\n",
            "Epoch 7/16\n",
            "2500/2500 [==============================] - 15s 6ms/step - loss: 1.5221 - accuracy: 0.4560 - val_loss: 1.5630 - val_accuracy: 0.4429\n",
            "Epoch 8/16\n",
            "2500/2500 [==============================] - 16s 6ms/step - loss: 1.5042 - accuracy: 0.4616 - val_loss: 1.5830 - val_accuracy: 0.4424\n",
            "Epoch 9/16\n",
            "2500/2500 [==============================] - 16s 6ms/step - loss: 1.4782 - accuracy: 0.4690 - val_loss: 1.5401 - val_accuracy: 0.4520\n",
            "Epoch 10/16\n",
            "2500/2500 [==============================] - 15s 6ms/step - loss: 1.4676 - accuracy: 0.4716 - val_loss: 1.5043 - val_accuracy: 0.4635\n",
            "Epoch 11/16\n",
            "2500/2500 [==============================] - 15s 6ms/step - loss: 1.4461 - accuracy: 0.4834 - val_loss: 1.4949 - val_accuracy: 0.4660\n",
            "Epoch 12/16\n",
            "2500/2500 [==============================] - 16s 6ms/step - loss: 1.4315 - accuracy: 0.4847 - val_loss: 1.4667 - val_accuracy: 0.4778\n",
            "Epoch 13/16\n",
            "2500/2500 [==============================] - 15s 6ms/step - loss: 1.4217 - accuracy: 0.4894 - val_loss: 1.4759 - val_accuracy: 0.4740\n",
            "Epoch 14/16\n",
            "2500/2500 [==============================] - 15s 6ms/step - loss: 1.4131 - accuracy: 0.4918 - val_loss: 1.4976 - val_accuracy: 0.4599\n",
            "Epoch 15/16\n",
            "2500/2500 [==============================] - 16s 6ms/step - loss: 1.3935 - accuracy: 0.5010 - val_loss: 1.5101 - val_accuracy: 0.4654\n",
            "Epoch 16/16\n",
            "2500/2500 [==============================] - 15s 6ms/step - loss: 1.3925 - accuracy: 0.5018 - val_loss: 1.4934 - val_accuracy: 0.4755\n"
          ],
          "name": "stdout"
        }
      ]
    },
    {
      "cell_type": "code",
      "metadata": {
        "id": "HN04HgXLsdGG",
        "colab": {
          "base_uri": "https://localhost:8080/"
        },
        "outputId": "3ec0401f-aaa0-441b-b21d-2a513fd2f851"
      },
      "source": [
        "score = ANN.evaluate(x_test, y_test, verbose=0)\n",
        "print('Test loss:', score[0])\n",
        "print('Test accuracy:', score[1])"
      ],
      "execution_count": null,
      "outputs": [
        {
          "output_type": "stream",
          "text": [
            "Test loss: 1.4934138059616089\n",
            "Test accuracy: 0.4754999876022339\n"
          ],
          "name": "stdout"
        }
      ]
    },
    {
      "cell_type": "code",
      "metadata": {
        "id": "XPiO-f-De-Dx"
      },
      "source": [
        "def plot_loss(History):\n",
        "  \"\"\"\n",
        "  Input = History, keras.callbacks.History\n",
        "  Output = the loss plot is generated\n",
        "  \"\"\"\n",
        "  plt.plot(list(range(1, len(History.history['loss']) +1)), History.history['loss'])\n",
        "  plt.xlabel('Epoch')\n",
        "  plt.ylabel('Loss')\n",
        "  plt.title('Loss Plot')\n",
        "  plt.show()"
      ],
      "execution_count": null,
      "outputs": []
    },
    {
      "cell_type": "code",
      "metadata": {
        "colab": {
          "base_uri": "https://localhost:8080/",
          "height": 295
        },
        "id": "dYJKkQh9hb-c",
        "outputId": "f5a8d02b-9af6-437b-ae6a-8579b6113e4b"
      },
      "source": [
        "plot_loss(History)"
      ],
      "execution_count": null,
      "outputs": [
        {
          "output_type": "display_data",
          "data": {
            "image/png": "[encoded data removed]",
            "text/plain": [
              "<Figure size 432x288 with 1 Axes>"
            ]
          },
          "metadata": {
            "tags": [],
            "needs_background": "light"
          }
        }
      ]
    },
    {
      "cell_type": "markdown",
      "metadata": {
        "id": "XZWcRARxhm-K"
      },
      "source": [
        "### CNN\n",
        "Using a purely ANN did not work very well. Let's try a CNN instead."
      ]
    },
    {
      "cell_type": "code",
      "metadata": {
        "id": "VvNtcq_jCOGV"
      },
      "source": [
        "(x_train, y_train), (x_test, y_test) = cifar10.load_data()\n",
        "x_train = x_train.astype('float32')\n",
        "x_test = x_test.astype('float32')\n",
        "x_train /= 255 #without this step, calculation takes ages\n",
        "x_test /= 255\n",
        "y_train = tf.keras.utils.to_categorical(y_train, num_classes)\n",
        "y_test = tf.keras.utils.to_categorical(y_test, num_classes)"
      ],
      "execution_count": null,
      "outputs": []
    },
    {
      "cell_type": "code",
      "metadata": {
        "colab": {
          "base_uri": "https://localhost:8080/"
        },
        "id": "JxwItB6jFLVz",
        "outputId": "3eceaf1a-dda0-483c-b07e-6d41aab1da31"
      },
      "source": [
        "y_train.shape"
      ],
      "execution_count": null,
      "outputs": [
        {
          "output_type": "execute_result",
          "data": {
            "text/plain": [
              "(50000, 10)"
            ]
          },
          "metadata": {
            "tags": []
          },
          "execution_count": 103
        }
      ]
    },
    {
      "cell_type": "code",
      "metadata": {
        "id": "bL886USniK7_"
      },
      "source": [
        "CNN = Sequential()\n",
        "CNN.add(tf.keras.layers.Conv2D(64, (3,3), activation='relu', input_shape=(32, 32, 3)))\n",
        "CNN.add(tf.keras.layers.MaxPooling2D(2, 2))\n",
        "CNN.add(tf.keras.layers.Conv2D(64, (3,3), activation='relu'))\n",
        "CNN.add(tf.keras.layers.MaxPooling2D(2, 2))\n",
        "CNN.add(Flatten())\n",
        "CNN.add(Dense(256, activation='relu'))\n",
        "CNN.add(Dense(64, activation='relu'))\n",
        "CNN.add(Dense(10, activation='softmax'))"
      ],
      "execution_count": null,
      "outputs": []
    },
    {
      "cell_type": "code",
      "metadata": {
        "id": "UcXuB0jlhmPm"
      },
      "source": [
        "opt = keras.optimizers.Adam(learning_rate=0.0015)\n",
        "CNN.compile(loss='categorical_crossentropy',\n",
        "              optimizer=opt, # adam, .... gradient descent\n",
        "              metrics=['accuracy'])"
      ],
      "execution_count": null,
      "outputs": []
    },
    {
      "cell_type": "code",
      "metadata": {
        "colab": {
          "base_uri": "https://localhost:8080/"
        },
        "id": "wIe2dxsFhuoS",
        "outputId": "abd9499b-f35a-4a7f-aacf-fac997658c59"
      },
      "source": [
        "batch_size=128\n",
        "H_CNN = CNN.fit(x_train, y_train,\n",
        "          batch_size=batch_size,\n",
        "          epochs=epochs,\n",
        "          verbose=1,\n",
        "          validation_data=(x_test, y_test))"
      ],
      "execution_count": null,
      "outputs": [
        {
          "output_type": "stream",
          "text": [
            "Epoch 1/16\n",
            "391/391 [==============================] - 5s 9ms/step - loss: 1.7744 - accuracy: 0.3489 - val_loss: 1.2644 - val_accuracy: 0.5453\n",
            "Epoch 2/16\n",
            "391/391 [==============================] - 3s 8ms/step - loss: 1.1920 - accuracy: 0.5717 - val_loss: 1.0604 - val_accuracy: 0.6238\n",
            "Epoch 3/16\n",
            "391/391 [==============================] - 3s 8ms/step - loss: 1.0079 - accuracy: 0.6458 - val_loss: 0.9906 - val_accuracy: 0.6553\n",
            "Epoch 4/16\n",
            "391/391 [==============================] - 3s 8ms/step - loss: 0.8830 - accuracy: 0.6900 - val_loss: 0.9279 - val_accuracy: 0.6786\n",
            "Epoch 5/16\n",
            "391/391 [==============================] - 3s 8ms/step - loss: 0.7817 - accuracy: 0.7243 - val_loss: 0.8857 - val_accuracy: 0.6928\n",
            "Epoch 6/16\n",
            "391/391 [==============================] - 3s 8ms/step - loss: 0.7018 - accuracy: 0.7545 - val_loss: 0.9013 - val_accuracy: 0.6911\n",
            "Epoch 7/16\n",
            "391/391 [==============================] - 3s 8ms/step - loss: 0.6297 - accuracy: 0.7773 - val_loss: 0.8794 - val_accuracy: 0.7060\n",
            "Epoch 8/16\n",
            "391/391 [==============================] - 3s 8ms/step - loss: 0.5536 - accuracy: 0.8064 - val_loss: 0.8912 - val_accuracy: 0.7070\n",
            "Epoch 9/16\n",
            "391/391 [==============================] - 3s 8ms/step - loss: 0.4968 - accuracy: 0.8266 - val_loss: 0.9990 - val_accuracy: 0.6920\n",
            "Epoch 10/16\n",
            "391/391 [==============================] - 3s 8ms/step - loss: 0.4224 - accuracy: 0.8520 - val_loss: 0.9841 - val_accuracy: 0.7052\n",
            "Epoch 11/16\n",
            "391/391 [==============================] - 3s 8ms/step - loss: 0.3651 - accuracy: 0.8736 - val_loss: 1.0474 - val_accuracy: 0.7001\n",
            "Epoch 12/16\n",
            "391/391 [==============================] - 3s 8ms/step - loss: 0.3134 - accuracy: 0.8903 - val_loss: 1.1197 - val_accuracy: 0.6925\n",
            "Epoch 13/16\n",
            "391/391 [==============================] - 3s 8ms/step - loss: 0.2781 - accuracy: 0.9029 - val_loss: 1.2257 - val_accuracy: 0.6895\n",
            "Epoch 14/16\n",
            "391/391 [==============================] - 3s 8ms/step - loss: 0.2305 - accuracy: 0.9192 - val_loss: 1.3428 - val_accuracy: 0.6958\n",
            "Epoch 15/16\n",
            "391/391 [==============================] - 3s 8ms/step - loss: 0.2010 - accuracy: 0.9285 - val_loss: 1.4306 - val_accuracy: 0.6900\n",
            "Epoch 16/16\n",
            "391/391 [==============================] - 3s 8ms/step - loss: 0.1692 - accuracy: 0.9394 - val_loss: 1.4838 - val_accuracy: 0.6958\n"
          ],
          "name": "stdout"
        }
      ]
    },
    {
      "cell_type": "code",
      "metadata": {
        "colab": {
          "base_uri": "https://localhost:8080/"
        },
        "id": "oaMsJqEqj1Lv",
        "outputId": "e98e6a92-b956-4473-f024-c7c4a786b479"
      },
      "source": [
        "score = CNN.evaluate(x_test, y_test, verbose=0)\n",
        "print('Test loss:', score[0])\n",
        "print('Test accuracy:', score[1])"
      ],
      "execution_count": null,
      "outputs": [
        {
          "output_type": "stream",
          "text": [
            "Test loss: 1.483799934387207\n",
            "Test accuracy: 0.6958000063896179\n"
          ],
          "name": "stdout"
        }
      ]
    },
    {
      "cell_type": "code",
      "metadata": {
        "colab": {
          "base_uri": "https://localhost:8080/",
          "height": 295
        },
        "id": "nmuef-Nlm6TN",
        "outputId": "d6b9a1b6-05a1-48ae-a8f9-049fbcaa1414"
      },
      "source": [
        "plot_loss(H_CNN)"
      ],
      "execution_count": null,
      "outputs": [
        {
          "output_type": "display_data",
          "data": {
            "image/png": "[encoded data removed]",
            "text/plain": [
              "<Figure size 432x288 with 1 Axes>"
            ]
          },
          "metadata": {
            "tags": [],
            "needs_background": "light"
          }
        }
      ]
    },
    {
      "cell_type": "markdown",
      "metadata": {
        "id": "U5JA_5Pzj6iA"
      },
      "source": [
        "**Conclusion**: There has been a huge improvement compared to purely CNN, despite a reduction in the number of neurons and fully connected layers. Convolution and max pooling are so great =))."
      ]
    }
  ]
}