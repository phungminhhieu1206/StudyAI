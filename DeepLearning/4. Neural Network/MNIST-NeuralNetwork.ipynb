{
 "cells": [
  {
   "cell_type": "code",
   "execution_count": null,
   "metadata": {
    "colab": {
     "base_uri": "https://localhost:8080/"
    },
    "executionInfo": {
     "elapsed": 20498,
     "status": "ok",
     "timestamp": 1625117103561,
     "user": {
      "displayName": "Minh Hiếu Phùng",
      "photoUrl": "https://lh3.googleusercontent.com/a-/AOh14GgGtgz36bIRqqPUoN8ACRUJbc4weoGdk4XmB_8bXg=s64",
      "userId": "06029783178480672997"
     },
     "user_tz": -420
    },
    "id": "pGR7JHQs6jZU",
    "outputId": "39165489-ab2e-482e-d8d6-355982fe4d06"
   },
   "outputs": [
    {
     "name": "stdout",
     "output_type": "stream",
     "text": [
      "Mounted at /content/drive\n"
     ]
    }
   ],
   "source": [
    "from google.colab import drive\n",
    "drive.mount('/content/drive')"
   ]
  },
  {
   "cell_type": "code",
   "execution_count": null,
   "metadata": {
    "id": "4znYCEYXrWGb"
   },
   "outputs": [],
   "source": [
    "import keras\n",
    "from tensorflow import keras\n",
    "from tensorflow import keras\n",
    "from keras.datasets import mnist\n",
    "from keras.models import Sequential\n",
    "from keras.layers import Dense, Dropout, Flatten\n",
    "from keras.optimizers import SGD\n",
    "from keras import backend as K"
   ]
  },
  {
   "cell_type": "code",
   "execution_count": null,
   "metadata": {
    "id": "JAF1srq8rcvd"
   },
   "outputs": [],
   "source": [
    "batch_size = 128\n",
    "num_classes = 10\n",
    "epochs = 12"
   ]
  },
  {
   "cell_type": "code",
   "execution_count": null,
   "metadata": {
    "id": "0D1dhEPIri86"
   },
   "outputs": [],
   "source": [
    "# input image dimensions\n",
    "img_rows, img_cols = 28, 28\n",
    "\n",
    "# the data, split between train and test sets\n",
    "(x_train, y_train), (x_test, y_test) = mnist.load_data()"
   ]
  },
  {
   "cell_type": "code",
   "execution_count": null,
   "metadata": {
    "colab": {
     "base_uri": "https://localhost:8080/"
    },
    "executionInfo": {
     "elapsed": 310,
     "status": "ok",
     "timestamp": 1625117329890,
     "user": {
      "displayName": "Minh Hiếu Phùng",
      "photoUrl": "https://lh3.googleusercontent.com/a-/AOh14GgGtgz36bIRqqPUoN8ACRUJbc4weoGdk4XmB_8bXg=s64",
      "userId": "06029783178480672997"
     },
     "user_tz": -420
    },
    "id": "mgGU8MOSiXrS",
    "outputId": "7d2f11ef-d0d6-4fd1-b517-3fa309300427"
   },
   "outputs": [
    {
     "name": "stdout",
     "output_type": "stream",
     "text": [
      "(60000, 28, 28)\n"
     ]
    }
   ],
   "source": [
    "print(x_train.shape)"
   ]
  },
  {
   "cell_type": "code",
   "execution_count": null,
   "metadata": {
    "id": "AE1w3Iymiqfb"
   },
   "outputs": [],
   "source": [
    "x_val, y_val = x_train[50000:60000, :], y_train[50000:60000]\n",
    "x_train, y_train = x_train[:50000, :], y_train[:50000]"
   ]
  },
  {
   "cell_type": "code",
   "execution_count": null,
   "metadata": {
    "colab": {
     "base_uri": "https://localhost:8080/"
    },
    "executionInfo": {
     "elapsed": 330,
     "status": "ok",
     "timestamp": 1625117660574,
     "user": {
      "displayName": "Minh Hiếu Phùng",
      "photoUrl": "https://lh3.googleusercontent.com/a-/AOh14GgGtgz36bIRqqPUoN8ACRUJbc4weoGdk4XmB_8bXg=s64",
      "userId": "06029783178480672997"
     },
     "user_tz": -420
    },
    "id": "IK9C1bS5fDs5",
    "outputId": "cbf927cc-ae69-460d-f8ff-f2d84ca79596"
   },
   "outputs": [
    {
     "data": {
      "text/plain": [
       "((50000, 28, 28), (28, 28), 5, (10000, 28, 28), 2)"
      ]
     },
     "execution_count": 24,
     "metadata": {
      "tags": []
     },
     "output_type": "execute_result"
    }
   ],
   "source": [
    "x_train.shape, x_train[0].shape, y_train[0], x_test.shape, y_test[1]"
   ]
  },
  {
   "cell_type": "code",
   "execution_count": null,
   "metadata": {
    "colab": {
     "base_uri": "https://localhost:8080/"
    },
    "executionInfo": {
     "elapsed": 318,
     "status": "ok",
     "timestamp": 1625117662533,
     "user": {
      "displayName": "Minh Hiếu Phùng",
      "photoUrl": "https://lh3.googleusercontent.com/a-/AOh14GgGtgz36bIRqqPUoN8ACRUJbc4weoGdk4XmB_8bXg=s64",
      "userId": "06029783178480672997"
     },
     "user_tz": -420
    },
    "id": "DC-Xty5qrlDq",
    "outputId": "ab959edd-ecb3-4992-8462-f82a0614bb96"
   },
   "outputs": [
    {
     "name": "stdout",
     "output_type": "stream",
     "text": [
      "50000 train samples\n",
      "10000 val samples\n",
      "10000 test samples\n"
     ]
    }
   ],
   "source": [
    "x_train = x_train.reshape(-1, 784) # N\n",
    "x_val = x_val.reshape(-1, 784)\n",
    "x_test = x_test.reshape(-1, 784)\n",
    "x_train = x_train.astype('float32')\n",
    "x_test = x_test.astype('float32')\n",
    "x_val = x_val.astype('float32')\n",
    "\n",
    "# normalize (0-1)\n",
    "x_train /= 255.0\n",
    "x_test /= 255.0\n",
    "x_val /= 255.0\n",
    "print(x_train.shape[0], 'train samples')\n",
    "print(x_val.shape[0], 'val samples')\n",
    "print(x_test.shape[0], 'test samples')"
   ]
  },
  {
   "cell_type": "code",
   "execution_count": null,
   "metadata": {
    "colab": {
     "base_uri": "https://localhost:8080/"
    },
    "executionInfo": {
     "elapsed": 313,
     "status": "ok",
     "timestamp": 1625117664626,
     "user": {
      "displayName": "Minh Hiếu Phùng",
      "photoUrl": "https://lh3.googleusercontent.com/a-/AOh14GgGtgz36bIRqqPUoN8ACRUJbc4weoGdk4XmB_8bXg=s64",
      "userId": "06029783178480672997"
     },
     "user_tz": -420
    },
    "id": "LZsi4rUCrnJC",
    "outputId": "06b158ff-3c63-4670-9c2e-2b088c47766b"
   },
   "outputs": [
    {
     "name": "stdout",
     "output_type": "stream",
     "text": [
      "5\n",
      "[0. 0. 0. 0. 0. 1. 0. 0. 0. 0.]\n"
     ]
    }
   ],
   "source": [
    "# one - hot coding\n",
    "# convert class vectors to binary class matrices\n",
    "print(y_train[0])\n",
    "y_train = keras.utils.to_categorical(y_train, num_classes)\n",
    "y_val = keras.utils.to_categorical(y_val, num_classes)\n",
    "y_test = keras.utils.to_categorical(y_test, num_classes)\n",
    "print(y_train[0])"
   ]
  },
  {
   "cell_type": "code",
   "execution_count": null,
   "metadata": {
    "colab": {
     "base_uri": "https://localhost:8080/"
    },
    "executionInfo": {
     "elapsed": 329,
     "status": "ok",
     "timestamp": 1625117161215,
     "user": {
      "displayName": "Minh Hiếu Phùng",
      "photoUrl": "https://lh3.googleusercontent.com/a-/AOh14GgGtgz36bIRqqPUoN8ACRUJbc4weoGdk4XmB_8bXg=s64",
      "userId": "06029783178480672997"
     },
     "user_tz": -420
    },
    "id": "_kiVBb0mnCER",
    "outputId": "825e0610-b299-49ec-9d6f-024f2541a2fa"
   },
   "outputs": [
    {
     "name": "stdout",
     "output_type": "stream",
     "text": [
      "(784,)\n"
     ]
    }
   ],
   "source": [
    "print((784, ))"
   ]
  },
  {
   "cell_type": "code",
   "execution_count": null,
   "metadata": {
    "colab": {
     "base_uri": "https://localhost:8080/"
    },
    "executionInfo": {
     "elapsed": 409,
     "status": "ok",
     "timestamp": 1625117672923,
     "user": {
      "displayName": "Minh Hiếu Phùng",
      "photoUrl": "https://lh3.googleusercontent.com/a-/AOh14GgGtgz36bIRqqPUoN8ACRUJbc4weoGdk4XmB_8bXg=s64",
      "userId": "06029783178480672997"
     },
     "user_tz": -420
    },
    "id": "bTXDhUtHrpTa",
    "outputId": "4892fcec-a839-4e15-dfc9-2cf3593fd4df"
   },
   "outputs": [
    {
     "name": "stdout",
     "output_type": "stream",
     "text": [
      "Model: \"sequential_1\"\n",
      "_________________________________________________________________\n",
      "Layer (type)                 Output Shape              Param #   \n",
      "=================================================================\n",
      "dense_3 (Dense)              (None, 512)               401920    \n",
      "_________________________________________________________________\n",
      "dense_4 (Dense)              (None, 32)                16416     \n",
      "_________________________________________________________________\n",
      "dense_5 (Dense)              (None, 10)                330       \n",
      "=================================================================\n",
      "Total params: 418,666\n",
      "Trainable params: 418,666\n",
      "Non-trainable params: 0\n",
      "_________________________________________________________________\n"
     ]
    }
   ],
   "source": [
    "model = Sequential()\n",
    "# input_shape\n",
    "model.add(Dense(512, activation='relu', input_shape=(784,)))\n",
    "model.add(Dense(32, activation='relu'))\n",
    "model.add(Dense(num_classes, activation='softmax'))\n",
    "\n",
    "model.summary()"
   ]
  },
  {
   "cell_type": "code",
   "execution_count": null,
   "metadata": {
    "id": "FCPnKW6AsOAJ"
   },
   "outputs": [],
   "source": [
    "model.compile(loss='categorical_crossentropy',\n",
    "              optimizer=SGD(), # adam, .... gradient descent\n",
    "              metrics=['accuracy'])"
   ]
  },
  {
   "cell_type": "code",
   "execution_count": null,
   "metadata": {
    "colab": {
     "base_uri": "https://localhost:8080/"
    },
    "executionInfo": {
     "elapsed": 16644,
     "status": "ok",
     "timestamp": 1625117713700,
     "user": {
      "displayName": "Minh Hiếu Phùng",
      "photoUrl": "https://lh3.googleusercontent.com/a-/AOh14GgGtgz36bIRqqPUoN8ACRUJbc4weoGdk4XmB_8bXg=s64",
      "userId": "06029783178480672997"
     },
     "user_tz": -420
    },
    "id": "2PR5ZGvasaiB",
    "outputId": "6e0de815-ebf8-4086-b751-ab5259d8e286"
   },
   "outputs": [
    {
     "name": "stdout",
     "output_type": "stream",
     "text": [
      "Epoch 1/12\n",
      "391/391 [==============================] - 2s 4ms/step - loss: 1.7426 - accuracy: 0.4744 - val_loss: 0.6560 - val_accuracy: 0.8519\n",
      "Epoch 2/12\n",
      "391/391 [==============================] - 1s 4ms/step - loss: 0.6131 - accuracy: 0.8484 - val_loss: 0.4173 - val_accuracy: 0.8930\n",
      "Epoch 3/12\n",
      "391/391 [==============================] - 1s 4ms/step - loss: 0.4329 - accuracy: 0.8849 - val_loss: 0.3460 - val_accuracy: 0.9048\n",
      "Epoch 4/12\n",
      "391/391 [==============================] - 1s 3ms/step - loss: 0.3685 - accuracy: 0.8988 - val_loss: 0.3095 - val_accuracy: 0.9148\n",
      "Epoch 5/12\n",
      "391/391 [==============================] - 1s 3ms/step - loss: 0.3284 - accuracy: 0.9086 - val_loss: 0.2875 - val_accuracy: 0.9200\n",
      "Epoch 6/12\n",
      "391/391 [==============================] - 1s 4ms/step - loss: 0.3017 - accuracy: 0.9157 - val_loss: 0.2696 - val_accuracy: 0.9251\n",
      "Epoch 7/12\n",
      "391/391 [==============================] - 1s 4ms/step - loss: 0.2871 - accuracy: 0.9199 - val_loss: 0.2555 - val_accuracy: 0.9282\n",
      "Epoch 8/12\n",
      "391/391 [==============================] - 1s 3ms/step - loss: 0.2719 - accuracy: 0.9244 - val_loss: 0.2448 - val_accuracy: 0.9309\n",
      "Epoch 9/12\n",
      "391/391 [==============================] - 1s 4ms/step - loss: 0.2540 - accuracy: 0.9287 - val_loss: 0.2330 - val_accuracy: 0.9352\n",
      "Epoch 10/12\n",
      "391/391 [==============================] - 1s 3ms/step - loss: 0.2420 - accuracy: 0.9320 - val_loss: 0.2240 - val_accuracy: 0.9384\n",
      "Epoch 11/12\n",
      "391/391 [==============================] - 1s 3ms/step - loss: 0.2401 - accuracy: 0.9337 - val_loss: 0.2160 - val_accuracy: 0.9408\n",
      "Epoch 12/12\n",
      "391/391 [==============================] - 1s 3ms/step - loss: 0.2296 - accuracy: 0.9357 - val_loss: 0.2102 - val_accuracy: 0.9435\n"
     ]
    }
   ],
   "source": [
    "H = model.fit(x_train, y_train,\n",
    "          batch_size=batch_size,\n",
    "          epochs=epochs,\n",
    "          verbose=1,\n",
    "          validation_data=(x_val, y_val))"
   ]
  },
  {
   "cell_type": "code",
   "execution_count": null,
   "metadata": {
    "colab": {
     "base_uri": "https://localhost:8080/"
    },
    "executionInfo": {
     "elapsed": 824,
     "status": "ok",
     "timestamp": 1625117718703,
     "user": {
      "displayName": "Minh Hiếu Phùng",
      "photoUrl": "https://lh3.googleusercontent.com/a-/AOh14GgGtgz36bIRqqPUoN8ACRUJbc4weoGdk4XmB_8bXg=s64",
      "userId": "06029783178480672997"
     },
     "user_tz": -420
    },
    "id": "HN04HgXLsdGG",
    "outputId": "b8058c31-c567-480e-c336-7438073e0a4b"
   },
   "outputs": [
    {
     "name": "stdout",
     "output_type": "stream",
     "text": [
      "Test loss: 0.2193661630153656\n",
      "Test accuracy: 0.9365000128746033\n"
     ]
    }
   ],
   "source": [
    "score = model.evaluate(x_test, y_test, verbose=0)\n",
    "print('Test loss:', score[0])\n",
    "print('Test accuracy:', score[1])"
   ]
  },
  {
   "cell_type": "markdown",
   "metadata": {
    "id": "fh_IJvTTlw_l"
   },
   "source": [
    "# Save and load model"
   ]
  },
  {
   "cell_type": "code",
   "execution_count": null,
   "metadata": {
    "colab": {
     "base_uri": "https://localhost:8080/"
    },
    "executionInfo": {
     "elapsed": 880,
     "status": "ok",
     "timestamp": 1625117861633,
     "user": {
      "displayName": "Minh Hiếu Phùng",
      "photoUrl": "https://lh3.googleusercontent.com/a-/AOh14GgGtgz36bIRqqPUoN8ACRUJbc4weoGdk4XmB_8bXg=s64",
      "userId": "06029783178480672997"
     },
     "user_tz": -420
    },
    "id": "JvVLRkLikLe7",
    "outputId": "2c82d746-3ea1-4e6b-dc03-ad0a828e9fc1"
   },
   "outputs": [
    {
     "name": "stdout",
     "output_type": "stream",
     "text": [
      "INFO:tensorflow:Assets written to: saved_model/neural_network_1/assets\n"
     ]
    }
   ],
   "source": [
    "model.save('saved_model/neural_network_1') "
   ]
  },
  {
   "cell_type": "code",
   "execution_count": null,
   "metadata": {
    "colab": {
     "base_uri": "https://localhost:8080/"
    },
    "executionInfo": {
     "elapsed": 409,
     "status": "ok",
     "timestamp": 1625117919494,
     "user": {
      "displayName": "Minh Hiếu Phùng",
      "photoUrl": "https://lh3.googleusercontent.com/a-/AOh14GgGtgz36bIRqqPUoN8ACRUJbc4weoGdk4XmB_8bXg=s64",
      "userId": "06029783178480672997"
     },
     "user_tz": -420
    },
    "id": "3gZK9B1Hk33L",
    "outputId": "e6f7ff95-0257-49a7-ee19-e1c86e75df3b"
   },
   "outputs": [
    {
     "name": "stdout",
     "output_type": "stream",
     "text": [
      "neural_network_1\n"
     ]
    }
   ],
   "source": [
    "!ls saved_model"
   ]
  },
  {
   "cell_type": "code",
   "execution_count": null,
   "metadata": {
    "colab": {
     "base_uri": "https://localhost:8080/"
    },
    "executionInfo": {
     "elapsed": 329,
     "status": "ok",
     "timestamp": 1625117970723,
     "user": {
      "displayName": "Minh Hiếu Phùng",
      "photoUrl": "https://lh3.googleusercontent.com/a-/AOh14GgGtgz36bIRqqPUoN8ACRUJbc4weoGdk4XmB_8bXg=s64",
      "userId": "06029783178480672997"
     },
     "user_tz": -420
    },
    "id": "O9FMmdpelB_f",
    "outputId": "09eb5f90-01a3-4b57-a099-4f7f77afe0fc"
   },
   "outputs": [
    {
     "name": "stdout",
     "output_type": "stream",
     "text": [
      "assets\tkeras_metadata.pb  saved_model.pb  variables\n"
     ]
    }
   ],
   "source": [
    "!ls saved_model/neural_network_1"
   ]
  },
  {
   "cell_type": "code",
   "execution_count": null,
   "metadata": {
    "id": "LNQIaT_Ck-N8"
   },
   "outputs": [],
   "source": [
    "new_model = keras.models.load_model('saved_model/neural_network_1')"
   ]
  },
  {
   "cell_type": "code",
   "execution_count": null,
   "metadata": {
    "colab": {
     "base_uri": "https://localhost:8080/"
    },
    "executionInfo": {
     "elapsed": 325,
     "status": "ok",
     "timestamp": 1625118059128,
     "user": {
      "displayName": "Minh Hiếu Phùng",
      "photoUrl": "https://lh3.googleusercontent.com/a-/AOh14GgGtgz36bIRqqPUoN8ACRUJbc4weoGdk4XmB_8bXg=s64",
      "userId": "06029783178480672997"
     },
     "user_tz": -420
    },
    "id": "6b_obsIclZtO",
    "outputId": "4ba4b917-0f46-48b5-fe3c-f09824c46ce2"
   },
   "outputs": [
    {
     "name": "stdout",
     "output_type": "stream",
     "text": [
      "Model: \"sequential_1\"\n",
      "_________________________________________________________________\n",
      "Layer (type)                 Output Shape              Param #   \n",
      "=================================================================\n",
      "dense_3 (Dense)              (None, 512)               401920    \n",
      "_________________________________________________________________\n",
      "dense_4 (Dense)              (None, 32)                16416     \n",
      "_________________________________________________________________\n",
      "dense_5 (Dense)              (None, 10)                330       \n",
      "=================================================================\n",
      "Total params: 418,666\n",
      "Trainable params: 418,666\n",
      "Non-trainable params: 0\n",
      "_________________________________________________________________\n"
     ]
    }
   ],
   "source": [
    "new_model.summary()"
   ]
  },
  {
   "cell_type": "code",
   "execution_count": 39,
   "metadata": {
    "colab": {
     "base_uri": "https://localhost:8080/"
    },
    "executionInfo": {
     "elapsed": 1132,
     "status": "ok",
     "timestamp": 1625118215680,
     "user": {
      "displayName": "Minh Hiếu Phùng",
      "photoUrl": "https://lh3.googleusercontent.com/a-/AOh14GgGtgz36bIRqqPUoN8ACRUJbc4weoGdk4XmB_8bXg=s64",
      "userId": "06029783178480672997"
     },
     "user_tz": -420
    },
    "id": "rsDJiiw-lirT",
    "outputId": "bade5649-73e0-4b0d-e9dd-a968cf2830b5"
   },
   "outputs": [
    {
     "name": "stdout",
     "output_type": "stream",
     "text": [
      "313/313 - 0s - loss: 0.2194 - accuracy: 0.9365\n",
      "Restored model, accuracy: 93.65%\n",
      "(10000, 10)\n"
     ]
    }
   ],
   "source": [
    "# Evaluate the restored model\n",
    "loss, acc = new_model.evaluate(x_test, y_test, verbose=2)\n",
    "print('Restored model, accuracy: {:5.2f}%'.format(100 * acc))\n",
    "\n",
    "print(new_model.predict(x_test).shape)"
   ]
  },
  {
   "cell_type": "code",
   "execution_count": null,
   "metadata": {
    "id": "8Jxpm3gmtKrt"
   },
   "outputs": [],
   "source": [
    "# H.history['loss'], 'accuracy', 'val_loss', 'val_accuracy'"
   ]
  }
 ],
 "metadata": {
  "accelerator": "GPU",
  "colab": {
   "collapsed_sections": [],
   "name": "MNIST-NeuralNetwork.ipynb",
   "provenance": []
  },
  "kernelspec": {
   "display_name": "Python 3",
   "language": "python",
   "name": "python3"
  },
  "language_info": {
   "codemirror_mode": {
    "name": "ipython",
    "version": 3
   },
   "file_extension": ".py",
   "mimetype": "text/x-python",
   "name": "python",
   "nbconvert_exporter": "python",
   "pygments_lexer": "ipython3",
   "version": "3.8.8"
  }
 },
 "nbformat": 4,
 "nbformat_minor": 1
}
