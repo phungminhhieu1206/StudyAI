{
  "nbformat": 4,
  "nbformat_minor": 0,
  "metadata": {
    "colab": {
      "name": "Optional_HW3.ipynb",
      "provenance": [],
      "collapsed_sections": []
    },
    "kernelspec": {
      "name": "python3",
      "display_name": "Python 3"
    },
    "language_info": {
      "name": "python"
    }
  },
  "cells": [
    {
      "cell_type": "code",
      "metadata": {
        "id": "mSmP04P1f24A"
      },
      "source": [
        "# import thư viện\n",
        "import numpy as np\n",
        "import pandas as pd"
      ],
      "execution_count": null,
      "outputs": []
    },
    {
      "cell_type": "code",
      "metadata": {
        "id": "Z9Jf_bjr45V5"
      },
      "source": [
        "# Hàm sigmoid\n",
        "def sigmoid(x):\n",
        "        return 1/(1+np.exp(-x))"
      ],
      "execution_count": null,
      "outputs": []
    },
    {
      "cell_type": "code",
      "metadata": {
        "id": "galdshXW46mA"
      },
      "source": [
        "#load dữ liệu\n",
        "data = pd.read_csv('/content/drive/MyDrive/dataset.csv').values\n",
        "N,d = data.shape\n",
        "X = data[:,:d-1].reshape(-1,d-1)\n",
        "y = data[:,d-1].reshape(-1,1)\n",
        "\n",
        "# mảng chứa số node của các layers\n",
        "layers = [d-1,4,3,2,1]\n",
        "# khởi tạo weight, bias ở các layers\n",
        "W = []\n",
        "B = []\n",
        "for i in range(0,len(layers)-1):\n",
        "    w = np.ones((layers[i],layers[i+1]))\n",
        "    b = np.ones((layers[i+1],1))\n",
        "    W.append(w)\n",
        "    B.append(b)\n",
        "# Feedforward bằng numpy với activation func. là sigmoid\n",
        "a = X\n",
        "\n",
        "for i in range(0,len(layers)-1):\n",
        "    a = sigmoid(np.dot(a,W[i]) + B[i].T)\n",
        "    "
      ],
      "execution_count": null,
      "outputs": []
    },
    {
      "cell_type": "code",
      "metadata": {
        "colab": {
          "base_uri": "https://localhost:8080/"
        },
        "id": "Yi8OIBPJpdMo",
        "outputId": "c7589687-a3d8-46c2-9ed5-898f672e4a44"
      },
      "source": [
        "#Output\n",
        "print(np.round(a,6))"
      ],
      "execution_count": null,
      "outputs": [
        {
          "output_type": "stream",
          "text": [
            "[[0.950889]\n",
            " [0.950889]\n",
            " [0.950889]\n",
            " [0.950889]\n",
            " [0.950889]\n",
            " [0.950889]\n",
            " [0.950889]\n",
            " [0.950889]\n",
            " [0.950889]\n",
            " [0.950889]\n",
            " [0.950889]\n",
            " [0.950889]\n",
            " [0.950889]\n",
            " [0.950889]\n",
            " [0.950889]\n",
            " [0.950889]\n",
            " [0.950889]\n",
            " [0.950889]\n",
            " [0.950889]\n",
            " [0.950889]]\n"
          ],
          "name": "stdout"
        }
      ]
    },
    {
      "cell_type": "code",
      "metadata": {
        "id": "zDOS7Hf9ABDu"
      },
      "source": [
        "#Feedforward sử dụng keras\n",
        "from keras.models import Sequential\n",
        "from keras.layers import Dense"
      ],
      "execution_count": null,
      "outputs": []
    },
    {
      "cell_type": "code",
      "metadata": {
        "colab": {
          "base_uri": "https://localhost:8080/"
        },
        "id": "Zspk9qDOCbBK",
        "outputId": "160dd4d7-7f17-4cf4-d096-65c293d67bd3"
      },
      "source": [
        "model = Sequential()\n",
        "model.add(Dense(4, activation='sigmoid', input_shape=(d-1,)))\n",
        "model.add(Dense(3, activation='sigmoid'))\n",
        "model.add(Dense(2, activation='sigmoid'))\n",
        "model.add(Dense(1, activation='sigmoid'))\n",
        "model.summary()"
      ],
      "execution_count": null,
      "outputs": [
        {
          "output_type": "stream",
          "text": [
            "Model: \"sequential\"\n",
            "_________________________________________________________________\n",
            "Layer (type)                 Output Shape              Param #   \n",
            "=================================================================\n",
            "dense (Dense)                (None, 4)                 12        \n",
            "_________________________________________________________________\n",
            "dense_1 (Dense)              (None, 3)                 15        \n",
            "_________________________________________________________________\n",
            "dense_2 (Dense)              (None, 2)                 8         \n",
            "_________________________________________________________________\n",
            "dense_3 (Dense)              (None, 1)                 3         \n",
            "=================================================================\n",
            "Total params: 38\n",
            "Trainable params: 38\n",
            "Non-trainable params: 0\n",
            "_________________________________________________________________\n"
          ],
          "name": "stdout"
        }
      ]
    },
    {
      "cell_type": "code",
      "metadata": {
        "id": "D5OaPqkZNWwF"
      },
      "source": [
        "#Khởi tạo weights, bias cho các layers của model keras\n",
        "for i in range(0,len(layers)-1):\n",
        "    model.layers[i].set_weights([np.ones((layers[i],layers[i+1])),np.ones((layers[i+1],))])"
      ],
      "execution_count": null,
      "outputs": []
    },
    {
      "cell_type": "code",
      "metadata": {
        "colab": {
          "base_uri": "https://localhost:8080/"
        },
        "id": "Un2GXPbuStEC",
        "outputId": "3a59402b-6b96-46aa-8aa1-3b15fb63fc04"
      },
      "source": [
        "#Output\n",
        "b = model.predict(X)\n",
        "print(np.round(b,6))"
      ],
      "execution_count": null,
      "outputs": [
        {
          "output_type": "stream",
          "text": [
            "[[0.950889]\n",
            " [0.950889]\n",
            " [0.950889]\n",
            " [0.950889]\n",
            " [0.950889]\n",
            " [0.950889]\n",
            " [0.950889]\n",
            " [0.950889]\n",
            " [0.950889]\n",
            " [0.950889]\n",
            " [0.950889]\n",
            " [0.950889]\n",
            " [0.950888]\n",
            " [0.950889]\n",
            " [0.950889]\n",
            " [0.950888]\n",
            " [0.950889]\n",
            " [0.950889]\n",
            " [0.950889]\n",
            " [0.950889]]\n"
          ],
          "name": "stdout"
        }
      ]
    },
    {
      "cell_type": "markdown",
      "metadata": {
        "id": "sFyuKxgPpmPJ"
      },
      "source": [
        "## Có thể thấy rằng output feedforward sử dụng numpy và keras là xấp xỉ nhau"
      ]
    }
  ]
}