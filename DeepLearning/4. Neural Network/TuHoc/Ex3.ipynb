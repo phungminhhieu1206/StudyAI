{
 "cells": [
  {
   "cell_type": "markdown",
   "id": "6ef21a6f",
   "metadata": {
    "id": "6ef21a6f"
   },
   "source": [
    "## Bài 3:\n",
    "* Phân loại ảnh trong dữ liệu cifar10 (https://keras.io/api/datasets/cifar10/...)."
   ]
  },
  {
   "cell_type": "code",
   "execution_count": 156,
   "id": "KXfBg-e_Qpif",
   "metadata": {
    "executionInfo": {
     "elapsed": 468,
     "status": "ok",
     "timestamp": 1624010431754,
     "user": {
      "displayName": "Minh Hiếu Phùng",
      "photoUrl": "https://lh3.googleusercontent.com/a-/AOh14GgGtgz36bIRqqPUoN8ACRUJbc4weoGdk4XmB_8bXg=s64",
      "userId": "06029783178480672997"
     },
     "user_tz": -420
    },
    "id": "KXfBg-e_Qpif"
   },
   "outputs": [],
   "source": [
    "import numpy as np\n",
    "import matplotlib.pyplot as plt\n",
    "import keras\n",
    "import tensorflow as tf\n",
    "from tensorflow import keras\n",
    "from keras.models import Sequential\n",
    "from keras.layers import Dense, Dropout, Flatten\n",
    "from keras.optimizers import SGD\n",
    "from keras import backend as K"
   ]
  },
  {
   "cell_type": "code",
   "execution_count": 158,
   "id": "D6dkKGaYQ2ip",
   "metadata": {
    "executionInfo": {
     "elapsed": 283,
     "status": "ok",
     "timestamp": 1624010446697,
     "user": {
      "displayName": "Minh Hiếu Phùng",
      "photoUrl": "https://lh3.googleusercontent.com/a-/AOh14GgGtgz36bIRqqPUoN8ACRUJbc4weoGdk4XmB_8bXg=s64",
      "userId": "06029783178480672997"
     },
     "user_tz": -420
    },
    "id": "D6dkKGaYQ2ip"
   },
   "outputs": [],
   "source": [
    "batch_size = 256\n",
    "num_classes = 10\n",
    "epochs = 20"
   ]
  },
  {
   "cell_type": "code",
   "execution_count": 159,
   "id": "adv7FQAIQ5Y_",
   "metadata": {
    "executionInfo": {
     "elapsed": 686,
     "status": "ok",
     "timestamp": 1624010449380,
     "user": {
      "displayName": "Minh Hiếu Phùng",
      "photoUrl": "https://lh3.googleusercontent.com/a-/AOh14GgGtgz36bIRqqPUoN8ACRUJbc4weoGdk4XmB_8bXg=s64",
      "userId": "06029783178480672997"
     },
     "user_tz": -420
    },
    "id": "adv7FQAIQ5Y_"
   },
   "outputs": [],
   "source": [
    "# 2. Load dữ liệu\n",
    "(x_train, y_train), (x_test, y_test) = tf.keras.datasets.cifar10.load_data()"
   ]
  },
  {
   "cell_type": "code",
   "execution_count": 160,
   "id": "uMv9eEa5RQr7",
   "metadata": {
    "colab": {
     "base_uri": "https://localhost:8080/"
    },
    "executionInfo": {
     "elapsed": 3,
     "status": "ok",
     "timestamp": 1624010450391,
     "user": {
      "displayName": "Minh Hiếu Phùng",
      "photoUrl": "https://lh3.googleusercontent.com/a-/AOh14GgGtgz36bIRqqPUoN8ACRUJbc4weoGdk4XmB_8bXg=s64",
      "userId": "06029783178480672997"
     },
     "user_tz": -420
    },
    "id": "uMv9eEa5RQr7",
    "outputId": "c32a39db-7550-4311-d898-57bc89b3fb3d"
   },
   "outputs": [
    {
     "data": {
      "text/plain": [
       "((50000, 32, 32, 3), (50000, 1))"
      ]
     },
     "execution_count": 160,
     "metadata": {
      "tags": []
     },
     "output_type": "execute_result"
    }
   ],
   "source": [
    "x_train.shape, y_train.shape"
   ]
  },
  {
   "cell_type": "markdown",
   "id": "97be2bff",
   "metadata": {},
   "source": [
    "### Cách 1: Chuyển về bài toán mnist, ảnh rgb -> gray image"
   ]
  },
  {
   "cell_type": "code",
   "execution_count": 161,
   "id": "pzm0ld8sZEyF",
   "metadata": {
    "executionInfo": {
     "elapsed": 870,
     "status": "ok",
     "timestamp": 1624010452756,
     "user": {
      "displayName": "Minh Hiếu Phùng",
      "photoUrl": "https://lh3.googleusercontent.com/a-/AOh14GgGtgz36bIRqqPUoN8ACRUJbc4weoGdk4XmB_8bXg=s64",
      "userId": "06029783178480672997"
     },
     "user_tz": -420
    },
    "id": "pzm0ld8sZEyF"
   },
   "outputs": [],
   "source": [
    "x_train = x_train[:,:,:, 0]*0.299 + x_train[:,:,:, 1]*0.587 + x_train[:,:,:, 2]*0.114\n",
    "x_test = x_test[:,:,:, 0]*0.299 + x_test[:,:,:, 1]*0.587 + x_test[:,:,:, 2]*0.114"
   ]
  },
  {
   "cell_type": "code",
   "execution_count": 162,
   "id": "OAknbZb4anma",
   "metadata": {
    "colab": {
     "base_uri": "https://localhost:8080/"
    },
    "executionInfo": {
     "elapsed": 2,
     "status": "ok",
     "timestamp": 1624010454020,
     "user": {
      "displayName": "Minh Hiếu Phùng",
      "photoUrl": "https://lh3.googleusercontent.com/a-/AOh14GgGtgz36bIRqqPUoN8ACRUJbc4weoGdk4XmB_8bXg=s64",
      "userId": "06029783178480672997"
     },
     "user_tz": -420
    },
    "id": "OAknbZb4anma",
    "outputId": "74f2c7bb-6c96-4717-b7be-8c8769fc16fd"
   },
   "outputs": [
    {
     "name": "stdout",
     "output_type": "stream",
     "text": [
      "(50000, 32, 32)\n",
      "(10000, 32, 32)\n"
     ]
    }
   ],
   "source": [
    "print(x_train.shape)\n",
    "print(x_test.shape)"
   ]
  },
  {
   "cell_type": "code",
   "execution_count": 163,
   "id": "qcXLYhInR54G",
   "metadata": {
    "executionInfo": {
     "elapsed": 365,
     "status": "ok",
     "timestamp": 1624010456005,
     "user": {
      "displayName": "Minh Hiếu Phùng",
      "photoUrl": "https://lh3.googleusercontent.com/a-/AOh14GgGtgz36bIRqqPUoN8ACRUJbc4weoGdk4XmB_8bXg=s64",
      "userId": "06029783178480672997"
     },
     "user_tz": -420
    },
    "id": "qcXLYhInR54G"
   },
   "outputs": [],
   "source": [
    "# 3. Chia lại tập traning, validation\n",
    "x_val, y_val = x_train[40000:50000, :], y_train[40000:50000]\n",
    "x_train, y_train = x_train[:40000, :], y_train[:40000]"
   ]
  },
  {
   "cell_type": "code",
   "execution_count": 164,
   "id": "Ks-f-aDiSCtG",
   "metadata": {
    "colab": {
     "base_uri": "https://localhost:8080/"
    },
    "executionInfo": {
     "elapsed": 568,
     "status": "ok",
     "timestamp": 1624010458148,
     "user": {
      "displayName": "Minh Hiếu Phùng",
      "photoUrl": "https://lh3.googleusercontent.com/a-/AOh14GgGtgz36bIRqqPUoN8ACRUJbc4weoGdk4XmB_8bXg=s64",
      "userId": "06029783178480672997"
     },
     "user_tz": -420
    },
    "id": "Ks-f-aDiSCtG",
    "outputId": "d3154da1-19fa-4f47-ce76-70f2b41c334a"
   },
   "outputs": [
    {
     "name": "stdout",
     "output_type": "stream",
     "text": [
      "(40000, 32, 32) (40000, 1)\n"
     ]
    }
   ],
   "source": [
    "print(x_train.shape, y_train.shape)"
   ]
  },
  {
   "cell_type": "code",
   "execution_count": 165,
   "id": "KsTgg9-nS0Yz",
   "metadata": {
    "colab": {
     "base_uri": "https://localhost:8080/"
    },
    "executionInfo": {
     "elapsed": 321,
     "status": "ok",
     "timestamp": 1624010459600,
     "user": {
      "displayName": "Minh Hiếu Phùng",
      "photoUrl": "https://lh3.googleusercontent.com/a-/AOh14GgGtgz36bIRqqPUoN8ACRUJbc4weoGdk4XmB_8bXg=s64",
      "userId": "06029783178480672997"
     },
     "user_tz": -420
    },
    "id": "KsTgg9-nS0Yz",
    "outputId": "8f81d235-d4f1-4c10-9f55-a1bbecc289ee"
   },
   "outputs": [
    {
     "name": "stdout",
     "output_type": "stream",
     "text": [
      "40000 train samples\n",
      "10000 val samples\n",
      "10000 test samples\n"
     ]
    }
   ],
   "source": [
    "# 4. Reshape lại dữ liệu cho đúng kích thước input của neural network\n",
    "x_train = x_train.reshape(-1, 1024) # N\n",
    "x_val = x_val.reshape(-1, 1024)\n",
    "x_test = x_test.reshape(-1, 1024)\n",
    "\n",
    "x_train = x_train.astype('float32')\n",
    "x_val = x_val.astype('float32')\n",
    "x_test = x_test.astype('float32')\n",
    "\n",
    "# normalize (0-1)\n",
    "x_train /= 255.0\n",
    "x_val /= 255.0\n",
    "x_test /= 255.0\n",
    "\n",
    "print(x_train.shape[0], 'train samples')\n",
    "print(x_val.shape[0], 'val samples')\n",
    "print(x_test.shape[0], 'test samples')"
   ]
  },
  {
   "cell_type": "code",
   "execution_count": 166,
   "id": "iLZOC2f7Ujrw",
   "metadata": {
    "colab": {
     "base_uri": "https://localhost:8080/"
    },
    "executionInfo": {
     "elapsed": 5,
     "status": "ok",
     "timestamp": 1624010461834,
     "user": {
      "displayName": "Minh Hiếu Phùng",
      "photoUrl": "https://lh3.googleusercontent.com/a-/AOh14GgGtgz36bIRqqPUoN8ACRUJbc4weoGdk4XmB_8bXg=s64",
      "userId": "06029783178480672997"
     },
     "user_tz": -420
    },
    "id": "iLZOC2f7Ujrw",
    "outputId": "bb4364c8-a088-4445-a874-fc420f1b35cc"
   },
   "outputs": [
    {
     "name": "stdout",
     "output_type": "stream",
     "text": [
      "[6]\n",
      "[0. 0. 0. 0. 0. 0. 1. 0. 0. 0.]\n"
     ]
    }
   ],
   "source": [
    "# 5. One-hot coding\n",
    "# convert class vectors to binary class matrices\n",
    "print(y_train[0])\n",
    "y_train = keras.utils.to_categorical(y_train, num_classes)\n",
    "y_val = keras.utils.to_categorical(y_val, num_classes)\n",
    "y_test = keras.utils.to_categorical(y_test, num_classes)\n",
    "print(y_train[0])"
   ]
  },
  {
   "cell_type": "code",
   "execution_count": 167,
   "id": "NMvydyPQUuFv",
   "metadata": {
    "colab": {
     "base_uri": "https://localhost:8080/"
    },
    "executionInfo": {
     "elapsed": 478,
     "status": "ok",
     "timestamp": 1624010464111,
     "user": {
      "displayName": "Minh Hiếu Phùng",
      "photoUrl": "https://lh3.googleusercontent.com/a-/AOh14GgGtgz36bIRqqPUoN8ACRUJbc4weoGdk4XmB_8bXg=s64",
      "userId": "06029783178480672997"
     },
     "user_tz": -420
    },
    "id": "NMvydyPQUuFv",
    "outputId": "13f6bf69-54ce-49e0-8707-e279bd6b850c"
   },
   "outputs": [
    {
     "name": "stdout",
     "output_type": "stream",
     "text": [
      "Model: \"sequential_6\"\n",
      "_________________________________________________________________\n",
      "Layer (type)                 Output Shape              Param #   \n",
      "=================================================================\n",
      "dense_32 (Dense)             (None, 512)               524800    \n",
      "_________________________________________________________________\n",
      "dense_33 (Dense)             (None, 256)               131328    \n",
      "_________________________________________________________________\n",
      "dense_34 (Dense)             (None, 128)               32896     \n",
      "_________________________________________________________________\n",
      "dense_35 (Dense)             (None, 64)                8256      \n",
      "_________________________________________________________________\n",
      "dense_36 (Dense)             (None, 32)                2080      \n",
      "_________________________________________________________________\n",
      "dense_37 (Dense)             (None, 10)                330       \n",
      "=================================================================\n",
      "Total params: 699,690\n",
      "Trainable params: 699,690\n",
      "Non-trainable params: 0\n",
      "_________________________________________________________________\n"
     ]
    }
   ],
   "source": [
    "# Định nghĩa model\n",
    "model = Sequential()\n",
    "# input_shape\n",
    "model.add(Dense(512, activation='relu', input_shape=(1024,)))\n",
    "model.add(Dense(256, activation='relu'))\n",
    "model.add(Dense(128, activation='relu'))\n",
    "model.add(Dense(64, activation='relu'))\n",
    "model.add(Dense(32, activation='relu'))\n",
    "model.add(Dense(num_classes, activation='softmax'))\n",
    "\n",
    "model.summary()"
   ]
  },
  {
   "cell_type": "code",
   "execution_count": 168,
   "id": "7QibwcbGVERA",
   "metadata": {
    "executionInfo": {
     "elapsed": 2,
     "status": "ok",
     "timestamp": 1624010466788,
     "user": {
      "displayName": "Minh Hiếu Phùng",
      "photoUrl": "https://lh3.googleusercontent.com/a-/AOh14GgGtgz36bIRqqPUoN8ACRUJbc4weoGdk4XmB_8bXg=s64",
      "userId": "06029783178480672997"
     },
     "user_tz": -420
    },
    "id": "7QibwcbGVERA"
   },
   "outputs": [],
   "source": [
    "# Compile model, chỉ rõ hàm loss được sử dụng, phương thức dùng để tối ưu loss\n",
    "model.compile(loss='categorical_crossentropy',\n",
    "              optimizer='adam', # adam, .... gradient descent\n",
    "              metrics=['accuracy'])"
   ]
  },
  {
   "cell_type": "code",
   "execution_count": 169,
   "id": "sS0zvVfze2eW",
   "metadata": {
    "colab": {
     "base_uri": "https://localhost:8080/"
    },
    "executionInfo": {
     "elapsed": 299,
     "status": "ok",
     "timestamp": 1624010469075,
     "user": {
      "displayName": "Minh Hiếu Phùng",
      "photoUrl": "https://lh3.googleusercontent.com/a-/AOh14GgGtgz36bIRqqPUoN8ACRUJbc4weoGdk4XmB_8bXg=s64",
      "userId": "06029783178480672997"
     },
     "user_tz": -420
    },
    "id": "sS0zvVfze2eW",
    "outputId": "03f7da82-7792-4ca8-a13a-1841128aa81b"
   },
   "outputs": [
    {
     "name": "stdout",
     "output_type": "stream",
     "text": [
      "Learning rate before first fit: 0.001\n"
     ]
    }
   ],
   "source": [
    "print(\"Learning rate before first fit:\", model.optimizer.learning_rate.numpy())"
   ]
  },
  {
   "cell_type": "code",
   "execution_count": 170,
   "id": "xEWEWYn6fDQx",
   "metadata": {
    "colab": {
     "base_uri": "https://localhost:8080/"
    },
    "executionInfo": {
     "elapsed": 3,
     "status": "ok",
     "timestamp": 1624010470216,
     "user": {
      "displayName": "Minh Hiếu Phùng",
      "photoUrl": "https://lh3.googleusercontent.com/a-/AOh14GgGtgz36bIRqqPUoN8ACRUJbc4weoGdk4XmB_8bXg=s64",
      "userId": "06029783178480672997"
     },
     "user_tz": -420
    },
    "id": "xEWEWYn6fDQx",
    "outputId": "913b1847-9f60-4f17-f69a-9767aad7d325"
   },
   "outputs": [
    {
     "name": "stdout",
     "output_type": "stream",
     "text": [
      "Learning rate before second fit: 0.008\n"
     ]
    }
   ],
   "source": [
    "K.set_value(model.optimizer.learning_rate, 0.008)\n",
    "print(\"Learning rate before second fit:\", model.optimizer.learning_rate.numpy())"
   ]
  },
  {
   "cell_type": "code",
   "execution_count": 171,
   "id": "luHaiCh_VGgO",
   "metadata": {
    "colab": {
     "base_uri": "https://localhost:8080/"
    },
    "executionInfo": {
     "elapsed": 83038,
     "status": "ok",
     "timestamp": 1624010555001,
     "user": {
      "displayName": "Minh Hiếu Phùng",
      "photoUrl": "https://lh3.googleusercontent.com/a-/AOh14GgGtgz36bIRqqPUoN8ACRUJbc4weoGdk4XmB_8bXg=s64",
      "userId": "06029783178480672997"
     },
     "user_tz": -420
    },
    "id": "luHaiCh_VGgO",
    "outputId": "f08b018e-e443-4175-ecde-42cafdf8dff2"
   },
   "outputs": [
    {
     "name": "stdout",
     "output_type": "stream",
     "text": [
      "Epoch 1/20\n",
      "157/157 [==============================] - 5s 27ms/step - loss: 2.5234 - accuracy: 0.1190 - val_loss: 2.1399 - val_accuracy: 0.2016\n",
      "Epoch 2/20\n",
      "157/157 [==============================] - 4s 24ms/step - loss: 2.1305 - accuracy: 0.2011 - val_loss: 2.0755 - val_accuracy: 0.2389\n",
      "Epoch 3/20\n",
      "157/157 [==============================] - 4s 24ms/step - loss: 2.0423 - accuracy: 0.2488 - val_loss: 2.0172 - val_accuracy: 0.2605\n",
      "Epoch 4/20\n",
      "157/157 [==============================] - 4s 25ms/step - loss: 1.9891 - accuracy: 0.2749 - val_loss: 1.9622 - val_accuracy: 0.2859\n",
      "Epoch 5/20\n",
      "157/157 [==============================] - 4s 25ms/step - loss: 1.9658 - accuracy: 0.2794 - val_loss: 1.9231 - val_accuracy: 0.3092\n",
      "Epoch 6/20\n",
      "157/157 [==============================] - 4s 25ms/step - loss: 1.9361 - accuracy: 0.3012 - val_loss: 1.9474 - val_accuracy: 0.2964\n",
      "Epoch 7/20\n",
      "157/157 [==============================] - 4s 25ms/step - loss: 1.9070 - accuracy: 0.3121 - val_loss: 1.9048 - val_accuracy: 0.3135\n",
      "Epoch 8/20\n",
      "157/157 [==============================] - 4s 25ms/step - loss: 1.8892 - accuracy: 0.3224 - val_loss: 1.9096 - val_accuracy: 0.3139\n",
      "Epoch 9/20\n",
      "157/157 [==============================] - 4s 25ms/step - loss: 1.8792 - accuracy: 0.3237 - val_loss: 1.8515 - val_accuracy: 0.3362\n",
      "Epoch 10/20\n",
      "157/157 [==============================] - 4s 25ms/step - loss: 1.8555 - accuracy: 0.3345 - val_loss: 1.8737 - val_accuracy: 0.3280\n",
      "Epoch 11/20\n",
      "157/157 [==============================] - 4s 25ms/step - loss: 1.8495 - accuracy: 0.3402 - val_loss: 1.8454 - val_accuracy: 0.3382\n",
      "Epoch 12/20\n",
      "157/157 [==============================] - 4s 25ms/step - loss: 1.8390 - accuracy: 0.3424 - val_loss: 1.8609 - val_accuracy: 0.3365\n",
      "Epoch 13/20\n",
      "157/157 [==============================] - 4s 25ms/step - loss: 1.8174 - accuracy: 0.3487 - val_loss: 1.8556 - val_accuracy: 0.3373\n",
      "Epoch 14/20\n",
      "157/157 [==============================] - 4s 25ms/step - loss: 1.8097 - accuracy: 0.3532 - val_loss: 1.8812 - val_accuracy: 0.3224\n",
      "Epoch 15/20\n",
      "157/157 [==============================] - 4s 24ms/step - loss: 1.7982 - accuracy: 0.3577 - val_loss: 1.8534 - val_accuracy: 0.3382\n",
      "Epoch 16/20\n",
      "157/157 [==============================] - 4s 25ms/step - loss: 1.7937 - accuracy: 0.3568 - val_loss: 1.8382 - val_accuracy: 0.3421\n",
      "Epoch 17/20\n",
      "157/157 [==============================] - 4s 25ms/step - loss: 1.8040 - accuracy: 0.3509 - val_loss: 1.8129 - val_accuracy: 0.3520\n",
      "Epoch 18/20\n",
      "157/157 [==============================] - 4s 25ms/step - loss: 1.7712 - accuracy: 0.3617 - val_loss: 1.8136 - val_accuracy: 0.3471\n",
      "Epoch 19/20\n",
      "157/157 [==============================] - 4s 25ms/step - loss: 1.7778 - accuracy: 0.3618 - val_loss: 1.8483 - val_accuracy: 0.3465\n",
      "Epoch 20/20\n",
      "157/157 [==============================] - 4s 23ms/step - loss: 1.7738 - accuracy: 0.3643 - val_loss: 1.8337 - val_accuracy: 0.3430\n"
     ]
    }
   ],
   "source": [
    "# Traning, fit với data\n",
    "H = model.fit(x_train, y_train,\n",
    "          batch_size=batch_size,\n",
    "          epochs=epochs,\n",
    "          verbose=1,\n",
    "          validation_data=(x_test, y_test))"
   ]
  },
  {
   "cell_type": "code",
   "execution_count": 172,
   "id": "cZxsa9IiVkBr",
   "metadata": {
    "colab": {
     "base_uri": "https://localhost:8080/"
    },
    "executionInfo": {
     "elapsed": 354,
     "status": "ok",
     "timestamp": 1624010572208,
     "user": {
      "displayName": "Minh Hiếu Phùng",
      "photoUrl": "https://lh3.googleusercontent.com/a-/AOh14GgGtgz36bIRqqPUoN8ACRUJbc4weoGdk4XmB_8bXg=s64",
      "userId": "06029783178480672997"
     },
     "user_tz": -420
    },
    "id": "cZxsa9IiVkBr",
    "outputId": "1908d8dd-fdae-4ae6-c24c-c47d4e92669a"
   },
   "outputs": [
    {
     "data": {
      "text/plain": [
       "[0.20160000026226044,\n",
       " 0.23890000581741333,\n",
       " 0.2605000138282776,\n",
       " 0.2858999967575073,\n",
       " 0.3091999888420105,\n",
       " 0.2964000105857849,\n",
       " 0.31349998712539673,\n",
       " 0.3138999938964844,\n",
       " 0.3361999988555908,\n",
       " 0.328000009059906,\n",
       " 0.33820000290870667,\n",
       " 0.33649998903274536,\n",
       " 0.33730000257492065,\n",
       " 0.3224000036716461,\n",
       " 0.33820000290870667,\n",
       " 0.34209999442100525,\n",
       " 0.35199999809265137,\n",
       " 0.34709998965263367,\n",
       " 0.3465000092983246,\n",
       " 0.34299999475479126]"
      ]
     },
     "execution_count": 172,
     "metadata": {
      "tags": []
     },
     "output_type": "execute_result"
    }
   ],
   "source": [
    "# H.history['loss'], 'accuracy', 'val_loss', 'val_accuracy'\n",
    "H.history['val_accuracy']"
   ]
  },
  {
   "cell_type": "code",
   "execution_count": 173,
   "id": "rT3bZlppVmGs",
   "metadata": {
    "colab": {
     "base_uri": "https://localhost:8080/",
     "height": 298
    },
    "executionInfo": {
     "elapsed": 340,
     "status": "ok",
     "timestamp": 1624010574522,
     "user": {
      "displayName": "Minh Hiếu Phùng",
      "photoUrl": "https://lh3.googleusercontent.com/a-/AOh14GgGtgz36bIRqqPUoN8ACRUJbc4weoGdk4XmB_8bXg=s64",
      "userId": "06029783178480672997"
     },
     "user_tz": -420
    },
    "id": "rT3bZlppVmGs",
    "outputId": "97899851-17e6-4562-a9d9-d6343aa63794"
   },
   "outputs": [
    {
     "data": {
      "text/plain": [
       "<matplotlib.legend.Legend at 0x7f57cbbd4d90>"
      ]
     },
     "execution_count": 173,
     "metadata": {
      "tags": []
     },
     "output_type": "execute_result"
    },
    {
     "data": {
      "image/png": "[encoded data removed]",
      "text/plain": [
       "<Figure size 432x288 with 1 Axes>"
      ]
     },
     "metadata": {
      "needs_background": "light",
      "tags": []
     },
     "output_type": "display_data"
    }
   ],
   "source": [
    "# Vẽ đồ thị loss của tập train\n",
    "fig = plt.figure()\n",
    "numOfEpoch = epochs\n",
    "plt.plot(np.arange(0, numOfEpoch), H.history['loss'], label='Training loss')\n",
    "plt.title('Loss function')\n",
    "plt.xlabel = \"Epoch\"\n",
    "plt.ylabel = \"Loss\"\n",
    "plt.legend()"
   ]
  },
  {
   "cell_type": "code",
   "execution_count": 174,
   "id": "sgoq6BQJVn8W",
   "metadata": {
    "colab": {
     "base_uri": "https://localhost:8080/"
    },
    "executionInfo": {
     "elapsed": 1109,
     "status": "ok",
     "timestamp": 1624010579243,
     "user": {
      "displayName": "Minh Hiếu Phùng",
      "photoUrl": "https://lh3.googleusercontent.com/a-/AOh14GgGtgz36bIRqqPUoN8ACRUJbc4weoGdk4XmB_8bXg=s64",
      "userId": "06029783178480672997"
     },
     "user_tz": -420
    },
    "id": "sgoq6BQJVn8W",
    "outputId": "4b6553f6-94ff-4f4f-c488-cd4d0d336667"
   },
   "outputs": [
    {
     "name": "stdout",
     "output_type": "stream",
     "text": [
      "Test loss: 1.8336511850357056\n",
      "Test accuracy: 0.34299999475479126\n"
     ]
    }
   ],
   "source": [
    "# Đánh giá model với dữ liệu test\n",
    "score = model.evaluate(x_test, y_test, verbose=0)\n",
    "print('Test loss:', score[0])\n",
    "print('Test accuracy:', score[1])"
   ]
  },
  {
   "cell_type": "code",
   "execution_count": 176,
   "id": "WHPB-jrtVpuY",
   "metadata": {
    "colab": {
     "base_uri": "https://localhost:8080/",
     "height": 300
    },
    "executionInfo": {
     "elapsed": 333,
     "status": "ok",
     "timestamp": 1624010594870,
     "user": {
      "displayName": "Minh Hiếu Phùng",
      "photoUrl": "https://lh3.googleusercontent.com/a-/AOh14GgGtgz36bIRqqPUoN8ACRUJbc4weoGdk4XmB_8bXg=s64",
      "userId": "06029783178480672997"
     },
     "user_tz": -420
    },
    "id": "WHPB-jrtVpuY",
    "outputId": "65d8be22-335a-4cda-a4e8-435d4a9f5f02"
   },
   "outputs": [
    {
     "name": "stdout",
     "output_type": "stream",
     "text": [
      "Giá trị thật:  [0. 0. 0. 0. 0. 0. 0. 0. 1. 0.]\n",
      "Giá trị dự đoán:  8\n"
     ]
    },
    {
     "data": {
      "image/png": "[encoded data removed]",
      "text/plain": [
       "<Figure size 432x288 with 1 Axes>"
      ]
     },
     "metadata": {
      "needs_background": "light",
      "tags": []
     },
     "output_type": "display_data"
    }
   ],
   "source": [
    "# 10. Dự đoán ảnh\n",
    "plt.imshow(x_test[1].reshape(32,32), cmap='gray')\n",
    "\n",
    "print('Giá trị thật: ', y_test[1])\n",
    "y_predict = model.predict(x_test[1].reshape(-1, 1024))\n",
    "print('Giá trị dự đoán: ', np.argmax(y_predict))"
   ]
  }
 ],
 "metadata": {
  "colab": {
   "collapsed_sections": [],
   "name": "Ex3.ipynb",
   "provenance": []
  },
  "kernelspec": {
   "display_name": "Python 3",
   "language": "python",
   "name": "python3"
  },
  "language_info": {
   "codemirror_mode": {
    "name": "ipython",
    "version": 3
   },
   "file_extension": ".py",
   "mimetype": "text/x-python",
   "name": "python",
   "nbconvert_exporter": "python",
   "pygments_lexer": "ipython3",
   "version": "3.8.8"
  }
 },
 "nbformat": 4,
 "nbformat_minor": 5
}
