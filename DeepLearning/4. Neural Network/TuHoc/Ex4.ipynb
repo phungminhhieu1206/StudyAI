{
 "cells": [
  {
   "cell_type": "markdown",
   "id": "81cc3155",
   "metadata": {},
   "source": [
    "## Bài 4:[Optional] \n",
    "* Code feedforward bằng numpy và kiểm tra tính chính xác của hàm bằng model tương ứng keras, có thể khởi tạo weight, bias trong layer bằng 1 trong keras, rồi so sánh với code mình implement xem output giống nhau không? (https://github.com/keras-team/keras/issues/1671..., set weight cho từng layer giống với code mọi người implement). Hoặc thử dùng linear activation, w = b = 1 xem tính đúng chưa?"
   ]
  }
 ],
 "metadata": {
  "kernelspec": {
   "display_name": "Python 3",
   "language": "python",
   "name": "python3"
  },
  "language_info": {
   "codemirror_mode": {
    "name": "ipython",
    "version": 3
   },
   "file_extension": ".py",
   "mimetype": "text/x-python",
   "name": "python",
   "nbconvert_exporter": "python",
   "pygments_lexer": "ipython3",
   "version": "3.8.8"
  }
 },
 "nbformat": 4,
 "nbformat_minor": 5
}
