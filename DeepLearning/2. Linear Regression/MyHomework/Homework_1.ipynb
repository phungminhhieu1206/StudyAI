{
 "cells": [
  {
   "cell_type": "code",
   "execution_count": 321,
   "id": "0e9191e3",
   "metadata": {},
   "outputs": [],
   "source": [
    "import matplotlib.pyplot as plt\n",
    "import numpy as np\n",
    "import pandas as pd"
   ]
  },
  {
   "cell_type": "markdown",
   "id": "2f7cf0f0",
   "metadata": {
    "scrolled": true
   },
   "source": [
    "# #1"
   ]
  },
  {
   "cell_type": "code",
   "execution_count": 320,
   "id": "b288773a",
   "metadata": {
    "scrolled": true
   },
   "outputs": [
    {
     "data": {
      "image/png": "[encoded data removed]",
      "text/plain": [
       "<Figure size 432x288 with 4 Axes>"
      ]
     },
     "metadata": {
      "needs_background": "light"
     },
     "output_type": "display_data"
    }
   ],
   "source": [
    "loop = 20\n",
    "learning_rate = [0.2,0.9,2,10]\n",
    "\n",
    "for i in range(len(learning_rate)):\n",
    "    w = 2\n",
    "    cost = np.zeros((loop,1))\n",
    "    for j in range(loop):\n",
    "        w = w - learning_rate[i]*2*w\n",
    "        cost[j] = w*w\n",
    "    plt.subplot(2,2,i+1)\n",
    "    plt.plot(cost)"
   ]
  },
  {
   "cell_type": "markdown",
   "id": "42759618",
   "metadata": {},
   "source": [
    "# #2"
   ]
  },
  {
   "cell_type": "markdown",
   "id": "7f1a07ef",
   "metadata": {},
   "source": [
    "Dataset có 1 thuộc tính, đầu ra bài toán là 1 số thực, chọn model là đường thẳng $$ y = ax + b $$ với tiêu chí đi qua nhiều điểm dữ liệu nhất có thể.\\\n",
    "Giờ cần tìm bộ tham số (b,a) hay $ w =  \\begin{bmatrix}w_{0} \\\\w_{1} \\end{bmatrix} $ của model.\n",
    "Xây dựng hàm loss dựa trên tổng độ lỗi của từng điểm dữ liệu: $$ L2 = \\frac{1}{2N}\\sum_{i=1}^{N} (\\widehat{y}_{i} - y_{i})^2 $$ với $$ \\widehat{y}_{i} = w_{0} + w_{1}x_{i} $$\\\n",
    "Cần tối ưu hàm loss L2 ở trên, ta tính đạo hàm L2 theo biến $ w $ \\\n",
    "Ta có: $$  \\frac{dL2}{dw} = \\begin{bmatrix}\\frac{dL2}{dw_{0}} \\\\\\frac{dL2}{dw_{1}} \\end{bmatrix} = \\begin{bmatrix}\\frac{1}{N}\\sum_{i=1}^{N} (\\widehat{y}_{i} - y_{i}) \\\\\\frac{1}{N}\\sum_{i=1}^{N} (\\widehat{y}_{i} - y_{i})x_{i} \\end{bmatrix}  $$\\\n",
    "Đặt $$ X = \\begin{bmatrix}1 \\space \\space x_{1} \\\\ 1 \\space \\space x_{2} \\\\ \\vdots \\space \\space \\vdots \\\\ 1 \\space \\space x_{n} \\end{bmatrix}, \\space Y = \\begin{bmatrix} y_{1} \\\\y_{2} \\\\ \\vdots \\\\ y_{n} \\end{bmatrix}    $$ \\\n",
    "Khi đó: $$ \\widehat{Y} = \\begin{bmatrix} w_{0} + w_{1}x_{1} \\\\w_{0} + w_{1}x_{2} \\\\ \\vdots \\\\ w_{0} + w_{1}x_{n} \\end{bmatrix} = Xw $$ \\\n",
    "Suy ra: $$ \\frac{dL2}{dw} = \\frac{1}{N}{X}^{T}(\\widehat{Y} - Y) $$ \\\n",
    "Hay: $$ \\frac{dJ}{dw} = {X}^{T}(\\widehat{Y} - Y) $$"
   ]
  },
  {
   "cell_type": "markdown",
   "id": "ac37b428",
   "metadata": {},
   "source": [
    "# #3"
   ]
  },
  {
   "cell_type": "code",
   "execution_count": 319,
   "id": "0c32900f",
   "metadata": {},
   "outputs": [
    {
     "data": {
      "text/plain": [
       "Text(0, 0.5, 'loss')"
      ]
     },
     "execution_count": 319,
     "metadata": {},
     "output_type": "execute_result"
    },
    {
     "data": {
      "image/png": "[encoded data removed]",
      "text/plain": [
       "<Figure size 432x288 with 1 Axes>"
      ]
     },
     "metadata": {
      "needs_background": "light"
     },
     "output_type": "display_data"
    }
   ],
   "source": [
    "data = pd.read_csv('data_linear.csv').values\n",
    "\n",
    "#N: số điểm dữ liệu, x cột \n",
    "N = data.shape[0]\n",
    "x = data[:, 0].reshape(-1, 1)\n",
    "y = data[:, 1].reshape(-1, 1)\n",
    "\n",
    "#thêm cột 1 vào x\n",
    "x = np.hstack((np.ones((N, 1)), x))\n",
    "\n",
    "#tham số để training\n",
    "numOfIteration = 100\n",
    "cost = [[],[],[],[]]\n",
    "\n",
    "# 4 learning_rate\n",
    "learning_rate = [0.000001,0.0000005,0.000004,0.0000001]\n",
    "\n",
    "#training\n",
    "for i in range(len(learning_rate)):\n",
    "    cost[i] = np.zeros((numOfIteration,1))\n",
    "    w = np.array([0.,1.]).reshape(-1,1)\n",
    "    for j in range(numOfIteration):\n",
    "        r = np.dot(x, w) - y\n",
    "        cost[i][j] = 0.5*np.sum(r*r)\n",
    "        # correct the shape dimension\n",
    "        w = w - learning_rate[i] * np.dot(x.T, r)\n",
    "        #print('lr {}, step {}, cost: {}'.format(i, j, cost[i][j]))\n",
    "    plt.plot(cost[i])\n",
    "plt.xlabel('#epoch')\n",
    "plt.ylabel('loss')"
   ]
  },
  {
   "cell_type": "markdown",
   "id": "409869a7",
   "metadata": {},
   "source": [
    "# #4"
   ]
  },
  {
   "cell_type": "code",
   "execution_count": 318,
   "id": "471b0607",
   "metadata": {},
   "outputs": [
    {
     "data": {
      "text/plain": [
       "array([[  30.    , -100.    ],\n",
       "       [  32.4138, -190.725 ],\n",
       "       [  34.8276, -269.798 ],\n",
       "       [  37.2414, -337.218 ],\n",
       "       [  39.6552, -392.985 ],\n",
       "       [  42.069 , -437.099 ],\n",
       "       [  44.4828, -469.56  ],\n",
       "       [  46.8966, -490.369 ],\n",
       "       [  49.3103, -499.524 ],\n",
       "       [  51.7241, -497.027 ],\n",
       "       [  54.1379, -482.878 ],\n",
       "       [  56.5517, -457.075 ],\n",
       "       [  58.9655, -419.62  ],\n",
       "       [  61.3793, -370.511 ],\n",
       "       [  63.7931, -309.75  ],\n",
       "       [  66.2069, -237.337 ],\n",
       "       [  68.6207, -153.27  ],\n",
       "       [  71.0345,  -57.5505],\n",
       "       [  73.4483,   49.8216],\n",
       "       [  75.8621,  168.847 ],\n",
       "       [  78.2759,  299.524 ],\n",
       "       [  80.6897,  441.855 ],\n",
       "       [  83.1034,  595.838 ],\n",
       "       [  85.5172,  761.474 ],\n",
       "       [  87.931 ,  938.763 ],\n",
       "       [  90.3448, 1127.71  ],\n",
       "       [  92.7586, 1328.3   ],\n",
       "       [  95.1724, 1540.55  ],\n",
       "       [  97.5862, 1764.45  ],\n",
       "       [ 100.    , 2000.    ]])"
      ]
     },
     "execution_count": 318,
     "metadata": {},
     "output_type": "execute_result"
    },
    {
     "data": {
      "image/png": "[encoded data removed]",
      "text/plain": [
       "<Figure size 432x288 with 1 Axes>"
      ]
     },
     "metadata": {
      "needs_background": "light"
     },
     "output_type": "display_data"
    }
   ],
   "source": [
    "data = pd.read_csv('data_square.csv').values\n",
    "\n",
    "N = data.shape[0]\n",
    "x = data[:, 0].reshape(-1, 1)\n",
    "y = data[:, 1].reshape(-1, 1)\n",
    "plt.scatter(x, y)\n",
    "plt.xlabel('mét vuông')\n",
    "plt.ylabel('giá')\n",
    "data"
   ]
  },
  {
   "cell_type": "code",
   "execution_count": 317,
   "id": "951a719e",
   "metadata": {},
   "outputs": [
    {
     "name": "stdout",
     "output_type": "stream",
     "text": [
      "step 0, cost: [10971.03076274]\n",
      "step 1, cost: [163.61885516]\n",
      "step 2, cost: [2.44021038]\n",
      "step 3, cost: [0.03643825]\n",
      "step 4, cost: [0.00058908]\n",
      "step 5, cost: [5.4434276e-05]\n",
      "step 6, cost: [4.646071e-05]\n",
      "step 7, cost: [4.63417599e-05]\n",
      "step 8, cost: [4.63399513e-05]\n",
      "step 9, cost: [4.63398898e-05]\n",
      "step 10, cost: [4.63398542e-05]\n",
      "step 11, cost: [4.63398191e-05]\n",
      "step 12, cost: [4.6339784e-05]\n",
      "step 13, cost: [4.63397489e-05]\n",
      "step 14, cost: [4.63397138e-05]\n",
      "step 15, cost: [4.63396787e-05]\n",
      "step 16, cost: [4.63396435e-05]\n",
      "step 17, cost: [4.63396084e-05]\n",
      "step 18, cost: [4.63395733e-05]\n",
      "step 19, cost: [4.63395382e-05]\n",
      "step 20, cost: [4.63395031e-05]\n",
      "step 21, cost: [4.6339468e-05]\n",
      "step 22, cost: [4.63394329e-05]\n",
      "step 23, cost: [4.63393977e-05]\n",
      "step 24, cost: [4.63393626e-05]\n",
      "step 25, cost: [4.63393275e-05]\n",
      "step 26, cost: [4.63392924e-05]\n",
      "step 27, cost: [4.63392573e-05]\n",
      "step 28, cost: [4.63392222e-05]\n",
      "step 29, cost: [4.63391871e-05]\n",
      "step 30, cost: [4.6339152e-05]\n",
      "step 31, cost: [4.63391168e-05]\n",
      "step 32, cost: [4.63390817e-05]\n",
      "step 33, cost: [4.63390466e-05]\n",
      "step 34, cost: [4.63390115e-05]\n",
      "step 35, cost: [4.63389764e-05]\n",
      "step 36, cost: [4.63389413e-05]\n",
      "step 37, cost: [4.63389062e-05]\n",
      "step 38, cost: [4.63388711e-05]\n",
      "step 39, cost: [4.6338836e-05]\n",
      "step 40, cost: [4.63388009e-05]\n",
      "step 41, cost: [4.63387658e-05]\n",
      "step 42, cost: [4.63387307e-05]\n",
      "step 43, cost: [4.63386956e-05]\n",
      "step 44, cost: [4.63386605e-05]\n",
      "step 45, cost: [4.63386254e-05]\n",
      "step 46, cost: [4.63385903e-05]\n",
      "step 47, cost: [4.63385552e-05]\n",
      "step 48, cost: [4.63385201e-05]\n",
      "step 49, cost: [4.6338485e-05]\n",
      "step 50, cost: [4.63384499e-05]\n",
      "step 51, cost: [4.63384148e-05]\n",
      "step 52, cost: [4.63383797e-05]\n",
      "step 53, cost: [4.63383446e-05]\n",
      "step 54, cost: [4.63383095e-05]\n",
      "step 55, cost: [4.63382744e-05]\n",
      "step 56, cost: [4.63382393e-05]\n",
      "step 57, cost: [4.63382042e-05]\n",
      "step 58, cost: [4.63381691e-05]\n",
      "step 59, cost: [4.6338134e-05]\n",
      "step 60, cost: [4.63380989e-05]\n",
      "step 61, cost: [4.63380638e-05]\n",
      "step 62, cost: [4.63380287e-05]\n",
      "step 63, cost: [4.63379936e-05]\n",
      "step 64, cost: [4.63379585e-05]\n",
      "step 65, cost: [4.63379234e-05]\n",
      "step 66, cost: [4.63378883e-05]\n",
      "step 67, cost: [4.63378533e-05]\n",
      "step 68, cost: [4.63378182e-05]\n",
      "step 69, cost: [4.63377831e-05]\n",
      "step 70, cost: [4.6337748e-05]\n",
      "step 71, cost: [4.63377129e-05]\n",
      "step 72, cost: [4.63376778e-05]\n",
      "step 73, cost: [4.63376427e-05]\n",
      "step 74, cost: [4.63376076e-05]\n",
      "step 75, cost: [4.63375725e-05]\n",
      "step 76, cost: [4.63375375e-05]\n",
      "step 77, cost: [4.63375024e-05]\n",
      "step 78, cost: [4.63374673e-05]\n",
      "step 79, cost: [4.63374322e-05]\n",
      "step 80, cost: [4.63373971e-05]\n",
      "step 81, cost: [4.6337362e-05]\n",
      "step 82, cost: [4.63373269e-05]\n",
      "step 83, cost: [4.63372919e-05]\n",
      "step 84, cost: [4.63372568e-05]\n",
      "step 85, cost: [4.63372217e-05]\n",
      "step 86, cost: [4.63371866e-05]\n",
      "step 87, cost: [4.63371515e-05]\n",
      "step 88, cost: [4.63371165e-05]\n",
      "step 89, cost: [4.63370814e-05]\n",
      "step 90, cost: [4.63370463e-05]\n",
      "step 91, cost: [4.63370112e-05]\n",
      "step 92, cost: [4.63369761e-05]\n",
      "step 93, cost: [4.63369411e-05]\n",
      "step 94, cost: [4.6336906e-05]\n",
      "step 95, cost: [4.63368709e-05]\n",
      "step 96, cost: [4.63368358e-05]\n",
      "step 97, cost: [4.63368007e-05]\n",
      "step 98, cost: [4.63367657e-05]\n",
      "step 99, cost: [4.63367306e-05]\n"
     ]
    }
   ],
   "source": [
    "x = data[:, 0].reshape(-1, 1)\n",
    "y = data[:, 1].reshape(-1, 1)\n",
    "x = np.stack([x, np.square(x)], axis=-1)\n",
    "x = x.reshape(x.shape[0], x.shape[-1])\n",
    "#print(x)\n",
    "x = np.hstack((np.ones((30,1)),x))\n",
    "\n",
    "w = np.array([2000.,-100.,1.005]).reshape(-1,1)\n",
    "\n",
    "numOfIteration = 100 \n",
    "cost = np.zeros((numOfIteration,1))\n",
    "learning_rate = 0.000000001\n",
    "for i in range(0, numOfIteration):\n",
    "    r = np.dot(x, w) - y\n",
    "    cost[i] = 0.5*np.sum(r*r)\n",
    "    # correct the shape dimension\n",
    "    w = w - learning_rate * np.dot(x.T, r)\n",
    "    print('step {}, cost: {}'.format(i, cost[i]))"
   ]
  },
  {
   "cell_type": "code",
   "execution_count": 316,
   "id": "1335bbfa",
   "metadata": {},
   "outputs": [
    {
     "name": "stdout",
     "output_type": "stream",
     "text": [
      "[1999.9999992]\n",
      "[-100.00006145]\n",
      "[1.00000094]\n"
     ]
    },
    {
     "data": {
      "image/png": "[encoded data removed]",
      "text/plain": [
       "<Figure size 432x288 with 1 Axes>"
      ]
     },
     "metadata": {
      "needs_background": "light"
     },
     "output_type": "display_data"
    }
   ],
   "source": [
    "a = []\n",
    "b = []\n",
    "print(w[0])\n",
    "print(w[1])\n",
    "print(w[2])\n",
    "for i in range(30,100,1):\n",
    "    j = w[1] * i + w[2] * i * i + w[0]\n",
    "    a.append(i)\n",
    "    b.append(j)\n",
    "\n",
    "plt.scatter(a, b, c='r')\n",
    "\n",
    "x = data[:, 0].reshape(-1, 1)\n",
    "y = data[:, 1].reshape(-1, 1)\n",
    "plt.scatter(x, y, c='b')\n",
    "\n",
    "plt.xlabel('mét vuông')\n",
    "plt.ylabel('giá')\n",
    "plt.show()"
   ]
  },
  {
   "cell_type": "markdown",
   "id": "aea45754",
   "metadata": {},
   "source": [
    "# #5"
   ]
  },
  {
   "cell_type": "code",
   "execution_count": null,
   "id": "07e7e1bb",
   "metadata": {},
   "outputs": [],
   "source": []
  }
 ],
 "metadata": {
  "kernelspec": {
   "display_name": "Python 3",
   "language": "python",
   "name": "python3"
  },
  "language_info": {
   "codemirror_mode": {
    "name": "ipython",
    "version": 3
   },
   "file_extension": ".py",
   "mimetype": "text/x-python",
   "name": "python",
   "nbconvert_exporter": "python",
   "pygments_lexer": "ipython3",
   "version": "3.8.8"
  }
 },
 "nbformat": 4,
 "nbformat_minor": 5
}
