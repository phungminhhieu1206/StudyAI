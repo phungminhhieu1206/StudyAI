{
 "cells": [
  {
   "cell_type": "markdown",
   "id": "9a8a905a",
   "metadata": {},
   "source": [
    "## Bài 1: \n",
    "* Implement thuật toán gradient descent tìm giá trị nhỏ nhất hàm $f(x)=x^2$\n",
    "* thử các giá trị learning_rate khác nhau (nhỏ, vừa, lớn, rất lớn)\n",
    "* vẽ đồ thị loss function theo epoch tương ứng."
   ]
  },
  {
   "cell_type": "code",
   "execution_count": 2,
   "id": "80c90d72",
   "metadata": {},
   "outputs": [],
   "source": [
    "import numpy as np\n",
    "import matplotlib.pyplot as plt"
   ]
  },
  {
   "cell_type": "code",
   "execution_count": 122,
   "id": "dc3684d3",
   "metadata": {},
   "outputs": [],
   "source": [
    "x = 1000"
   ]
  },
  {
   "cell_type": "code",
   "execution_count": 123,
   "id": "7b33cdd4",
   "metadata": {},
   "outputs": [],
   "source": [
    "# Gradient descent\n",
    "numOfInteration = 300\n",
    "loss = np.zeros((numOfInteration, 1))\n",
    "lr = 0.02\n",
    "\n",
    "for i in range(0, numOfInteration):\n",
    "    loss[i] = x*x\n",
    "    # update x\n",
    "    x = x - lr*2*x\n",
    "#     print(\"step {}, loss: {}\".format(i, loss[i]))"
   ]
  },
  {
   "cell_type": "code",
   "execution_count": 105,
   "id": "cddaf99f",
   "metadata": {},
   "outputs": [],
   "source": [
    "loss1 = loss # lr = 1.3 rất lớn"
   ]
  },
  {
   "cell_type": "code",
   "execution_count": 87,
   "id": "29f532cd",
   "metadata": {},
   "outputs": [],
   "source": [
    "loss2 = loss # lr = 0.002 nhỏ"
   ]
  },
  {
   "cell_type": "code",
   "execution_count": 124,
   "id": "976d8377",
   "metadata": {},
   "outputs": [],
   "source": [
    "loss3 = loss # lr = 0.02 vừa"
   ]
  },
  {
   "cell_type": "code",
   "execution_count": 127,
   "id": "ee32de83",
   "metadata": {},
   "outputs": [
    {
     "data": {
      "text/plain": [
       "[<matplotlib.lines.Line2D at 0x1d84d0317f0>]"
      ]
     },
     "execution_count": 127,
     "metadata": {},
     "output_type": "execute_result"
    },
    {
     "data": {
      "image/png": "[encoded data removed]",
      "text/plain": [
       "<Figure size 720x360 with 4 Axes>"
      ]
     },
     "metadata": {
      "needs_background": "light"
     },
     "output_type": "display_data"
    }
   ],
   "source": [
    "fig, ax = plt.subplots(nrows=2,\n",
    "                       ncols=2,\n",
    "                       figsize=(10,5))\n",
    "#Plot data to each axis\n",
    "ax[0,0].plot(loss1, color = \"blue\")\n",
    "ax[0,1].plot(loss2, color = \"green\")\n",
    "ax[1,0].plot(loss3, color = \"red\")"
   ]
  },
  {
   "cell_type": "code",
   "execution_count": 126,
   "id": "31569a5d",
   "metadata": {},
   "outputs": [
    {
     "name": "stdout",
     "output_type": "stream",
     "text": [
      "0.004801422373777541\n"
     ]
    }
   ],
   "source": [
    "print(x)"
   ]
  },
  {
   "cell_type": "code",
   "execution_count": null,
   "id": "0993b237",
   "metadata": {},
   "outputs": [],
   "source": []
  }
 ],
 "metadata": {
  "kernelspec": {
   "display_name": "Python 3",
   "language": "python",
   "name": "python3"
  },
  "language_info": {
   "codemirror_mode": {
    "name": "ipython",
    "version": 3
   },
   "file_extension": ".py",
   "mimetype": "text/x-python",
   "name": "python",
   "nbconvert_exporter": "python",
   "pygments_lexer": "ipython3",
   "version": "3.8.8"
  }
 },
 "nbformat": 4,
 "nbformat_minor": 5
}
