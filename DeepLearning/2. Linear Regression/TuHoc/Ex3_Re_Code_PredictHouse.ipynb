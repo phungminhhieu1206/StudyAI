{
 "cells": [
  {
   "cell_type": "markdown",
   "id": "20c78984",
   "metadata": {},
   "source": [
    "## Bài 3:\n",
    "* Hiểu code phần thực hành cho linear regression. \n",
    "* Vẽ thêm biểu đồ cho loss function theo epoch. \n",
    "* Thay đổi các giá trị learning_rate khác nhau xem đồ thị loss trông thế nào."
   ]
  },
  {
   "cell_type": "markdown",
   "id": "7f02bc03",
   "metadata": {},
   "source": [
    "### 3.1 Tự code lại theo cách hiểu"
   ]
  },
  {
   "cell_type": "code",
   "execution_count": 2,
   "id": "668d5429",
   "metadata": {},
   "outputs": [],
   "source": [
    "import pandas as pd\n",
    "import numpy as np\n",
    "import matplotlib.pyplot as plt"
   ]
  },
  {
   "cell_type": "code",
   "execution_count": 14,
   "id": "e6c7c238",
   "metadata": {},
   "outputs": [
    {
     "data": {
      "text/html": [
       "<div>\n",
       "<style scoped>\n",
       "    .dataframe tbody tr th:only-of-type {\n",
       "        vertical-align: middle;\n",
       "    }\n",
       "\n",
       "    .dataframe tbody tr th {\n",
       "        vertical-align: top;\n",
       "    }\n",
       "\n",
       "    .dataframe thead th {\n",
       "        text-align: right;\n",
       "    }\n",
       "</style>\n",
       "<table border=\"1\" class=\"dataframe\">\n",
       "  <thead>\n",
       "    <tr style=\"text-align: right;\">\n",
       "      <th></th>\n",
       "      <th>Diện tích</th>\n",
       "      <th>Giá</th>\n",
       "    </tr>\n",
       "  </thead>\n",
       "  <tbody>\n",
       "    <tr>\n",
       "      <th>0</th>\n",
       "      <td>30.0000</td>\n",
       "      <td>448.524</td>\n",
       "    </tr>\n",
       "    <tr>\n",
       "      <th>1</th>\n",
       "      <td>32.4138</td>\n",
       "      <td>509.248</td>\n",
       "    </tr>\n",
       "    <tr>\n",
       "      <th>2</th>\n",
       "      <td>34.8276</td>\n",
       "      <td>535.104</td>\n",
       "    </tr>\n",
       "    <tr>\n",
       "      <th>3</th>\n",
       "      <td>37.2414</td>\n",
       "      <td>551.432</td>\n",
       "    </tr>\n",
       "    <tr>\n",
       "      <th>4</th>\n",
       "      <td>39.6552</td>\n",
       "      <td>623.418</td>\n",
       "    </tr>\n",
       "    <tr>\n",
       "      <th>5</th>\n",
       "      <td>42.0690</td>\n",
       "      <td>625.992</td>\n",
       "    </tr>\n",
       "    <tr>\n",
       "      <th>6</th>\n",
       "      <td>44.4828</td>\n",
       "      <td>655.248</td>\n",
       "    </tr>\n",
       "    <tr>\n",
       "      <th>7</th>\n",
       "      <td>46.8966</td>\n",
       "      <td>701.377</td>\n",
       "    </tr>\n",
       "    <tr>\n",
       "      <th>8</th>\n",
       "      <td>49.3103</td>\n",
       "      <td>748.918</td>\n",
       "    </tr>\n",
       "    <tr>\n",
       "      <th>9</th>\n",
       "      <td>51.7241</td>\n",
       "      <td>757.881</td>\n",
       "    </tr>\n",
       "  </tbody>\n",
       "</table>\n",
       "</div>"
      ],
      "text/plain": [
       "   Diện tích      Giá\n",
       "0    30.0000  448.524\n",
       "1    32.4138  509.248\n",
       "2    34.8276  535.104\n",
       "3    37.2414  551.432\n",
       "4    39.6552  623.418\n",
       "5    42.0690  625.992\n",
       "6    44.4828  655.248\n",
       "7    46.8966  701.377\n",
       "8    49.3103  748.918\n",
       "9    51.7241  757.881"
      ]
     },
     "execution_count": 14,
     "metadata": {},
     "output_type": "execute_result"
    }
   ],
   "source": [
    "data = pd.read_csv(\"data_linear.csv\")\n",
    "data.head(10)"
   ]
  },
  {
   "cell_type": "code",
   "execution_count": 20,
   "id": "d64f8db5",
   "metadata": {},
   "outputs": [
    {
     "data": {
      "text/plain": [
       "<AxesSubplot:xlabel='Diện tích', ylabel='Giá'>"
      ]
     },
     "execution_count": 20,
     "metadata": {},
     "output_type": "execute_result"
    },
    {
     "data": {
      "image/png": "[encoded data removed]",
      "text/plain": [
       "<Figure size 432x288 with 1 Axes>"
      ]
     },
     "metadata": {
      "needs_background": "light"
     },
     "output_type": "display_data"
    }
   ],
   "source": [
    "data.plot.scatter(x = \"Diện tích\", y = \"Giá\")"
   ]
  },
  {
   "cell_type": "code",
   "execution_count": 102,
   "id": "d64a9a60",
   "metadata": {},
   "outputs": [],
   "source": [
    "# Start lấy dữ liệu\n",
    "data = pd.read_csv(\"data_linear.csv\").values\n",
    "x = data[:, 0].reshape(-1, 1)\n",
    "\n",
    "# Ma trận output thực\n",
    "y = data[:, 1].reshape(-1, 1)\n",
    "\n",
    "# Số samples, số columns\n",
    "N, d = data.shape\n",
    "\n",
    "# Biến đổi ma trận input x\n",
    "X = np.hstack((np.ones((N, 1)), x))"
   ]
  },
  {
   "cell_type": "code",
   "execution_count": 103,
   "id": "35bba961",
   "metadata": {},
   "outputs": [
    {
     "name": "stdout",
     "output_type": "stream",
     "text": [
      "[[0.]\n",
      " [1.]]\n"
     ]
    }
   ],
   "source": [
    "# Tạo ma trận w\n",
    "w = np.array([0., 1.]).reshape(-1, 1)\n",
    "print(w)"
   ]
  },
  {
   "cell_type": "code",
   "execution_count": 104,
   "id": "98a08512",
   "metadata": {},
   "outputs": [],
   "source": [
    "# Traning - Gradient descent\n",
    "numOfIteration = 100\n",
    "loss = np.zeros((numOfIteration, 1))\n",
    "lr = 0.000001\n",
    "\n",
    "for i in range(0, numOfIteration):\n",
    "    r = np.dot(X, w) - y # y hat - y\n",
    "    loss[i] = 0.5*np.sum(r*r)/N\n",
    "    # update w\n",
    "    w = w - lr * np.dot(X.T, r)\n",
    "#     print(\"step {}, loss: {}\".format(i, loss[i]))\n",
    "    \n"
   ]
  },
  {
   "cell_type": "code",
   "execution_count": 105,
   "id": "b3b4eecb",
   "metadata": {},
   "outputs": [
    {
     "data": {
      "text/plain": [
       "[<matplotlib.lines.Line2D at 0x2f2487059d0>]"
      ]
     },
     "execution_count": 105,
     "metadata": {},
     "output_type": "execute_result"
    },
    {
     "data": {
      "image/png": "[encoded data removed]",
      "text/plain": [
       "<Figure size 432x288 with 1 Axes>"
      ]
     },
     "metadata": {
      "needs_background": "light"
     },
     "output_type": "display_data"
    }
   ],
   "source": [
    "# Đồ thị giữa loss và số vòng lặp (số #epoch)\n",
    "# Thể hiện lr: very high, high, low or good\n",
    "plt.plot(loss)"
   ]
  },
  {
   "cell_type": "code",
   "execution_count": 106,
   "id": "81e5d81e",
   "metadata": {},
   "outputs": [
    {
     "name": "stdout",
     "output_type": "stream",
     "text": [
      "[[ 0.19471286]\n",
      " [15.10986529]]\n"
     ]
    }
   ],
   "source": [
    "# Sau khi traing\n",
    "print(w)"
   ]
  },
  {
   "cell_type": "code",
   "execution_count": 107,
   "id": "5bd3328b",
   "metadata": {},
   "outputs": [
    {
     "data": {
      "text/plain": [
       "<matplotlib.collections.PathCollection at 0x2f24875fdc0>"
      ]
     },
     "execution_count": 107,
     "metadata": {},
     "output_type": "execute_result"
    },
    {
     "data": {
      "image/png": "[encoded data removed]",
      "text/plain": [
       "<Figure size 432x288 with 1 Axes>"
      ]
     },
     "metadata": {
      "needs_background": "light"
     },
     "output_type": "display_data"
    }
   ],
   "source": [
    "# Vẽ hàm dự đoán: y^ = w0 + w1*x\n",
    "predict = np.dot(X, w)\n",
    "# Vẽ đường thẳng khi biết 2 điểm\n",
    "plt.plot((X[0][1], X[N-1][1]),(predict[0], predict[N-1]), color=\"red\")\n",
    "x = data[:, 0].reshape(-1, 1)\n",
    "y = data[:, 1].reshape(-1, 1) \n",
    "plt.scatter(x, y)\n"
   ]
  },
  {
   "cell_type": "code",
   "execution_count": 109,
   "id": "c2321045",
   "metadata": {},
   "outputs": [
    {
     "name": "stdout",
     "output_type": "stream",
     "text": [
      "Giá nhà cho 50m^2 là :  [755.68797748]\n"
     ]
    }
   ],
   "source": [
    "# Predict after training\n",
    "x1 = 50\n",
    "y1 = w[0] + w[1] * 50\n",
    "print('Giá nhà cho 50m^2 là : ', y1)"
   ]
  },
  {
   "cell_type": "markdown",
   "id": "74ddd476",
   "metadata": {},
   "source": [
    "### 3.2. Thay đổi lr"
   ]
  },
  {
   "cell_type": "code",
   "execution_count": 155,
   "id": "de8f6c75",
   "metadata": {
    "scrolled": true
   },
   "outputs": [
    {
     "data": {
      "image/png": "[encoded data removed]",
      "text/plain": [
       "<Figure size 720x360 with 4 Axes>"
      ]
     },
     "metadata": {
      "needs_background": "light"
     },
     "output_type": "display_data"
    }
   ],
   "source": [
    "data = pd.read_csv('data_linear.csv').values\n",
    "\n",
    "#N: số điểm dữ liệu, x cột \n",
    "N = data.shape[0]\n",
    "x = data[:, 0].reshape(-1, 1)\n",
    "y = data[:, 1].reshape(-1, 1)\n",
    "\n",
    "#thêm cột 1 vào x\n",
    "x = np.hstack((np.ones((N, 1)), x))\n",
    "\n",
    "#tham số để training\n",
    "numOfIteration = 100\n",
    "cost = [[],[],[],[]]\n",
    "\n",
    "# 4 learning_rate\n",
    "learning_rate = [0.0000001,0.000001,0.00002,0.0001]\n",
    "\n",
    "#training\n",
    "for i in range(len(learning_rate)):\n",
    "    cost[i] = np.zeros((numOfIteration,1))\n",
    "    w = np.array([0.,1.]).reshape(-1,1)\n",
    "    for j in range(numOfIteration):\n",
    "        r = np.dot(x, w) - y\n",
    "        cost[i][j] = 0.5*np.sum(r*r)\n",
    "        # correct the shape dimension\n",
    "        w = w - learning_rate[i] * np.dot(x.T, r)\n",
    "        #print('lr {}, step {}, cost: {}'.format(i, j, cost[i][j]))\n",
    "\n",
    "fig, ((ax1, ax2), (ax3, ax4)) = plt.subplots(nrows=2,\n",
    "                                             ncols=2,\n",
    "                                             figsize=(10, 5))\n",
    "ax1.plot(cost[0], color=\"green\", label=\"lr nhỏ\");\n",
    "ax2.plot(cost[1], color=\"blue\", label=\"lr vừa\");\n",
    "ax3.plot(cost[2], color=\"orange\", label=\"lr lớn\");\n",
    "ax4.plot(cost[3], color=\"red\", label=\"lr rất lớn\");"
   ]
  },
  {
   "cell_type": "code",
   "execution_count": null,
   "id": "1e750a32",
   "metadata": {},
   "outputs": [],
   "source": []
  }
 ],
 "metadata": {
  "kernelspec": {
   "display_name": "Python 3",
   "language": "python",
   "name": "python3"
  },
  "language_info": {
   "codemirror_mode": {
    "name": "ipython",
    "version": 3
   },
   "file_extension": ".py",
   "mimetype": "text/x-python",
   "name": "python",
   "nbconvert_exporter": "python",
   "pygments_lexer": "ipython3",
   "version": "3.8.8"
  }
 },
 "nbformat": 4,
 "nbformat_minor": 5
}
