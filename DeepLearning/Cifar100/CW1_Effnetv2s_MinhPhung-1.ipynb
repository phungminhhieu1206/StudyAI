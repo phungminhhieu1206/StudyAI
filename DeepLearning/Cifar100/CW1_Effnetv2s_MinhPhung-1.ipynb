{
  "nbformat": 4,
  "nbformat_minor": 0,
  "metadata": {
    "colab": {
      "name": "CW1_Effnetv2s_MinhPhung.ipynb",
      "provenance": [],
      "collapsed_sections": []
    },
    "kernelspec": {
      "name": "python3",
      "display_name": "Python 3"
    },
    "language_info": {
      "name": "python"
    },
    "accelerator": "GPU"
  },
  "cells": [
    {
      "cell_type": "code",
      "metadata": {
        "id": "urXLx4NT1FNg",
        "colab": {
          "base_uri": "https://localhost:8080/"
        },
        "outputId": "abd66219-3542-4f6b-e6e5-4fcb85233d6c"
      },
      "source": [
        "from google.colab import drive\n",
        "drive.mount('/content/drive')"
      ],
      "execution_count": 10,
      "outputs": [
        {
          "output_type": "stream",
          "text": [
            "Mounted at /content/drive\n"
          ],
          "name": "stdout"
        }
      ]
    },
    {
      "cell_type": "code",
      "metadata": {
        "colab": {
          "base_uri": "https://localhost:8080/"
        },
        "id": "-PQZRdFXqshM",
        "outputId": "91aa0edf-e705-4c2f-deb9-45972c9c66b2"
      },
      "source": [
        "# Check GPU\n",
        "!nvidia-smi -L"
      ],
      "execution_count": 18,
      "outputs": [
        {
          "output_type": "stream",
          "text": [
            "GPU 0: Tesla T4 (UUID: GPU-ca78c4a8-5eac-e20d-f989-46f09e97be27)\n"
          ],
          "name": "stdout"
        }
      ]
    },
    {
      "cell_type": "code",
      "metadata": {
        "id": "zDgUgrnXqELp"
      },
      "source": [
        "# import thư viện\n",
        "import tensorflow.keras as keras\n",
        "from tensorflow.keras.models import Model, Sequential\n",
        "from tensorflow.keras.layers import Input, UpSampling2D, Flatten, BatchNormalization, Dense, Dropout, GlobalAveragePooling2D\n",
        "from tensorflow.keras import optimizers\n",
        "from keras.datasets import cifar100\n",
        "import tensorflow as tf\n",
        "from keras.utils import np_utils\n",
        "import numpy as np\n",
        "import matplotlib.pyplot as plt\n",
        "from keras.preprocessing.image import ImageDataGenerator\n",
        "from sklearn.model_selection import train_test_split, StratifiedShuffleSplit\n",
        "from tensorflow.keras.utils import to_categorical\n",
        "from keras.callbacks import Callback, EarlyStopping, ReduceLROnPlateau, ModelCheckpoint"
      ],
      "execution_count": 1,
      "outputs": []
    },
    {
      "cell_type": "code",
      "metadata": {
        "id": "nasC0VXAqEtO"
      },
      "source": [
        "# load dữ liệu\n",
        "(x_train, y_train), (x_test, y_test) = cifar100.load_data()"
      ],
      "execution_count": 22,
      "outputs": []
    },
    {
      "cell_type": "code",
      "metadata": {
        "colab": {
          "base_uri": "https://localhost:8080/"
        },
        "id": "Ha2h7Bk7qG4-",
        "outputId": "d3b17585-a440-4bd4-fa8d-8a0dfb7d9e3d"
      },
      "source": [
        "# Chia dữ liệu theo tỷ lệ train/val : 0.8/0.2\n",
        "\n",
        "sss = StratifiedShuffleSplit(n_splits=2, test_size=0.2, random_state=123)\n",
        "\n",
        "for train_index, val_index in sss.split(x_train, y_train):\n",
        "    X_train_data, X_val_data = x_train[train_index], x_train[val_index]\n",
        "    y_train_data, y_val_data = y_train[train_index], y_train[val_index]\n",
        "\n",
        "print(\"Number of training samples: \", X_train_data.shape[0])\n",
        "print(\"Number of validation samples: \", X_val_data.shape[0])"
      ],
      "execution_count": 23,
      "outputs": [
        {
          "output_type": "stream",
          "text": [
            "Number of training samples:  40000\n",
            "Number of validation samples:  10000\n"
          ],
          "name": "stdout"
        }
      ]
    },
    {
      "cell_type": "code",
      "metadata": {
        "id": "yai6iPRvqKk-"
      },
      "source": [
        "# Reshape lại dữ liệu cho đúng kích thước input\n",
        "\n",
        "X_train = X_train_data.reshape(X_train_data.shape[0], 32, 32, 3)\n",
        "X_val = X_val_data.reshape(X_val_data.shape[0], 32, 32, 3)\n",
        "X_test = x_test.reshape(x_test.shape[0], 32, 32, 3)\n",
        "\n",
        "# Normalize pixel về giá trị [0-1]\n",
        "\n",
        "X_train = X_train/255.\n",
        "X_test = X_test/255.\n",
        "X_val = X_val/255."
      ],
      "execution_count": 24,
      "outputs": []
    },
    {
      "cell_type": "code",
      "metadata": {
        "colab": {
          "base_uri": "https://localhost:8080/"
        },
        "id": "SWxdS3GRqPpm",
        "outputId": "c604d523-778f-4167-81ba-6e450d9c9fb6"
      },
      "source": [
        "# One-hot encoding label\n",
        "\n",
        "y_train = to_categorical(y_train_data, 100)\n",
        "y_val = to_categorical(y_val_data, 100)\n",
        "y_test = to_categorical(y_test, 100)\n",
        "print('Dữ liệu y ban đầu ', y_train_data[0])\n",
        "print('Dữ liệu y sau one-hot encoding ',y_train[0])"
      ],
      "execution_count": 25,
      "outputs": [
        {
          "output_type": "stream",
          "text": [
            "Dữ liệu y ban đầu  [71]\n",
            "Dữ liệu y sau one-hot encoding  [0. 0. 0. 0. 0. 0. 0. 0. 0. 0. 0. 0. 0. 0. 0. 0. 0. 0. 0. 0. 0. 0. 0. 0.\n",
            " 0. 0. 0. 0. 0. 0. 0. 0. 0. 0. 0. 0. 0. 0. 0. 0. 0. 0. 0. 0. 0. 0. 0. 0.\n",
            " 0. 0. 0. 0. 0. 0. 0. 0. 0. 0. 0. 0. 0. 0. 0. 0. 0. 0. 0. 0. 0. 0. 0. 1.\n",
            " 0. 0. 0. 0. 0. 0. 0. 0. 0. 0. 0. 0. 0. 0. 0. 0. 0. 0. 0. 0. 0. 0. 0. 0.\n",
            " 0. 0. 0. 0.]\n"
          ],
          "name": "stdout"
        }
      ]
    },
    {
      "cell_type": "code",
      "metadata": {
        "id": "hyyGs7vwau3N"
      },
      "source": [
        "# Cut-out augmentation \n",
        "\n",
        "def get_random_eraser(p=0.5, s_l=0.02, s_h=0.4, r_1=0.3, r_2=1/0.3, v_l=0, v_h=255, pixel_level=False):\n",
        "    def eraser(input_img):\n",
        "        if input_img.ndim == 3:\n",
        "            img_h, img_w, img_c = input_img.shape\n",
        "        elif input_img.ndim == 2:\n",
        "            img_h, img_w = input_img.shape\n",
        "\n",
        "        p_1 = np.random.rand()\n",
        "\n",
        "        if p_1 > p:\n",
        "            return input_img\n",
        "\n",
        "        while True:\n",
        "            s = np.random.uniform(s_l, s_h) * img_h * img_w\n",
        "            r = np.random.uniform(r_1, r_2)\n",
        "            w = int(np.sqrt(s / r))\n",
        "            h = int(np.sqrt(s * r))\n",
        "            left = np.random.randint(0, img_w)\n",
        "            top = np.random.randint(0, img_h)\n",
        "\n",
        "            if left + w <= img_w and top + h <= img_h:\n",
        "                break\n",
        "\n",
        "        if pixel_level:\n",
        "            if input_img.ndim == 3:\n",
        "                c = np.random.uniform(v_l, v_h, (h, w, img_c))\n",
        "            if input_img.ndim == 2:\n",
        "                c = np.random.uniform(v_l, v_h, (h, w))\n",
        "        else:\n",
        "            c = np.random.uniform(v_l, v_h)\n",
        "\n",
        "        input_img[top:top + h, left:left + w] = c\n",
        "\n",
        "        return input_img\n",
        "\n",
        "    return eraser"
      ],
      "execution_count": 26,
      "outputs": []
    },
    {
      "cell_type": "code",
      "metadata": {
        "colab": {
          "base_uri": "https://localhost:8080/",
          "height": 268
        },
        "id": "s05NnLVRuEJI",
        "outputId": "42e053ee-3a60-4ef2-a419-23a2eb27584b"
      },
      "source": [
        "# Visualize ảnh gốc\n",
        "for i in range(9):\n",
        "\t# define subplot\n",
        "\tplt.subplot(330 + 1 + i)\n",
        "\t# plot raw pixel data\n",
        "\tplt.imshow(X_train[i])\n",
        "# show the figure\n",
        "plt.show()"
      ],
      "execution_count": 27,
      "outputs": [
        {
          "output_type": "display_data",
          "data": {
            "image/png": "[encoded data removed]",
            "text/plain": [
              "<Figure size 432x288 with 9 Axes>"
            ]
          },
          "metadata": {
            "tags": [],
            "needs_background": "light"
          }
        }
      ]
    },
    {
      "cell_type": "code",
      "metadata": {
        "colab": {
          "base_uri": "https://localhost:8080/",
          "height": 283
        },
        "id": "8xuT0GLPtSTw",
        "outputId": "f76dfc5d-4a07-4392-c2bc-e8a1a8693679"
      },
      "source": [
        "# Visualize image with cut-out pixel = False\n",
        "cutout = get_random_eraser(v_l=0, v_h=1, pixel_level=False)\n",
        "X_ = cutout(X_train[0])\n",
        "plt.imshow(X_)"
      ],
      "execution_count": 38,
      "outputs": [
        {
          "output_type": "execute_result",
          "data": {
            "text/plain": [
              "<matplotlib.image.AxesImage at 0x7fe9f6bfded0>"
            ]
          },
          "metadata": {
            "tags": []
          },
          "execution_count": 38
        },
        {
          "output_type": "display_data",
          "data": {
            "image/png": "[encoded data removed]",
            "text/plain": [
              "<Figure size 432x288 with 1 Axes>"
            ]
          },
          "metadata": {
            "tags": [],
            "needs_background": "light"
          }
        }
      ]
    },
    {
      "cell_type": "code",
      "metadata": {
        "colab": {
          "base_uri": "https://localhost:8080/",
          "height": 283
        },
        "id": "aD8bXT2XvVIW",
        "outputId": "36be8c91-342f-4f84-acc1-3923bd539aee"
      },
      "source": [
        "# Visualize image with cut-out pixel = True\n",
        "cutout = get_random_eraser(v_l=0, v_h=1, pixel_level=True)\n",
        "X_ = cutout(X_train[0])\n",
        "plt.imshow(X_)"
      ],
      "execution_count": 40,
      "outputs": [
        {
          "output_type": "execute_result",
          "data": {
            "text/plain": [
              "<matplotlib.image.AxesImage at 0x7fe9f6958690>"
            ]
          },
          "metadata": {
            "tags": []
          },
          "execution_count": 40
        },
        {
          "output_type": "display_data",
          "data": {
            "image/png": "[encoded data removed]",
            "text/plain": [
              "<Figure size 432x288 with 1 Axes>"
            ]
          },
          "metadata": {
            "tags": [],
            "needs_background": "light"
          }
        }
      ]
    },
    {
      "cell_type": "code",
      "metadata": {
        "id": "dIGDoQMwdPew"
      },
      "source": [
        "# Augmentation data\n",
        "datagen = ImageDataGenerator(\n",
        "          rotation_range=40,  # phạm vi random góc xoay image \n",
        "          width_shift_range=0.2, \n",
        "          height_shift_range=0.2,\n",
        "          shear_range = 0.2,\n",
        "          zoom_range = 0.2,\n",
        "          horizontal_flip=True,\n",
        "          fill_mode='nearest',\n",
        "          preprocessing_function=get_random_eraser(v_l=0, v_h=1, pixel_level=True))"
      ],
      "execution_count": null,
      "outputs": []
    },
    {
      "cell_type": "code",
      "metadata": {
        "colab": {
          "base_uri": "https://localhost:8080/"
        },
        "id": "Yxhbh8rEnwjI",
        "outputId": "0acdaabf-b3e6-4c3e-81a4-138a4ed7a9f3"
      },
      "source": [
        "# load pretrained model từ tf-hub\n",
        "\n",
        "import itertools\n",
        "import os\n",
        "\n",
        "import matplotlib.pylab as plt\n",
        "import numpy as np\n",
        "\n",
        "import tensorflow as tf\n",
        "import tensorflow_hub as hub\n",
        "\n",
        "print('TF version:', tf.__version__)\n",
        "print('Hub version:', hub.__version__)\n",
        "print('Phsical devices:', tf.config.list_physical_devices())\n",
        "\n",
        "def get_hub_url_and_isize(model_name, ckpt_type, hub_type):\n",
        "  if ckpt_type == '-1k':\n",
        "    ckpt_type = ''\n",
        "  \n",
        "  hub_url_map = {\n",
        "    'efficientnetv2-b0': f'gs://cloud-tpu-checkpoints/efficientnet/v2/hub/efficientnetv2-b0/{hub_type}',\n",
        "    'efficientnetv2-b1': f'gs://cloud-tpu-checkpoints/efficientnet/v2/hub/efficientnetv2-b1/{hub_type}',\n",
        "    'efficientnetv2-b2': f'gs://cloud-tpu-checkpoints/efficientnet/v2/hub/efficientnetv2-b2/{hub_type}',\n",
        "    'efficientnetv2-b3': f'gs://cloud-tpu-checkpoints/efficientnet/v2/hub/efficientnetv2-b3/{hub_type}',\n",
        "    'efficientnetv2-s':  f'gs://cloud-tpu-checkpoints/efficientnet/v2/hub/efficientnetv2-s/{hub_type}',\n",
        "    'efficientnetv2-m':  f'gs://cloud-tpu-checkpoints/efficientnet/v2/hub/efficientnetv2-m/{hub_type}',\n",
        "    'efficientnetv2-l':  f'gs://cloud-tpu-checkpoints/efficientnet/v2/hub/efficientnetv2-l/{hub_type}',\n",
        "    'efficientnetv2-s-21k':  f'gs://cloud-tpu-checkpoints/efficientnet/v2/hub/efficientnetv2-s-21k/{hub_type}',\n",
        "    'efficientnetv2-m-21k':  f'gs://cloud-tpu-checkpoints/efficientnet/v2/hub/efficientnetv2-m-21k/{hub_type}',\n",
        "    'efficientnetv2-l-21k':  f'gs://cloud-tpu-checkpoints/efficientnet/v2/hub/efficientnetv2-l-21k/{hub_type}',\n",
        "    'efficientnetv2-s-21k-ft1k':  f'gs://cloud-tpu-checkpoints/efficientnet/v2/hub/efficientnetv2-s-21k-ft1k/{hub_type}',\n",
        "    'efficientnetv2-m-21k-ft1k':  f'gs://cloud-tpu-checkpoints/efficientnet/v2/hub/efficientnetv2-m-21k-ft1k/{hub_type}',\n",
        "    'efficientnetv2-l-21k-ft1k':  f'gs://cloud-tpu-checkpoints/efficientnet/v2/hub/efficientnetv2-l-21k-ft1k/{hub_type}',\n",
        "      \n",
        "    # efficientnetv1\n",
        "    'efficientnet_b0': f'https://tfhub.dev/tensorflow/efficientnet/b0/{hub_type}/1',\n",
        "    'efficientnet_b1': f'https://tfhub.dev/tensorflow/efficientnet/b1/{hub_type}/1',\n",
        "    'efficientnet_b2': f'https://tfhub.dev/tensorflow/efficientnet/b2/{hub_type}/1',\n",
        "    'efficientnet_b3': f'https://tfhub.dev/tensorflow/efficientnet/b3/{hub_type}/1',\n",
        "    'efficientnet_b4': f'https://tfhub.dev/tensorflow/efficientnet/b4/{hub_type}/1',\n",
        "    'efficientnet_b5': f'https://tfhub.dev/tensorflow/efficientnet/b5/{hub_type}/1',\n",
        "    'efficientnet_b6': f'https://tfhub.dev/tensorflow/efficientnet/b6/{hub_type}/1',\n",
        "    'efficientnet_b7': f'https://tfhub.dev/tensorflow/efficientnet/b7/{hub_type}/1',\n",
        "  }\n",
        "  \n",
        "  image_size_map = {\n",
        "    'efficientnetv2-b0': 224,\n",
        "    'efficientnetv2-b1': 240,\n",
        "    'efficientnetv2-b2': 260,\n",
        "    'efficientnetv2-b3': 300,\n",
        "    'efficientnetv2-s':  384,\n",
        "    'efficientnetv2-m':  480,\n",
        "    'efficientnetv2-l':  480,\n",
        "  \n",
        "    'efficientnet_b0': 224,\n",
        "    'efficientnet_b1': 240,\n",
        "    'efficientnet_b2': 260,\n",
        "    'efficientnet_b3': 300,\n",
        "    'efficientnet_b4': 380,\n",
        "    'efficientnet_b5': 456,\n",
        "    'efficientnet_b6': 528,\n",
        "    'efficientnet_b7': 600,\n",
        "  }\n",
        "  \n",
        "  hub_url = hub_url_map.get(model_name + ckpt_type)\n",
        "  image_size = image_size_map.get(model_name, 224)\n",
        "  return hub_url, image_size"
      ],
      "execution_count": null,
      "outputs": [
        {
          "output_type": "stream",
          "text": [
            "TF version: 2.5.0\n",
            "Hub version: 0.12.0\n",
            "Phsical devices: [PhysicalDevice(name='/physical_device:CPU:0', device_type='CPU'), PhysicalDevice(name='/physical_device:GPU:0', device_type='GPU')]\n"
          ],
          "name": "stdout"
        }
      ]
    },
    {
      "cell_type": "code",
      "metadata": {
        "id": "gNTKV7dQoIm2"
      },
      "source": [
        "import tensorflow_hub as hub\n",
        "model_name = 'efficientnetv2-s' # sử dụng pretrained model EfficientnetV2-S \n",
        "ckpt_type = '-1k'   # Model đã train trên tập ImageNet-1k\n",
        "hub_type = 'feature-vector' # Sử dụng ['feature-vector'] để fine-tuning\n",
        "hub_url, image_size = get_hub_url_and_isize(model_name, ckpt_type, hub_type)"
      ],
      "execution_count": null,
      "outputs": []
    },
    {
      "cell_type": "code",
      "metadata": {
        "colab": {
          "base_uri": "https://localhost:8080/"
        },
        "id": "QafItssmpSy5",
        "outputId": "ebc5f282-428d-4d0a-e89f-470fdaa6d1b5"
      },
      "source": [
        "# Fine-tuning model\n",
        "\n",
        "do_fine_tuning = True # Fine-tune cả model\n",
        "num_classes = 100\n",
        "\n",
        "tf.keras.backend.clear_session()\n",
        "\n",
        "model = tf.keras.Sequential([\n",
        "    tf.keras.layers.InputLayer(input_shape=[32, 32, 3]),\n",
        "    tf.keras.layers.UpSampling2D(),\n",
        "    tf.keras.layers.UpSampling2D(),\n",
        "    tf.keras.layers.UpSampling2D(),\n",
        "    hub.KerasLayer(hub_url, trainable=do_fine_tuning),\n",
        "    # tf.keras.layers.Dense(640),\n",
        "    # tf.keras.layers.BatchNormalization(),\n",
        "    # tf.keras.layers.Activation('relu'),\n",
        "    tf.keras.layers.Dropout(0.2),\n",
        "    # tf.keras.layers.BatchNormalization(),\n",
        "    tf.keras.layers.Dense(num_classes,activation='softmax',\n",
        "                          kernel_regularizer=tf.keras.regularizers.l2(0.0001))\n",
        "])\n",
        "\n",
        "model.build((None, 32, 32, 3))\n",
        "model.summary()"
      ],
      "execution_count": null,
      "outputs": [
        {
          "output_type": "stream",
          "text": [
            "Model: \"sequential\"\n",
            "_________________________________________________________________\n",
            "Layer (type)                 Output Shape              Param #   \n",
            "=================================================================\n",
            "up_sampling2d (UpSampling2D) (None, 64, 64, 3)         0         \n",
            "_________________________________________________________________\n",
            "up_sampling2d_1 (UpSampling2 (None, 128, 128, 3)       0         \n",
            "_________________________________________________________________\n",
            "up_sampling2d_2 (UpSampling2 (None, 256, 256, 3)       0         \n",
            "_________________________________________________________________\n",
            "keras_layer (KerasLayer)     (None, 1280)              20331360  \n",
            "_________________________________________________________________\n",
            "dropout (Dropout)            (None, 1280)              0         \n",
            "_________________________________________________________________\n",
            "dense (Dense)                (None, 100)               128100    \n",
            "=================================================================\n",
            "Total params: 20,459,460\n",
            "Trainable params: 20,305,588\n",
            "Non-trainable params: 153,872\n",
            "_________________________________________________________________\n"
          ],
          "name": "stdout"
        }
      ]
    },
    {
      "cell_type": "code",
      "metadata": {
        "id": "Kksif_VoqdkV"
      },
      "source": [
        "# Early Stopping để ngăn overfitting \n",
        "early_stop = EarlyStopping(monitor='val_accuracy', mode='max', verbose=1, patience = 9, restore_best_weights=True)\n",
        "\n",
        "# Reduce learning rate nếu qua một số epoch không cải thiện val_acc \n",
        "rlrop = ReduceLROnPlateau(monitor='val_accuracy', mode='max', patience = 3, factor= 0.5, min_lr= 1e-6, verbose=1)\n",
        "\n",
        "# Checkpoint save best model\n",
        "filepath = '/content/drive/MyDrive/effnetv2s-sgd-cutout.h5'\n",
        "\n",
        "checkpoint = ModelCheckpoint(filepath=filepath,\n",
        "                             monitor='val_accuracy',\n",
        "                             verbose=1,\n",
        "                             save_best_only=True)"
      ],
      "execution_count": 25,
      "outputs": []
    },
    {
      "cell_type": "code",
      "metadata": {
        "id": "Gkydm84kqlrN"
      },
      "source": [
        "# Model compiling\n",
        "model.compile(\n",
        "  optimizer= tf.keras.optimizers.SGD(learning_rate=0.005, momentum= 0.9), \n",
        "  loss=tf.keras.losses.CategoricalCrossentropy(from_logits=True, label_smoothing=0.1),\n",
        "  metrics=['accuracy'])"
      ],
      "execution_count": null,
      "outputs": []
    },
    {
      "cell_type": "code",
      "metadata": {
        "colab": {
          "base_uri": "https://localhost:8080/"
        },
        "id": "DLGlesjEqnVE",
        "outputId": "ea61499c-8ef6-4d24-93fc-13764cbeb898"
      },
      "source": [
        "data_augmentation = True \n",
        "\n",
        "# Train với data không augmentation\n",
        "if not data_augmentation:\n",
        "    print('Not using data augmentation.')\n",
        "    model.fit(X_train, y_train,\n",
        "              batch_size=batch_size,\n",
        "              epochs=30,\n",
        "              validation_data=(X_val, y_val),\n",
        "              shuffle=True,\n",
        "              callbacks=[rlrop,checkpoint])\n",
        "else:\n",
        "    print('Using real-time data augmentation.')\n",
        "\n",
        "    # Train với data augmentation + cut-out\n",
        "    H_1 = model.fit(datagen.flow(X_train, y_train, batch_size = 16),\n",
        "              steps_per_epoch=X_train.shape[0] // 16,\n",
        "              validation_data=(X_val, y_val),\n",
        "              epochs = 20, verbose=1, workers=4,\n",
        "              callbacks=[rlrop,checkpoint,early_stop])\n"
      ],
      "execution_count": null,
      "outputs": [
        {
          "output_type": "stream",
          "text": [
            "Using real-time data augmentation.\n",
            "Epoch 1/20\n"
          ],
          "name": "stdout"
        },
        {
          "output_type": "stream",
          "text": [
            "/usr/local/lib/python3.7/dist-packages/tensorflow/python/keras/backend.py:4870: UserWarning: \"`categorical_crossentropy` received `from_logits=True`, but the `output` argument was produced by a sigmoid or softmax activation and thus does not represent logits. Was this intended?\"\n",
            "  '\"`categorical_crossentropy` received `from_logits=True`, but '\n"
          ],
          "name": "stderr"
        },
        {
          "output_type": "stream",
          "text": [
            "2500/2500 [==============================] - 853s 322ms/step - loss: 2.7189 - accuracy: 0.4397 - val_loss: 1.5180 - val_accuracy: 0.7771\n",
            "\n",
            "Epoch 00001: val_accuracy improved from -inf to 0.77710, saving model to /content/drive/MyDrive/effnetv2s-sgd-cutout.h5\n",
            "Epoch 2/20\n",
            "2500/2500 [==============================] - 770s 308ms/step - loss: 1.8240 - accuracy: 0.6797 - val_loss: 1.3887 - val_accuracy: 0.8125\n",
            "\n",
            "Epoch 00002: val_accuracy improved from 0.77710 to 0.81250, saving model to /content/drive/MyDrive/effnetv2s-sgd-cutout.h5\n",
            "Epoch 3/20\n",
            "2500/2500 [==============================] - 772s 309ms/step - loss: 1.6465 - accuracy: 0.7336 - val_loss: 1.3514 - val_accuracy: 0.8257\n",
            "\n",
            "Epoch 00003: val_accuracy improved from 0.81250 to 0.82570, saving model to /content/drive/MyDrive/effnetv2s-sgd-cutout.h5\n",
            "Epoch 4/20\n",
            "2500/2500 [==============================] - 771s 308ms/step - loss: 1.5362 - accuracy: 0.7661 - val_loss: 1.3409 - val_accuracy: 0.8335\n",
            "\n",
            "Epoch 00004: val_accuracy improved from 0.82570 to 0.83350, saving model to /content/drive/MyDrive/effnetv2s-sgd-cutout.h5\n",
            "Epoch 5/20\n",
            "2500/2500 [==============================] - 771s 309ms/step - loss: 1.4546 - accuracy: 0.7930 - val_loss: 1.3169 - val_accuracy: 0.8424\n",
            "\n",
            "Epoch 00005: val_accuracy improved from 0.83350 to 0.84240, saving model to /content/drive/MyDrive/effnetv2s-sgd-cutout.h5\n",
            "Epoch 6/20\n",
            "2500/2500 [==============================] - 808s 323ms/step - loss: 1.3941 - accuracy: 0.8158 - val_loss: 1.3097 - val_accuracy: 0.8416\n",
            "\n",
            "Epoch 00006: val_accuracy did not improve from 0.84240\n",
            "Epoch 7/20\n",
            "2500/2500 [==============================] - 769s 308ms/step - loss: 1.3504 - accuracy: 0.8270 - val_loss: 1.3050 - val_accuracy: 0.8447\n",
            "\n",
            "Epoch 00007: val_accuracy improved from 0.84240 to 0.84470, saving model to /content/drive/MyDrive/effnetv2s-sgd-cutout.h5\n",
            "Epoch 8/20\n",
            "2500/2500 [==============================] - 772s 309ms/step - loss: 1.3038 - accuracy: 0.8429 - val_loss: 1.2973 - val_accuracy: 0.8531\n",
            "\n",
            "Epoch 00008: val_accuracy improved from 0.84470 to 0.85310, saving model to /content/drive/MyDrive/effnetv2s-sgd-cutout.h5\n",
            "Epoch 9/20\n",
            "2500/2500 [==============================] - 769s 308ms/step - loss: 1.2697 - accuracy: 0.8546 - val_loss: 1.3034 - val_accuracy: 0.8483\n",
            "\n",
            "Epoch 00009: val_accuracy did not improve from 0.85310\n",
            "Epoch 10/20\n",
            "2500/2500 [==============================] - 767s 307ms/step - loss: 1.2426 - accuracy: 0.8629 - val_loss: 1.2911 - val_accuracy: 0.8510\n",
            "\n",
            "Epoch 00010: val_accuracy did not improve from 0.85310\n",
            "Epoch 11/20\n",
            "2500/2500 [==============================] - 768s 307ms/step - loss: 1.2155 - accuracy: 0.8713 - val_loss: 1.2962 - val_accuracy: 0.8491\n",
            "\n",
            "Epoch 00011: ReduceLROnPlateau reducing learning rate to 0.0024999999441206455.\n",
            "\n",
            "Epoch 00011: val_accuracy did not improve from 0.85310\n",
            "Epoch 12/20\n",
            "2500/2500 [==============================] - 768s 307ms/step - loss: 1.1276 - accuracy: 0.9045 - val_loss: 1.2663 - val_accuracy: 0.8612\n",
            "\n",
            "Epoch 00012: val_accuracy improved from 0.85310 to 0.86120, saving model to /content/drive/MyDrive/effnetv2s-sgd-cutout.h5\n",
            "Epoch 13/20\n",
            "2500/2500 [==============================] - 768s 307ms/step - loss: 1.0968 - accuracy: 0.9124 - val_loss: 1.2533 - val_accuracy: 0.8644\n",
            "\n",
            "Epoch 00013: val_accuracy improved from 0.86120 to 0.86440, saving model to /content/drive/MyDrive/effnetv2s-sgd-cutout.h5\n",
            "Epoch 14/20\n",
            "2500/2500 [==============================] - 767s 307ms/step - loss: 1.0780 - accuracy: 0.9208 - val_loss: 1.2547 - val_accuracy: 0.8655\n",
            "\n",
            "Epoch 00014: val_accuracy improved from 0.86440 to 0.86550, saving model to /content/drive/MyDrive/effnetv2s-sgd-cutout.h5\n",
            "Epoch 15/20\n",
            "2500/2500 [==============================] - 768s 307ms/step - loss: 1.0665 - accuracy: 0.9243 - val_loss: 1.2445 - val_accuracy: 0.8679\n",
            "\n",
            "Epoch 00015: val_accuracy improved from 0.86550 to 0.86790, saving model to /content/drive/MyDrive/effnetv2s-sgd-cutout.h5\n",
            "Epoch 16/20\n",
            "2500/2500 [==============================] - 768s 307ms/step - loss: 1.0474 - accuracy: 0.9299 - val_loss: 1.2433 - val_accuracy: 0.8710\n",
            "\n",
            "Epoch 00016: val_accuracy improved from 0.86790 to 0.87100, saving model to /content/drive/MyDrive/effnetv2s-sgd-cutout.h5\n",
            "Epoch 17/20\n",
            "2500/2500 [==============================] - 768s 307ms/step - loss: 1.0402 - accuracy: 0.9328 - val_loss: 1.2473 - val_accuracy: 0.8687\n",
            "\n",
            "Epoch 00017: val_accuracy did not improve from 0.87100\n",
            "Epoch 18/20\n",
            "2500/2500 [==============================] - 769s 308ms/step - loss: 1.0354 - accuracy: 0.9332 - val_loss: 1.2521 - val_accuracy: 0.8690\n",
            "\n",
            "Epoch 00018: val_accuracy did not improve from 0.87100\n",
            "Epoch 19/20\n",
            "2500/2500 [==============================] - 770s 308ms/step - loss: 1.0288 - accuracy: 0.9356 - val_loss: 1.2329 - val_accuracy: 0.8724\n",
            "\n",
            "Epoch 00019: val_accuracy improved from 0.87100 to 0.87240, saving model to /content/drive/MyDrive/effnetv2s-sgd-cutout.h5\n",
            "Epoch 20/20\n",
            " 730/2500 [=======>......................] - ETA: 8:33 - loss: 1.0102 - accuracy: 0.9396"
          ],
          "name": "stdout"
        }
      ]
    },
    {
      "cell_type": "code",
      "metadata": {
        "id": "c3emgkvYx11-"
      },
      "source": [
        "# Save lại history của train_1\n",
        "np.save('/content/drive/MyDrive/effnetv2s-sgd-cutout-1.npy',H_1.history)"
      ],
      "execution_count": null,
      "outputs": []
    },
    {
      "cell_type": "code",
      "metadata": {
        "id": "x2yTcK-tjJzf"
      },
      "source": [
        "# Load model đã save để train tiếp 20 epoch\n",
        "loaded_model = keras.models.load_model('/content/drive/MyDrive/effnetv2s-sgd-cutout.h5',custom_objects={'KerasLayer': hub.KerasLayer})"
      ],
      "execution_count": null,
      "outputs": []
    },
    {
      "cell_type": "code",
      "metadata": {
        "colab": {
          "base_uri": "https://localhost:8080/"
        },
        "id": "O2Lv5AdqvqTe",
        "outputId": "dbcbf6d4-9615-4069-eabe-befe39ea8149"
      },
      "source": [
        "# Do Colab giới hạn về thời gian sử dụng GPU nên em save model để train với 20 epoch tiếp theo \n",
        "\n",
        "H_2 = loaded_model.fit(datagen.flow(X_train, y_train, batch_size = 16),\n",
        "              steps_per_epoch=X_train.shape[0] // 16,\n",
        "              validation_data=(X_val, y_val),\n",
        "              epochs = 20, verbose=1, workers=4,\n",
        "              callbacks=[rlrop,checkpoint,early_stop])"
      ],
      "execution_count": null,
      "outputs": [
        {
          "output_type": "stream",
          "text": [
            "Epoch 1/20\n"
          ],
          "name": "stdout"
        },
        {
          "output_type": "stream",
          "text": [
            "/usr/local/lib/python3.7/dist-packages/tensorflow/python/keras/backend.py:4870: UserWarning: \"`categorical_crossentropy` received `from_logits=True`, but the `output` argument was produced by a sigmoid or softmax activation and thus does not represent logits. Was this intended?\"\n",
            "  '\"`categorical_crossentropy` received `from_logits=True`, but '\n"
          ],
          "name": "stderr"
        },
        {
          "output_type": "stream",
          "text": [
            "2500/2500 [==============================] - 772s 302ms/step - loss: 1.0198 - accuracy: 0.9397 - val_loss: 1.2532 - val_accuracy: 0.8674\n",
            "\n",
            "Epoch 00001: val_accuracy improved from -inf to 0.86740, saving model to /content/drive/MyDrive/effnetv2s-sgd-cutout.h5\n",
            "Epoch 2/20\n",
            "2500/2500 [==============================] - 754s 302ms/step - loss: 1.0077 - accuracy: 0.9430 - val_loss: 1.2374 - val_accuracy: 0.8705\n",
            "\n",
            "Epoch 00002: val_accuracy improved from 0.86740 to 0.87050, saving model to /content/drive/MyDrive/effnetv2s-sgd-cutout.h5\n",
            "Epoch 3/20\n",
            "2500/2500 [==============================] - 754s 302ms/step - loss: 1.0027 - accuracy: 0.9445 - val_loss: 1.2375 - val_accuracy: 0.8738\n",
            "\n",
            "Epoch 00003: val_accuracy improved from 0.87050 to 0.87380, saving model to /content/drive/MyDrive/effnetv2s-sgd-cutout.h5\n",
            "Epoch 4/20\n",
            "2500/2500 [==============================] - 755s 302ms/step - loss: 1.0005 - accuracy: 0.9441 - val_loss: 1.2494 - val_accuracy: 0.8691\n",
            "\n",
            "Epoch 00004: val_accuracy did not improve from 0.87380\n",
            "Epoch 5/20\n",
            "2500/2500 [==============================] - 793s 317ms/step - loss: 0.9981 - accuracy: 0.9449 - val_loss: 1.2360 - val_accuracy: 0.8733\n",
            "\n",
            "Epoch 00005: val_accuracy did not improve from 0.87380\n",
            "Epoch 6/20\n",
            "2500/2500 [==============================] - 755s 302ms/step - loss: 0.9883 - accuracy: 0.9488 - val_loss: 1.2565 - val_accuracy: 0.8705\n",
            "\n",
            "Epoch 00006: ReduceLROnPlateau reducing learning rate to 0.0012499999720603228.\n",
            "\n",
            "Epoch 00006: val_accuracy did not improve from 0.87380\n",
            "Epoch 7/20\n",
            "2500/2500 [==============================] - 753s 301ms/step - loss: 0.9699 - accuracy: 0.9541 - val_loss: 1.2354 - val_accuracy: 0.8734\n",
            "\n",
            "Epoch 00007: val_accuracy did not improve from 0.87380\n",
            "Epoch 8/20\n",
            "2500/2500 [==============================] - 753s 301ms/step - loss: 0.9586 - accuracy: 0.9582 - val_loss: 1.2352 - val_accuracy: 0.8756\n",
            "\n",
            "Epoch 00008: val_accuracy improved from 0.87380 to 0.87560, saving model to /content/drive/MyDrive/effnetv2s-sgd-cutout.h5\n",
            "Epoch 9/20\n",
            "2500/2500 [==============================] - 754s 302ms/step - loss: 0.9606 - accuracy: 0.9578 - val_loss: 1.2357 - val_accuracy: 0.8745\n",
            "\n",
            "Epoch 00009: val_accuracy did not improve from 0.87560\n",
            "Epoch 10/20\n",
            "2500/2500 [==============================] - 753s 301ms/step - loss: 0.9450 - accuracy: 0.9622 - val_loss: 1.2319 - val_accuracy: 0.8746\n",
            "\n",
            "Epoch 00010: val_accuracy did not improve from 0.87560\n",
            "Epoch 11/20\n",
            "2500/2500 [==============================] - 752s 301ms/step - loss: 0.9432 - accuracy: 0.9641 - val_loss: 1.2356 - val_accuracy: 0.8752\n",
            "\n",
            "Epoch 00011: ReduceLROnPlateau reducing learning rate to 0.0006249999860301614.\n",
            "\n",
            "Epoch 00011: val_accuracy did not improve from 0.87560\n",
            "Epoch 12/20\n",
            "2500/2500 [==============================] - 753s 301ms/step - loss: 0.9381 - accuracy: 0.9649 - val_loss: 1.2276 - val_accuracy: 0.8760\n",
            "\n",
            "Epoch 00012: val_accuracy improved from 0.87560 to 0.87600, saving model to /content/drive/MyDrive/effnetv2s-sgd-cutout.h5\n",
            "Epoch 13/20\n",
            "2500/2500 [==============================] - 753s 301ms/step - loss: 0.9314 - accuracy: 0.9667 - val_loss: 1.2206 - val_accuracy: 0.8804\n",
            "\n",
            "Epoch 00013: val_accuracy improved from 0.87600 to 0.88040, saving model to /content/drive/MyDrive/effnetv2s-sgd-cutout.h5\n",
            "Epoch 14/20\n",
            "2500/2500 [==============================] - 753s 301ms/step - loss: 0.9297 - accuracy: 0.9666 - val_loss: 1.2246 - val_accuracy: 0.8789\n",
            "\n",
            "Epoch 00014: val_accuracy did not improve from 0.88040\n",
            "Epoch 15/20\n",
            "2500/2500 [==============================] - 753s 301ms/step - loss: 0.9328 - accuracy: 0.9657 - val_loss: 1.2280 - val_accuracy: 0.8779\n",
            "\n",
            "Epoch 00015: val_accuracy did not improve from 0.88040\n",
            "Epoch 16/20\n",
            "2500/2500 [==============================] - 754s 302ms/step - loss: 0.9278 - accuracy: 0.9672 - val_loss: 1.2291 - val_accuracy: 0.8780\n",
            "\n",
            "Epoch 00016: ReduceLROnPlateau reducing learning rate to 0.0003124999930150807.\n",
            "\n",
            "Epoch 00016: val_accuracy did not improve from 0.88040\n",
            "Epoch 17/20\n",
            "2500/2500 [==============================] - 752s 301ms/step - loss: 0.9243 - accuracy: 0.9693 - val_loss: 1.2311 - val_accuracy: 0.8772\n",
            "\n",
            "Epoch 00017: val_accuracy did not improve from 0.88040\n",
            "Epoch 18/20\n",
            "2500/2500 [==============================] - 753s 301ms/step - loss: 0.9202 - accuracy: 0.9701 - val_loss: 1.2301 - val_accuracy: 0.8785\n",
            "\n",
            "Epoch 00018: val_accuracy did not improve from 0.88040\n",
            "Epoch 19/20\n",
            "2500/2500 [==============================] - 752s 301ms/step - loss: 0.9224 - accuracy: 0.9695 - val_loss: 1.2277 - val_accuracy: 0.8785\n",
            "\n",
            "Epoch 00019: ReduceLROnPlateau reducing learning rate to 0.00015624999650754035.\n",
            "\n",
            "Epoch 00019: val_accuracy did not improve from 0.88040\n",
            "Epoch 20/20\n",
            " 839/2500 [=========>....................] - ETA: 7:50 - loss: 0.9156 - accuracy: 0.9706"
          ],
          "name": "stdout"
        }
      ]
    },
    {
      "cell_type": "code",
      "metadata": {
        "id": "HPBDo_c_BW0T"
      },
      "source": [
        "# Save lại history của train_2\n",
        "np.save('/content/drive/MyDrive/effnetv2s-sgd-cutout-2.npy',H_2.history)"
      ],
      "execution_count": null,
      "outputs": []
    },
    {
      "cell_type": "code",
      "metadata": {
        "id": "323viqqhvz6-"
      },
      "source": [
        "# Load best model để đánh giá trên tập test\n",
        "loaded_model_1 = keras.models.load_model('/content/drive/MyDrive/effnetv2s-sgd-cutout.h5',custom_objects={'KerasLayer': hub.KerasLayer})"
      ],
      "execution_count": 3,
      "outputs": []
    },
    {
      "cell_type": "code",
      "metadata": {
        "id": "dS9hcLiMv7l2",
        "colab": {
          "base_uri": "https://localhost:8080/"
        },
        "outputId": "0f2f0510-9d49-4078-df81-00128fa4fa23"
      },
      "source": [
        "# Kết quả đánh giá trên tập test : 87.42%\n",
        "score = loaded_model_1.evaluate(X_test, y_test)\n",
        "print(f'Test loss: {score[0]:.4f}')\n",
        "print(f'Test accuracy: {score[1]:.4f}')"
      ],
      "execution_count": 14,
      "outputs": [
        {
          "output_type": "stream",
          "text": [
            "313/313 [==============================] - 45s 142ms/step - loss: 1.2260 - accuracy: 0.8742\n",
            "Test loss: 1.2260\n",
            "Test accuracy: 0.8742\n"
          ],
          "name": "stdout"
        }
      ]
    },
    {
      "cell_type": "code",
      "metadata": {
        "id": "rHD1AeiCogU9"
      },
      "source": [
        "# load history để visualize loss, accuracy\n",
        "his = np.load('/content/drive/MyDrive/history-cifar100.npy',allow_pickle='TRUE').item()"
      ],
      "execution_count": 32,
      "outputs": []
    },
    {
      "cell_type": "code",
      "metadata": {
        "colab": {
          "base_uri": "https://localhost:8080/",
          "height": 295
        },
        "id": "CNG3poM_pNVi",
        "outputId": "ed30af0e-de34-4a24-8d7a-3f9a1b983024"
      },
      "source": [
        "# Visualize accuracy\n",
        "plt.plot(his['accuracy'])\n",
        "plt.plot(his['val_accuracy'])\n",
        "plt.title('Accuracy Comparing')\n",
        "plt.ylabel('accuracy')\n",
        "plt.xlabel('epoch')\n",
        "plt.legend(['train', 'val'], loc='upper left')\n",
        "plt.show()"
      ],
      "execution_count": 36,
      "outputs": [
        {
          "output_type": "display_data",
          "data": {
            "image/png": "[encoded data removed]",
            "text/plain": [
              "<Figure size 432x288 with 1 Axes>"
            ]
          },
          "metadata": {
            "tags": [],
            "needs_background": "light"
          }
        }
      ]
    },
    {
      "cell_type": "code",
      "metadata": {
        "colab": {
          "base_uri": "https://localhost:8080/",
          "height": 295
        },
        "id": "HJZ2QX9mr0Sw",
        "outputId": "79aff18a-b0e9-4cd1-ffe0-ad7fb891fd29"
      },
      "source": [
        "# Visualize loss\n",
        "plt.plot(his['loss'])\n",
        "plt.plot(his['val_loss'])\n",
        "plt.title('Loss Comparing')\n",
        "plt.ylabel('loss')\n",
        "plt.xlabel('epoch')\n",
        "plt.legend(['train', 'val'], loc='upper left')\n",
        "plt.show()"
      ],
      "execution_count": 38,
      "outputs": [
        {
          "output_type": "display_data",
          "data": {
            "image/png": "[encoded data removed]",
            "text/plain": [
              "<Figure size 432x288 with 1 Axes>"
            ]
          },
          "metadata": {
            "tags": [],
            "needs_background": "light"
          }
        }
      ]
    },
    {
      "cell_type": "code",
      "metadata": {
        "colab": {
          "base_uri": "https://localhost:8080/",
          "height": 295
        },
        "id": "dIIwiK7esA6h",
        "outputId": "f87dd726-6177-4c8d-dda6-fec41624d39b"
      },
      "source": [
        "# Visualize learning rate\n",
        "plt.plot(his['lr'])\n",
        "plt.title('LR Visualizing')\n",
        "plt.ylabel('learning rate')\n",
        "plt.xlabel('epoch')\n",
        "plt.show()"
      ],
      "execution_count": 39,
      "outputs": [
        {
          "output_type": "display_data",
          "data": {
            "image/png": "[encoded data removed]",
            "text/plain": [
              "<Figure size 432x288 with 1 Axes>"
            ]
          },
          "metadata": {
            "tags": [],
            "needs_background": "light"
          }
        }
      ]
    }
  ]
}