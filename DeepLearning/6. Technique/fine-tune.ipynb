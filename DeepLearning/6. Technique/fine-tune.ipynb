{
 "cells": [
  {
   "cell_type": "code",
   "execution_count": 5,
   "metadata": {
    "colab": {
     "base_uri": "https://localhost:8080/"
    },
    "executionInfo": {
     "elapsed": 310,
     "status": "ok",
     "timestamp": 1625237729406,
     "user": {
      "displayName": "Minh Hiếu Phùng",
      "photoUrl": "https://lh3.googleusercontent.com/a-/AOh14GgGtgz36bIRqqPUoN8ACRUJbc4weoGdk4XmB_8bXg=s64",
      "userId": "06029783178480672997"
     },
     "user_tz": -420
    },
    "id": "LHjLZI8QtWbu",
    "outputId": "416fe2cf-2800-47c0-dda2-88386a83338d"
   },
   "outputs": [
    {
     "name": "stdout",
     "output_type": "stream",
     "text": [
      "Drive already mounted at /content/drive; to attempt to forcibly remount, call drive.mount(\"/content/drive\", force_remount=True).\n"
     ]
    }
   ],
   "source": [
    "from google.colab import drive\n",
    "drive.mount('/content/drive')"
   ]
  },
  {
   "cell_type": "code",
   "execution_count": 4,
   "metadata": {
    "executionInfo": {
     "elapsed": 321,
     "status": "ok",
     "timestamp": 1625237724898,
     "user": {
      "displayName": "Minh Hiếu Phùng",
      "photoUrl": "https://lh3.googleusercontent.com/a-/AOh14GgGtgz36bIRqqPUoN8ACRUJbc4weoGdk4XmB_8bXg=s64",
      "userId": "06029783178480672997"
     },
     "user_tz": -420
    },
    "id": "b10ALk1iXqsG"
   },
   "outputs": [],
   "source": [
    "# Thêm thư viện\n",
    "from sklearn.linear_model import LogisticRegression\n",
    "from sklearn.model_selection import GridSearchCV\n",
    "from sklearn.metrics import classification_report\n",
    "from imutils import paths\n",
    "\n",
    "from keras.applications.vgg16 import VGG16\n",
    "from keras.applications import imagenet_utils\n",
    "from keras.preprocessing.image import img_to_array\n",
    "from keras.preprocessing.image import load_img\n",
    "from sklearn.preprocessing import LabelEncoder\n",
    "from sklearn.preprocessing import LabelBinarizer\n",
    "from sklearn.model_selection import train_test_split\n",
    "from keras.preprocessing.image import ImageDataGenerator\n",
    "from keras.optimizers import SGD\n",
    "from keras.optimizers import RMSprop\n",
    "from keras.layers import Input\n",
    "from keras.models import Model\n",
    "from keras.layers.core import Dense\n",
    "from keras.layers.core import Dropout\n",
    "from keras.layers.core import Flatten\n",
    "import numpy as np\n",
    "import random\n",
    "import os"
   ]
  },
  {
   "cell_type": "code",
   "execution_count": 6,
   "metadata": {
    "executionInfo": {
     "elapsed": 4230,
     "status": "ok",
     "timestamp": 1625237774364,
     "user": {
      "displayName": "Minh Hiếu Phùng",
      "photoUrl": "https://lh3.googleusercontent.com/a-/AOh14GgGtgz36bIRqqPUoN8ACRUJbc4weoGdk4XmB_8bXg=s64",
      "userId": "06029783178480672997"
     },
     "user_tz": -420
    },
    "id": "U1jK8ZmHXqsL"
   },
   "outputs": [],
   "source": [
    "# Lấy các đường dẫn đến ảnh.\n",
    "image_path = list(paths.list_images('/content/drive/MyDrive/DeepLearning/6. Technique/dataset/'))\n",
    "\n",
    "# Đổi vị trí ngẫu nhiên các đường dẫn ảnh\n",
    "random.shuffle(image_path)"
   ]
  },
  {
   "cell_type": "code",
   "execution_count": 7,
   "metadata": {
    "executionInfo": {
     "elapsed": 302,
     "status": "ok",
     "timestamp": 1625237780899,
     "user": {
      "displayName": "Minh Hiếu Phùng",
      "photoUrl": "https://lh3.googleusercontent.com/a-/AOh14GgGtgz36bIRqqPUoN8ACRUJbc4weoGdk4XmB_8bXg=s64",
      "userId": "06029783178480672997"
     },
     "user_tz": -420
    },
    "id": "NYCBdaC8XqsO"
   },
   "outputs": [],
   "source": [
    "# Đường dẫn ảnh sẽ là dataset/tên_loài_hoa/tên_ảnh ví dụ dataset/Bluebell/image_0241.jpg nên p.split(os.path.sep)[-2] sẽ lấy ra được tên loài hoa\n",
    "labels = [p.split(os.path.sep)[-2] for p in image_path]\n",
    "\n",
    "# Chuyển tên các loài hoa thành số\n",
    "le = LabelEncoder()\n",
    "labels = le.fit_transform(labels)\n",
    "\n",
    "# One-hot encoding\n",
    "lb = LabelBinarizer()\n",
    "labels = lb.fit_transform(labels)"
   ]
  },
  {
   "cell_type": "code",
   "execution_count": 8,
   "metadata": {
    "executionInfo": {
     "elapsed": 457761,
     "status": "ok",
     "timestamp": 1625238242074,
     "user": {
      "displayName": "Minh Hiếu Phùng",
      "photoUrl": "https://lh3.googleusercontent.com/a-/AOh14GgGtgz36bIRqqPUoN8ACRUJbc4weoGdk4XmB_8bXg=s64",
      "userId": "06029783178480672997"
     },
     "user_tz": -420
    },
    "id": "_B3RztEjXqsR"
   },
   "outputs": [],
   "source": [
    "# Load ảnh và resize về đúng kích thước mà VGG 16 cần là (224,224)\n",
    "list_image = []\n",
    "for (j, imagePath) in enumerate(image_path):\n",
    "    image = load_img(imagePath, target_size=(224, 224))\n",
    "    image = img_to_array(image)\n",
    "    \n",
    "    image = np.expand_dims(image, 0)\n",
    "    image = imagenet_utils.preprocess_input(image)\n",
    "    \n",
    "    list_image.append(image)\n",
    "    \n",
    "list_image = np.vstack(list_image)"
   ]
  },
  {
   "cell_type": "code",
   "execution_count": 9,
   "metadata": {
    "colab": {
     "base_uri": "https://localhost:8080/"
    },
    "executionInfo": {
     "elapsed": 5892,
     "status": "ok",
     "timestamp": 1625238529679,
     "user": {
      "displayName": "Minh Hiếu Phùng",
      "photoUrl": "https://lh3.googleusercontent.com/a-/AOh14GgGtgz36bIRqqPUoN8ACRUJbc4weoGdk4XmB_8bXg=s64",
      "userId": "06029783178480672997"
     },
     "user_tz": -420
    },
    "id": "UEqyYudDXqsU",
    "outputId": "275c63ab-8a26-4a3b-ecc0-598d3e3c3137"
   },
   "outputs": [
    {
     "name": "stdout",
     "output_type": "stream",
     "text": [
      "Downloading data from https://storage.googleapis.com/tensorflow/keras-applications/vgg16/vgg16_weights_tf_dim_ordering_tf_kernels_notop.h5\n",
      "58892288/58889256 [==============================] - 1s 0us/step\n",
      "58900480/58889256 [==============================] - 1s 0us/step\n"
     ]
    }
   ],
   "source": [
    "# Load model VGG 16 của ImageNet dataset, include_top=False để bỏ phần Fully connected layer ở cuối.\n",
    "baseModel = VGG16(weights='imagenet', include_top=False, input_tensor=Input(shape=(224, 224, 3)))\n",
    "\n",
    "# Xây thêm các layer\n",
    "# Lấy output của ConvNet trong VGG16\n",
    "fcHead = baseModel.output\n",
    "\n",
    "# CNN \n",
    "\n",
    "# Flatten trước khi dùng FCs\n",
    "fcHead = Flatten(name='flatten')(fcHead)\n",
    "\n",
    "'''\n",
    "s = Sequential()\n",
    "s.add(Dense(256))\n",
    "s.add(Dropout())\n",
    "s.add(Dense(17))\n",
    "'''\n",
    "\n",
    "# Thêm FC\n",
    "fcHead = Dense(256, activation='relu')(fcHead)\n",
    "fcHead = Dropout(0.5)(fcHead)\n",
    "\n",
    "# Output layer với softmax activation\n",
    "fcHead = Dense(17, activation='softmax')(fcHead)\n",
    "\n",
    "# Xây dựng model bằng việc nối ConvNet của VGG16 và fcHead\n",
    "model = Model(inputs=baseModel.input, outputs=fcHead)"
   ]
  },
  {
   "cell_type": "code",
   "execution_count": 10,
   "metadata": {
    "executionInfo": {
     "elapsed": 399,
     "status": "ok",
     "timestamp": 1625238539301,
     "user": {
      "displayName": "Minh Hiếu Phùng",
      "photoUrl": "https://lh3.googleusercontent.com/a-/AOh14GgGtgz36bIRqqPUoN8ACRUJbc4weoGdk4XmB_8bXg=s64",
      "userId": "06029783178480672997"
     },
     "user_tz": -420
    },
    "id": "2IKzZxJyXqsW"
   },
   "outputs": [],
   "source": [
    "# Chia traing set, test set tỉ lệ 80-20\n",
    "X_train, X_test, y_train, y_test = train_test_split(list_image, labels, test_size=0.2, random_state=42)"
   ]
  },
  {
   "cell_type": "code",
   "execution_count": 11,
   "metadata": {
    "executionInfo": {
     "elapsed": 4,
     "status": "ok",
     "timestamp": 1625238540915,
     "user": {
      "displayName": "Minh Hiếu Phùng",
      "photoUrl": "https://lh3.googleusercontent.com/a-/AOh14GgGtgz36bIRqqPUoN8ACRUJbc4weoGdk4XmB_8bXg=s64",
      "userId": "06029783178480672997"
     },
     "user_tz": -420
    },
    "id": "Z__04QyRXqsZ"
   },
   "outputs": [],
   "source": [
    "# augmentation cho training data\n",
    "aug_train = ImageDataGenerator(rescale=1./255, rotation_range=30, width_shift_range=0.1, height_shift_range=0.1, shear_range=0.2, \n",
    "                         zoom_range=0.2, horizontal_flip=True, fill_mode='nearest')\n",
    "# augementation cho test\n",
    "aug_test= ImageDataGenerator(rescale=1./255)"
   ]
  },
  {
   "cell_type": "code",
   "execution_count": 12,
   "metadata": {
    "colab": {
     "base_uri": "https://localhost:8080/"
    },
    "executionInfo": {
     "elapsed": 380748,
     "status": "ok",
     "timestamp": 1625238923363,
     "user": {
      "displayName": "Minh Hiếu Phùng",
      "photoUrl": "https://lh3.googleusercontent.com/a-/AOh14GgGtgz36bIRqqPUoN8ACRUJbc4weoGdk4XmB_8bXg=s64",
      "userId": "06029783178480672997"
     },
     "user_tz": -420
    },
    "id": "Mi4ndSPOXqsc",
    "outputId": "f330b246-a136-4e49-9db3-fe62fc63f23d"
   },
   "outputs": [
    {
     "name": "stderr",
     "output_type": "stream",
     "text": [
      "/usr/local/lib/python3.7/dist-packages/keras/engine/training.py:1915: UserWarning: `Model.fit_generator` is deprecated and will be removed in a future version. Please use `Model.fit`, which supports generators.\n",
      "  warnings.warn('`Model.fit_generator` is deprecated and '\n"
     ]
    },
    {
     "name": "stdout",
     "output_type": "stream",
     "text": [
      "Epoch 1/25\n",
      "34/34 [==============================] - 61s 369ms/step - loss: 8.6167 - accuracy: 0.1145 - val_loss: 2.0872 - val_accuracy: 0.3047\n",
      "Epoch 2/25\n",
      "34/34 [==============================] - 12s 358ms/step - loss: 2.3152 - accuracy: 0.2862 - val_loss: 1.7794 - val_accuracy: 0.4531\n",
      "Epoch 3/25\n",
      "34/34 [==============================] - 12s 358ms/step - loss: 1.9257 - accuracy: 0.3757 - val_loss: 1.3569 - val_accuracy: 0.5625\n",
      "Epoch 4/25\n",
      "34/34 [==============================] - 12s 358ms/step - loss: 1.6747 - accuracy: 0.4602 - val_loss: 1.1480 - val_accuracy: 0.6484\n",
      "Epoch 5/25\n",
      "34/34 [==============================] - 12s 355ms/step - loss: 1.4781 - accuracy: 0.5248 - val_loss: 1.0677 - val_accuracy: 0.6875\n",
      "Epoch 6/25\n",
      "34/34 [==============================] - 12s 357ms/step - loss: 1.4095 - accuracy: 0.5376 - val_loss: 0.9036 - val_accuracy: 0.7227\n",
      "Epoch 7/25\n",
      "34/34 [==============================] - 12s 355ms/step - loss: 1.2817 - accuracy: 0.5822 - val_loss: 0.9484 - val_accuracy: 0.7070\n",
      "Epoch 8/25\n",
      "34/34 [==============================] - 12s 356ms/step - loss: 1.1843 - accuracy: 0.6359 - val_loss: 0.9304 - val_accuracy: 0.6992\n",
      "Epoch 9/25\n",
      "34/34 [==============================] - 12s 358ms/step - loss: 1.1519 - accuracy: 0.6131 - val_loss: 0.6959 - val_accuracy: 0.8008\n",
      "Epoch 10/25\n",
      "34/34 [==============================] - 12s 355ms/step - loss: 1.1218 - accuracy: 0.6175 - val_loss: 0.6964 - val_accuracy: 0.8281\n",
      "Epoch 11/25\n",
      "34/34 [==============================] - 12s 357ms/step - loss: 1.0428 - accuracy: 0.6563 - val_loss: 0.7844 - val_accuracy: 0.7344\n",
      "Epoch 12/25\n",
      "34/34 [==============================] - 12s 356ms/step - loss: 0.9194 - accuracy: 0.6886 - val_loss: 0.5956 - val_accuracy: 0.8281\n",
      "Epoch 13/25\n",
      "34/34 [==============================] - 12s 357ms/step - loss: 0.9272 - accuracy: 0.6837 - val_loss: 0.5715 - val_accuracy: 0.8711\n",
      "Epoch 14/25\n",
      "34/34 [==============================] - 12s 358ms/step - loss: 0.8938 - accuracy: 0.6915 - val_loss: 0.5723 - val_accuracy: 0.8203\n",
      "Epoch 15/25\n",
      "34/34 [==============================] - 12s 360ms/step - loss: 0.9735 - accuracy: 0.6924 - val_loss: 0.6198 - val_accuracy: 0.7891\n",
      "Epoch 16/25\n",
      "34/34 [==============================] - 12s 362ms/step - loss: 0.8941 - accuracy: 0.7139 - val_loss: 0.6797 - val_accuracy: 0.8047\n",
      "Epoch 17/25\n",
      "34/34 [==============================] - 12s 360ms/step - loss: 0.8208 - accuracy: 0.7191 - val_loss: 0.5235 - val_accuracy: 0.8359\n",
      "Epoch 18/25\n",
      "34/34 [==============================] - 12s 360ms/step - loss: 0.7942 - accuracy: 0.7347 - val_loss: 0.5306 - val_accuracy: 0.8438\n",
      "Epoch 19/25\n",
      "34/34 [==============================] - 12s 359ms/step - loss: 0.7707 - accuracy: 0.7245 - val_loss: 0.5002 - val_accuracy: 0.8281\n",
      "Epoch 20/25\n",
      "34/34 [==============================] - 12s 361ms/step - loss: 0.7063 - accuracy: 0.7664 - val_loss: 0.5309 - val_accuracy: 0.8359\n",
      "Epoch 21/25\n",
      "34/34 [==============================] - 12s 360ms/step - loss: 0.7446 - accuracy: 0.7558 - val_loss: 0.5270 - val_accuracy: 0.8320\n",
      "Epoch 22/25\n",
      "34/34 [==============================] - 12s 359ms/step - loss: 0.7509 - accuracy: 0.7750 - val_loss: 0.4387 - val_accuracy: 0.8672\n",
      "Epoch 23/25\n",
      "34/34 [==============================] - 12s 359ms/step - loss: 0.7288 - accuracy: 0.7621 - val_loss: 0.4798 - val_accuracy: 0.8672\n",
      "Epoch 24/25\n",
      "34/34 [==============================] - 12s 358ms/step - loss: 0.6560 - accuracy: 0.7945 - val_loss: 0.4458 - val_accuracy: 0.8867\n",
      "Epoch 25/25\n",
      "34/34 [==============================] - 12s 363ms/step - loss: 0.6254 - accuracy: 0.7921 - val_loss: 0.5062 - val_accuracy: 0.8477\n"
     ]
    }
   ],
   "source": [
    "# freeze VGG model\n",
    "for layer in baseModel.layers:\n",
    "    layer.trainable = False\n",
    "    \n",
    "opt = RMSprop(0.001)\n",
    "model.compile(opt, 'categorical_crossentropy', ['accuracy'])\n",
    "numOfEpoch = 25\n",
    "H = model.fit_generator(aug_train.flow(X_train, y_train, batch_size=32), \n",
    "                        steps_per_epoch=len(X_train)//32,\n",
    "                        validation_data=(aug_test.flow(X_test, y_test, batch_size=32)),\n",
    "                        validation_steps=len(X_test)//32,\n",
    "                        epochs=numOfEpoch)"
   ]
  },
  {
   "cell_type": "code",
   "execution_count": 13,
   "metadata": {
    "colab": {
     "base_uri": "https://localhost:8080/"
    },
    "executionInfo": {
     "elapsed": 456569,
     "status": "ok",
     "timestamp": 1625239476928,
     "user": {
      "displayName": "Minh Hiếu Phùng",
      "photoUrl": "https://lh3.googleusercontent.com/a-/AOh14GgGtgz36bIRqqPUoN8ACRUJbc4weoGdk4XmB_8bXg=s64",
      "userId": "06029783178480672997"
     },
     "user_tz": -420
    },
    "id": "KlV-PQZxXqse",
    "outputId": "d7223bed-7447-4da5-f79b-3dd768a21339"
   },
   "outputs": [
    {
     "name": "stderr",
     "output_type": "stream",
     "text": [
      "/usr/local/lib/python3.7/dist-packages/keras/engine/training.py:1915: UserWarning: `Model.fit_generator` is deprecated and will be removed in a future version. Please use `Model.fit`, which supports generators.\n",
      "  warnings.warn('`Model.fit_generator` is deprecated and '\n"
     ]
    },
    {
     "name": "stdout",
     "output_type": "stream",
     "text": [
      "Epoch 1/35\n",
      "34/34 [==============================] - 16s 379ms/step - loss: 0.6351 - accuracy: 0.7732 - val_loss: 0.3415 - val_accuracy: 0.9062\n",
      "Epoch 2/35\n",
      "34/34 [==============================] - 13s 374ms/step - loss: 0.4918 - accuracy: 0.8231 - val_loss: 0.3387 - val_accuracy: 0.9062\n",
      "Epoch 3/35\n",
      "34/34 [==============================] - 13s 369ms/step - loss: 0.4653 - accuracy: 0.8418 - val_loss: 0.3380 - val_accuracy: 0.8945\n",
      "Epoch 4/35\n",
      "34/34 [==============================] - 13s 371ms/step - loss: 0.4414 - accuracy: 0.8648 - val_loss: 0.3398 - val_accuracy: 0.9023\n",
      "Epoch 5/35\n",
      "34/34 [==============================] - 13s 373ms/step - loss: 0.3888 - accuracy: 0.8771 - val_loss: 0.3121 - val_accuracy: 0.9219\n",
      "Epoch 6/35\n",
      "34/34 [==============================] - 13s 374ms/step - loss: 0.4297 - accuracy: 0.8488 - val_loss: 0.2673 - val_accuracy: 0.9219\n",
      "Epoch 7/35\n",
      "34/34 [==============================] - 13s 368ms/step - loss: 0.3816 - accuracy: 0.8603 - val_loss: 0.3187 - val_accuracy: 0.9062\n",
      "Epoch 8/35\n",
      "34/34 [==============================] - 13s 367ms/step - loss: 0.3501 - accuracy: 0.8751 - val_loss: 0.2898 - val_accuracy: 0.9141\n",
      "Epoch 9/35\n",
      "34/34 [==============================] - 12s 364ms/step - loss: 0.3489 - accuracy: 0.8791 - val_loss: 0.2578 - val_accuracy: 0.9180\n",
      "Epoch 10/35\n",
      "34/34 [==============================] - 12s 359ms/step - loss: 0.4507 - accuracy: 0.8537 - val_loss: 0.2911 - val_accuracy: 0.9258\n",
      "Epoch 11/35\n",
      "34/34 [==============================] - 12s 365ms/step - loss: 0.3668 - accuracy: 0.8702 - val_loss: 0.2853 - val_accuracy: 0.9180\n",
      "Epoch 12/35\n",
      "34/34 [==============================] - 13s 367ms/step - loss: 0.3330 - accuracy: 0.8892 - val_loss: 0.2451 - val_accuracy: 0.9141\n",
      "Epoch 13/35\n",
      "34/34 [==============================] - 12s 363ms/step - loss: 0.3550 - accuracy: 0.8770 - val_loss: 0.2673 - val_accuracy: 0.9219\n",
      "Epoch 14/35\n",
      "34/34 [==============================] - 12s 364ms/step - loss: 0.3657 - accuracy: 0.8698 - val_loss: 0.2816 - val_accuracy: 0.9219\n",
      "Epoch 15/35\n",
      "34/34 [==============================] - 12s 360ms/step - loss: 0.4111 - accuracy: 0.8591 - val_loss: 0.2864 - val_accuracy: 0.9258\n",
      "Epoch 16/35\n",
      "34/34 [==============================] - 12s 360ms/step - loss: 0.3328 - accuracy: 0.8972 - val_loss: 0.2651 - val_accuracy: 0.9180\n",
      "Epoch 17/35\n",
      "34/34 [==============================] - 12s 361ms/step - loss: 0.3403 - accuracy: 0.8782 - val_loss: 0.2431 - val_accuracy: 0.9414\n",
      "Epoch 18/35\n",
      "34/34 [==============================] - 12s 362ms/step - loss: 0.3030 - accuracy: 0.8928 - val_loss: 0.2754 - val_accuracy: 0.9336\n",
      "Epoch 19/35\n",
      "34/34 [==============================] - 12s 361ms/step - loss: 0.3596 - accuracy: 0.8889 - val_loss: 0.2557 - val_accuracy: 0.9219\n",
      "Epoch 20/35\n",
      "34/34 [==============================] - 12s 362ms/step - loss: 0.3297 - accuracy: 0.8776 - val_loss: 0.2350 - val_accuracy: 0.9219\n",
      "Epoch 21/35\n",
      "34/34 [==============================] - 12s 362ms/step - loss: 0.2748 - accuracy: 0.8942 - val_loss: 0.2350 - val_accuracy: 0.9258\n",
      "Epoch 22/35\n",
      "34/34 [==============================] - 13s 366ms/step - loss: 0.3027 - accuracy: 0.8995 - val_loss: 0.2646 - val_accuracy: 0.9258\n",
      "Epoch 23/35\n",
      "34/34 [==============================] - 13s 366ms/step - loss: 0.3180 - accuracy: 0.8841 - val_loss: 0.2166 - val_accuracy: 0.9336\n",
      "Epoch 24/35\n",
      "34/34 [==============================] - 12s 364ms/step - loss: 0.2607 - accuracy: 0.9067 - val_loss: 0.2767 - val_accuracy: 0.9258\n",
      "Epoch 25/35\n",
      "34/34 [==============================] - 12s 364ms/step - loss: 0.3286 - accuracy: 0.8723 - val_loss: 0.1983 - val_accuracy: 0.9414\n",
      "Epoch 26/35\n",
      "34/34 [==============================] - 12s 361ms/step - loss: 0.3405 - accuracy: 0.8798 - val_loss: 0.2616 - val_accuracy: 0.9375\n",
      "Epoch 27/35\n",
      "34/34 [==============================] - 12s 364ms/step - loss: 0.3243 - accuracy: 0.8907 - val_loss: 0.2690 - val_accuracy: 0.9219\n",
      "Epoch 28/35\n",
      "34/34 [==============================] - 12s 359ms/step - loss: 0.3149 - accuracy: 0.8849 - val_loss: 0.2531 - val_accuracy: 0.9180\n",
      "Epoch 29/35\n",
      "34/34 [==============================] - 12s 361ms/step - loss: 0.2716 - accuracy: 0.9058 - val_loss: 0.2615 - val_accuracy: 0.9102\n",
      "Epoch 30/35\n",
      "34/34 [==============================] - 12s 362ms/step - loss: 0.3214 - accuracy: 0.8813 - val_loss: 0.2509 - val_accuracy: 0.9297\n",
      "Epoch 31/35\n",
      "34/34 [==============================] - 12s 362ms/step - loss: 0.3124 - accuracy: 0.8849 - val_loss: 0.2494 - val_accuracy: 0.9297\n",
      "Epoch 32/35\n",
      "34/34 [==============================] - 12s 364ms/step - loss: 0.2710 - accuracy: 0.9015 - val_loss: 0.2341 - val_accuracy: 0.9297\n",
      "Epoch 33/35\n",
      "34/34 [==============================] - 12s 361ms/step - loss: 0.2954 - accuracy: 0.8948 - val_loss: 0.2531 - val_accuracy: 0.9258\n",
      "Epoch 34/35\n",
      "34/34 [==============================] - 12s 363ms/step - loss: 0.2451 - accuracy: 0.9038 - val_loss: 0.2564 - val_accuracy: 0.9375\n",
      "Epoch 35/35\n",
      "34/34 [==============================] - 12s 362ms/step - loss: 0.2463 - accuracy: 0.9148 - val_loss: 0.2359 - val_accuracy: 0.9375\n"
     ]
    }
   ],
   "source": [
    "# unfreeze some last CNN layer:\n",
    "for layer in baseModel.layers[15:]:\n",
    "    layer.trainable = True\n",
    "\n",
    "numOfEpoch = 35\n",
    "opt = SGD(0.001)\n",
    "model.compile(opt, 'categorical_crossentropy', ['accuracy'])\n",
    "H = model.fit_generator(aug_train.flow(X_train, y_train, batch_size=32), \n",
    "                        steps_per_epoch=len(X_train)//32,\n",
    "                        validation_data=(aug_test.flow(X_test, y_test, batch_size=32)),\n",
    "                        validation_steps=len(X_test)//32,\n",
    "                        epochs=numOfEpoch)"
   ]
  }
 ],
 "metadata": {
  "accelerator": "GPU",
  "colab": {
   "collapsed_sections": [],
   "name": "fine-tune.ipynb",
   "provenance": []
  },
  "kernelspec": {
   "display_name": "Python 3",
   "language": "python",
   "name": "python3"
  },
  "language_info": {
   "codemirror_mode": {
    "name": "ipython",
    "version": 3
   },
   "file_extension": ".py",
   "mimetype": "text/x-python",
   "name": "python",
   "nbconvert_exporter": "python",
   "pygments_lexer": "ipython3",
   "version": "3.8.8"
  }
 },
 "nbformat": 4,
 "nbformat_minor": 1
}
