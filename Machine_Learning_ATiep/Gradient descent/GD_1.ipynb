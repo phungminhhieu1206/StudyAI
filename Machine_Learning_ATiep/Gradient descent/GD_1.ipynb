{
 "cells": [
  {
   "cell_type": "code",
   "execution_count": 1,
   "id": "1c26bb3f",
   "metadata": {},
   "outputs": [],
   "source": [
    "from __future__ import division, print_function, unicode_literals\n",
    "import math\n",
    "import numpy as np\n",
    "import matplotlib.pyplot as plt"
   ]
  },
  {
   "cell_type": "markdown",
   "id": "9d053605",
   "metadata": {},
   "source": [
    "* Hàm số: $f(x) = x^2 + 5\\sin(x)$\n",
    "* Đạo hàm: $f'(x) = 2x +5\\cos(x)$\n",
    "* => Không dễ để giải $f'(x) = 0$"
   ]
  },
  {
   "cell_type": "code",
   "execution_count": 2,
   "id": "58812ecd",
   "metadata": {},
   "outputs": [],
   "source": [
    "# Tính đạo hàm\n",
    "def grad(x):\n",
    "    return 2*x+ 5*np.cos(x)\n",
    "\n",
    "# Kiểm tra xem giá trị của hàm số có giảm theo mỗi vòng lặp không ?\n",
    "def cost(x):\n",
    "    return x**2 + 5*np.sin(x)\n",
    "\n",
    "# Thuật toán gradient descent: input (eta: learning_rate, x0: start point)\n",
    "def myGD1(eta, x0):\n",
    "    x = [x0]\n",
    "    for it in range(100):\n",
    "        x_new = x[-1] - eta*grad(x[-1])\n",
    "        if abs(grad(x_new)) < 1e-3:\n",
    "            break\n",
    "        x.append(x_new)\n",
    "    return (x, it)"
   ]
  },
  {
   "cell_type": "code",
   "execution_count": 4,
   "id": "062bb58a",
   "metadata": {},
   "outputs": [
    {
     "name": "stdout",
     "output_type": "stream",
     "text": [
      "Solution x1 = -1.110667, cost = -3.246394, obtained after 11 iterations\n",
      "Solution x2 = -1.110341, cost = -3.246394, obtained after 29 iterations\n"
     ]
    }
   ],
   "source": [
    "# Thử nghiệm với 2 input start point là: x0 = -5 và x0 = 5\n",
    "(x1, it1) = myGD1(.1, -5)\n",
    "(x2, it2) = myGD1(.1, 5)\n",
    "print('Solution x1 = %f, cost = %f, obtained after %d iterations'%(x1[-1], cost(x1[-1]), it1))\n",
    "print('Solution x2 = %f, cost = %f, obtained after %d iterations'%(x2[-1], cost(x2[-1]), it2))"
   ]
  },
  {
   "cell_type": "code",
   "execution_count": null,
   "id": "ef3f5a6f",
   "metadata": {},
   "outputs": [],
   "source": []
  },
  {
   "cell_type": "code",
   "execution_count": null,
   "id": "487d19fd",
   "metadata": {},
   "outputs": [],
   "source": []
  }
 ],
 "metadata": {
  "kernelspec": {
   "display_name": "Python 3",
   "language": "python",
   "name": "python3"
  },
  "language_info": {
   "codemirror_mode": {
    "name": "ipython",
    "version": 3
   },
   "file_extension": ".py",
   "mimetype": "text/x-python",
   "name": "python",
   "nbconvert_exporter": "python",
   "pygments_lexer": "ipython3",
   "version": "3.8.8"
  }
 },
 "nbformat": 4,
 "nbformat_minor": 5
}
