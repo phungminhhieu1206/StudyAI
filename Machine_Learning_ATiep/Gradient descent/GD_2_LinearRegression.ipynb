{
 "cells": [
  {
   "cell_type": "code",
   "execution_count": 4,
   "id": "81faabcd",
   "metadata": {},
   "outputs": [],
   "source": [
    "from __future__ import division, print_function, unicode_literals\n",
    "import numpy as np \n",
    "import matplotlib\n",
    "import matplotlib.pyplot as plt\n",
    "np.random.seed(2) # Khởi tạo trình tạo số ngẫu nhiên"
   ]
  },
  {
   "cell_type": "markdown",
   "id": "edaa6f04",
   "metadata": {},
   "source": [
    "Tiếp theo, chúng ta tạo 1000 điểm dữ liệu được chọn gần với đường thẳng $y = 4 + 3x$, hiển thị chúng và tìm nghiệm theo công thức:\n",
    "Chúng ta đang hướng đến trọng số: $w_0 = 4, w_1 = 3$"
   ]
  },
  {
   "cell_type": "code",
   "execution_count": null,
   "id": "96626642",
   "metadata": {},
   "outputs": [],
   "source": []
  },
  {
   "cell_type": "code",
   "execution_count": 5,
   "id": "f4d0377d",
   "metadata": {},
   "outputs": [],
   "source": [
    "# Sinh dữ liệu ngẫu nhiên, dữ liệu gần với đồ thị hàm xác định f(x) + alpha.noise\n",
    "# 1000 điểm trong khoảng 0-1\n",
    "X = np.random.rand(1000, 1)\n",
    "y = 4 + 3 * X + .2*np.random.randn(1000, 1) # noise added"
   ]
  },
  {
   "cell_type": "code",
   "execution_count": 11,
   "id": "93537da9",
   "metadata": {},
   "outputs": [
    {
     "data": {
      "text/plain": [
       "array([ 0. ,  6.4, 12.8, 19.2, 25.6])"
      ]
     },
     "execution_count": 11,
     "metadata": {},
     "output_type": "execute_result"
    }
   ],
   "source": [
    "a = np.linspace(0, 32, 5, endpoint = False)\n",
    "a"
   ]
  },
  {
   "cell_type": "code",
   "execution_count": 30,
   "id": "16ea1934",
   "metadata": {},
   "outputs": [
    {
     "name": "stdout",
     "output_type": "stream",
     "text": [
      "Solution found by formula: w =  [[4.0071715  2.98225924]]\n"
     ]
    },
    {
     "data": {
      "image/png": "[encoded data removed]",
      "text/plain": [
       "<Figure size 432x288 with 1 Axes>"
      ]
     },
     "metadata": {
      "needs_background": "light"
     },
     "output_type": "display_data"
    }
   ],
   "source": [
    "# Building Xbar \n",
    "one = np.ones((X.shape[0],1))\n",
    "Xbar = np.concatenate((one, X), axis = 1)\n",
    "\n",
    "A = np.dot(Xbar.T, Xbar)\n",
    "b = np.dot(Xbar.T, y)\n",
    "w_lr = np.dot(np.linalg.pinv(A), b) # Nghiệm theo công thức\n",
    "print('Solution found by formula: w = ',w_lr.T)\n",
    "\n",
    "# Display result\n",
    "w = w_lr\n",
    "w_0 = w[0][0]\n",
    "w_1 = w[1][0]\n",
    "x0 = np.linspace(0, 1, 2, endpoint=True)\n",
    "y0 = w_0 + w_1*x0\n",
    "\n",
    "# Draw the fitting line\n",
    "plt.plot(X.T, y.T, \"b.\")     # data\n",
    "plt.plot(x0, y0, 'r', linewidth = 2)   # the fitting line\n",
    "plt.axis([0, 1, 0, 10])\n",
    "plt.show()"
   ]
  },
  {
   "cell_type": "markdown",
   "id": "57a09acf",
   "metadata": {},
   "source": [
    "### Thử với gradient descent. Viết đạo hàm và hàm mất mát"
   ]
  },
  {
   "cell_type": "markdown",
   "id": "f21ea4eb",
   "metadata": {},
   "source": [
    "$\\mathcal{L}(\\mathbf{w}) = \\frac{1}{2N}||\\mathbf{y - \\bar{X}w}||_2^2$"
   ]
  },
  {
   "cell_type": "markdown",
   "id": "0f0a0595",
   "metadata": {},
   "source": [
    "$\\nabla_{\\mathbf{w}}\\mathcal{L}(\\mathbf{w}) = \n",
    "\\frac{1}{N}\\mathbf{\\bar{X}}^T \\mathbf{(\\bar{X}w - y)} ~~~~~(1)$"
   ]
  },
  {
   "cell_type": "code",
   "execution_count": 5,
   "id": "05800b3c",
   "metadata": {},
   "outputs": [],
   "source": [
    "def grad(w):\n",
    "    N = Xbar.shape[0]\n",
    "    return 1/N * Xbar.T.dot(Xbar.dot(w) - y)\n",
    "\n",
    "def cost(w):\n",
    "    N = Xbar.shape[0]\n",
    "    return .5/N*np.linalg.norm(y - Xbar.dot(w), 2)**2;"
   ]
  },
  {
   "cell_type": "markdown",
   "id": "f021b1ea",
   "metadata": {},
   "source": [
    "### Kiểm tra đạo hàm: với $\\varepsilon \\approx 10^{-6}$ \n",
    "* Dựa vào tính chất của đạo hàm:\n",
    "\n",
    "$f’(x) = \\lim_{\\varepsilon \\rightarrow 0}\\frac{f(x + \\varepsilon) - f(x)}{\\varepsilon}$\n",
    "* Công thức xấp xỉ: \n",
    "\n",
    "$f’(x) \\approx \\frac{f(x + \\varepsilon) - f(x - \\varepsilon)}{2\\varepsilon} ~~~~ (2)$"
   ]
  },
  {
   "cell_type": "code",
   "execution_count": 7,
   "id": "13c315de",
   "metadata": {},
   "outputs": [
    {
     "name": "stdout",
     "output_type": "stream",
     "text": [
      "Checking gradient... True\n"
     ]
    }
   ],
   "source": [
    "# Kiểm tra đạo hàm\n",
    "def numerical_grad(w, cost):\n",
    "    eps = 1e-4\n",
    "    g = np.zeros_like(w)\n",
    "    for i in range(len(w)):\n",
    "        w_p = w.copy()\n",
    "        w_n = w.copy()\n",
    "        w_p[i] += eps \n",
    "        w_n[i] -= eps\n",
    "        g[i] = (cost(w_p) - cost(w_n))/(2*eps)\n",
    "    return g \n",
    "\n",
    "def check_grad(w, cost, grad):\n",
    "    w = np.random.rand(w.shape[0], w.shape[1])\n",
    "    grad1 = grad(w)\n",
    "    grad2 = numerical_grad(w, cost)\n",
    "    return True if np.linalg.norm(grad1 - grad2) < 1e-6 else False \n",
    "\n",
    "print( 'Checking gradient...', check_grad(np.random.rand(2, 1), cost, grad))"
   ]
  },
  {
   "cell_type": "code",
   "execution_count": 6,
   "id": "df4929b4",
   "metadata": {},
   "outputs": [
    {
     "name": "stdout",
     "output_type": "stream",
     "text": [
      "Solution found by GD: w =  [[4.02199496 2.95380036]] ,\n",
      "after 50 iterations.\n"
     ]
    }
   ],
   "source": [
    "def myGD(w_init, grad, eta):\n",
    "    w = [w_init]\n",
    "    for it in range(100):\n",
    "        w_new = w[-1] - eta*grad(w[-1])\n",
    "        if np.linalg.norm(grad(w_new))/len(w_new) < 1e-3:\n",
    "            break \n",
    "        w.append(w_new)\n",
    "    return (w, it) \n",
    "\n",
    "w_init = np.array([[2], [1]])\n",
    "(w1, it1) = myGD(w_init, grad, 1)\n",
    "print('Solution found by GD: w = ', w1[-1].T, ',\\nafter %d iterations.' %(it1+1))"
   ]
  },
  {
   "cell_type": "code",
   "execution_count": null,
   "id": "bcffdd03",
   "metadata": {},
   "outputs": [],
   "source": []
  },
  {
   "cell_type": "code",
   "execution_count": null,
   "id": "38151231",
   "metadata": {},
   "outputs": [],
   "source": []
  }
 ],
 "metadata": {
  "kernelspec": {
   "display_name": "Python 3",
   "language": "python",
   "name": "python3"
  },
  "language_info": {
   "codemirror_mode": {
    "name": "ipython",
    "version": 3
   },
   "file_extension": ".py",
   "mimetype": "text/x-python",
   "name": "python",
   "nbconvert_exporter": "python",
   "pygments_lexer": "ipython3",
   "version": "3.8.8"
  }
 },
 "nbformat": 4,
 "nbformat_minor": 5
}
