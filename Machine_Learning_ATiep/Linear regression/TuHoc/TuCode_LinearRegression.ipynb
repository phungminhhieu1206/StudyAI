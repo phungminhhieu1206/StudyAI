{
 "cells": [
  {
   "cell_type": "code",
   "execution_count": 3,
   "id": "4548d532",
   "metadata": {},
   "outputs": [],
   "source": [
    "# Bước 1\n",
    "from __future__ import division, print_function, unicode_literals\n",
    "import numpy as np \n",
    "import matplotlib.pyplot as plt"
   ]
  },
  {
   "cell_type": "code",
   "execution_count": 5,
   "id": "eb9d1bd7",
   "metadata": {},
   "outputs": [
    {
     "name": "stdout",
     "output_type": "stream",
     "text": [
      "[[147 150 153 158 163 165 168 170 173 175 178 180 183]]\n",
      "[[49 50 51 54 58 59 60 62 63 64 66 67 68]]\n"
     ]
    }
   ],
   "source": [
    "# Bước 2: Dữ liệu dạng matrix (array 2D)\n",
    "# height (cm)\n",
    "X = np.array([[147, 150, 153, 158, 163, 165, 168, 170, 173, 175, 178, 180, 183]]).T\n",
    "print(X.T)\n",
    "# weight (kg)\n",
    "y = np.array([[ 49, 50, 51,  54, 58, 59, 60, 62, 63, 64, 66, 67, 68]]).T\n",
    "print(y.T)"
   ]
  },
  {
   "cell_type": "code",
   "execution_count": 13,
   "id": "ddd3a47b",
   "metadata": {},
   "outputs": [
    {
     "data": {
      "text/plain": [
       "Text(0, 0.5, 'Weight(kg)')"
      ]
     },
     "execution_count": 13,
     "metadata": {},
     "output_type": "execute_result"
    },
    {
     "data": {
      "image/png": "[encoded data removed]",
      "text/plain": [
       "<Figure size 432x288 with 1 Axes>"
      ]
     },
     "metadata": {
      "needs_background": "light"
     },
     "output_type": "display_data"
    }
   ],
   "source": [
    "# Visualize\n",
    "plt.scatter(X, y, color=\"red\")\n",
    "plt.axis([np.min(X)-5, np.max(X)+5, np.min(y)-5, np.max(y)+5])\n",
    "plt.xlabel(\"Height(cm)\")\n",
    "plt.ylabel(\"Weight(kg)\")"
   ]
  },
  {
   "cell_type": "code",
   "execution_count": 14,
   "id": "842a2679",
   "metadata": {},
   "outputs": [
    {
     "data": {
      "text/plain": [
       "(13, 1)"
      ]
     },
     "execution_count": 14,
     "metadata": {},
     "output_type": "execute_result"
    }
   ],
   "source": [
    "X.shape"
   ]
  },
  {
   "cell_type": "code",
   "execution_count": 18,
   "id": "3dceb67c",
   "metadata": {},
   "outputs": [
    {
     "data": {
      "text/plain": [
       "array([[  1., 147.],\n",
       "       [  1., 150.],\n",
       "       [  1., 153.],\n",
       "       [  1., 158.],\n",
       "       [  1., 163.],\n",
       "       [  1., 165.],\n",
       "       [  1., 168.],\n",
       "       [  1., 170.],\n",
       "       [  1., 173.],\n",
       "       [  1., 175.],\n",
       "       [  1., 178.],\n",
       "       [  1., 180.],\n",
       "       [  1., 183.]])"
      ]
     },
     "execution_count": 18,
     "metadata": {},
     "output_type": "execute_result"
    }
   ],
   "source": [
    "# Bước 3: Chuẩn hóa dữ liệu X_bar\n",
    "one = np.ones((X.shape[0], 1))\n",
    "X_bar = np.concatenate((one, X), axis=1)\n",
    "X_bar"
   ]
  },
  {
   "cell_type": "code",
   "execution_count": 21,
   "id": "9b1c94d3",
   "metadata": {},
   "outputs": [],
   "source": [
    "# Bước 4: Tính trọng số w\n",
    "A = np.dot(X_bar.T, X_bar)\n",
    "b = np.dot(X_bar.T, y)\n",
    "w = np.dot(np.linalg.pinv(A), b)"
   ]
  },
  {
   "cell_type": "code",
   "execution_count": 22,
   "id": "f27ecd39",
   "metadata": {},
   "outputs": [
    {
     "data": {
      "text/plain": [
       "array([[-33.73541021],\n",
       "       [  0.55920496]])"
      ]
     },
     "execution_count": 22,
     "metadata": {},
     "output_type": "execute_result"
    }
   ],
   "source": [
    "w"
   ]
  },
  {
   "cell_type": "code",
   "execution_count": 33,
   "id": "b6cc600c",
   "metadata": {},
   "outputs": [],
   "source": [
    "# Bước 5: Vẽ model\n",
    "# Ta cần 2 điểm\n",
    "x_0 = np.linspace(np.min(X)-3, np.max(X)+3, 2, dtype=\"float32\")\n",
    "y_0 = w[0][0] + w[1][0] * x_0"
   ]
  },
  {
   "cell_type": "code",
   "execution_count": 34,
   "id": "a930f71c",
   "metadata": {},
   "outputs": [
    {
     "data": {
      "text/plain": [
       "array([46.790104, 70.2767  ], dtype=float32)"
      ]
     },
     "execution_count": 34,
     "metadata": {},
     "output_type": "execute_result"
    }
   ],
   "source": [
    "y_0"
   ]
  },
  {
   "cell_type": "code",
   "execution_count": 37,
   "id": "cd188416",
   "metadata": {},
   "outputs": [
    {
     "data": {
      "text/plain": [
       "Text(0, 0.5, 'Weight(kg)')"
      ]
     },
     "execution_count": 37,
     "metadata": {},
     "output_type": "execute_result"
    },
    {
     "data": {
      "image/png": "[encoded data removed]",
      "text/plain": [
       "<Figure size 432x288 with 1 Axes>"
      ]
     },
     "metadata": {
      "needs_background": "light"
     },
     "output_type": "display_data"
    }
   ],
   "source": [
    "plt.plot(x_0, y_0, color=\"red\")\n",
    "plt.scatter(X, y, color=\"blue\")\n",
    "plt.axis([np.min(X)-5, np.max(X)+5, np.min(y)-5, np.max(y)+5])\n",
    "plt.xlabel(\"Height(cm)\")\n",
    "plt.ylabel(\"Weight(kg)\")"
   ]
  },
  {
   "cell_type": "code",
   "execution_count": 38,
   "id": "472e6bea",
   "metadata": {},
   "outputs": [],
   "source": [
    "# Bước 6: Dự đoán bằng model đã có:\n",
    "x_predict = np.array([[170, 158]])\n",
    "y_predict = w[0][0] + w[1][0] * x_predict"
   ]
  },
  {
   "cell_type": "code",
   "execution_count": 39,
   "id": "13ff0973",
   "metadata": {},
   "outputs": [
    {
     "name": "stdout",
     "output_type": "stream",
     "text": [
      "[[61.32943332 54.61897378]]\n"
     ]
    }
   ],
   "source": [
    "print(y_predict)"
   ]
  }
 ],
 "metadata": {
  "kernelspec": {
   "display_name": "Python 3",
   "language": "python",
   "name": "python3"
  },
  "language_info": {
   "codemirror_mode": {
    "name": "ipython",
    "version": 3
   },
   "file_extension": ".py",
   "mimetype": "text/x-python",
   "name": "python",
   "nbconvert_exporter": "python",
   "pygments_lexer": "ipython3",
   "version": "3.8.8"
  }
 },
 "nbformat": 4,
 "nbformat_minor": 5
}
